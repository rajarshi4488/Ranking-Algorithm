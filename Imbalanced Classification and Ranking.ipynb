{
 "cells": [
  {
   "cell_type": "markdown",
   "id": "b0282a5a",
   "metadata": {},
   "source": [
    "## <u>FDA Risky Inspection Prediction and Facility Risk Ranking</u>"
   ]
  },
  {
   "cell_type": "markdown",
   "id": "35dc5e82",
   "metadata": {},
   "source": [
    "US-FDA inspects around 14000 facilities each financial year. Operational wise it is a nightmare to compile the inspection schedule for inspectors. This becomes more problematic for cities like Los Angeles, Miami, etc. which have high concentrations of such facilities. There is also a possibility of missing out on some high-risk facilities for inspection.\n",
    "\n",
    "Using data analysis and machine learning we can calculate the risk associated with each facility and subsequently rank them based on the risk. Also, given the inspection plan, we can predict if the facilities to be evaluated are in severe violation of the applicable laws and regulations and if official action needs to be taken.\n",
    "\n",
    "Authorities will do better inspection/operation planning in a financial year. Ranking of facilities will help to streamline the inspection schedule, reducing operation costs. Also, it will ensure that all high-risk facilities are inspected first.\n",
    "\n",
    "Data Source :- https://datadashboard.fda.gov/ora/cd/inspections.htm\n",
    "\n",
    "<b>Ranking</b>\n",
    "\n",
    "Risk means what is the likelihood of official action for inspection by state, city, product type, etc considering factors like the number of inspections conducted, number of FEI, etc. We then rank the FEI by the risk factor. The below chart shows the methodology of calculation of risk at various levels and the calculation of rank from the risk.\n",
    "\n",
    "\n",
    "<b>Risk calculation at product level</b>\n",
    "\tRisk at product type is calculated using count of inspections resulting in official action, number of FEI, number of inspections cities, state, project type, legal name aggregated by product\n",
    "\n",
    "<b>Risk calculation at state level</b>\n",
    "\tRisk at product type is calculated using count of inspections resulting in official action, number of FEI, number of inspections, cities, legal name aggregated by state\n",
    "\n",
    "<b>Risk calculation at city level</b>\n",
    "\tRisk at product type is calculated using count of inspections resulting in official action, number of FEI, number of inspections, legal name aggregated by city\n",
    "\n",
    "<b>Risk calculation at organizational level</b>\n",
    "\tRisk at product type is calculated using count of inspections resulting in official action, number of FEI, number of inspections aggregated by legal name\n",
    "\n",
    "<b>Risk calculation at FEI level</b>\n",
    "\tRisk at product type is calculated using count of inspections resulting in official action number of inspections aggregated by FEI\n",
    "    \n",
    "<b>Final Risk Calculation</b>\n",
    "\n",
    "Final risk of FEI is calculated by first calculating the weights of each level and then calculating the weighted average of the risks of different levels. For example risk_at_FEI = weight1*risk_at_product_level +weight2*risk_at_city_level + weight3*risk_at_state_level…….\n",
    "\n",
    "After the final risk calculation, the rank of each FEI is calculated(the higher the risk, the higher the ranking)\n",
    "\n",
    "Finally percentile is calculated from the rank\n",
    "\n",
    "\n",
    "<b>Classification</b>\n",
    "\n",
    "<b>Objective of classification</b> To build a predictive model to identify inspection that will result in official action given the legal name, time, place and project area of the inspection. This predictive model is applicable once the inspection plan is laid out for a given financial year.\n",
    "\n",
    "<b>Feature selection</b> Created multiple features based on recency & frequency of official action, risk factors, inspection citation, etc. The most important features are selected to build the final model.\n",
    "\n",
    "<b>Imbalanced classification</b> The data set was suffering from an imbalanced classification problem meaning inspection resulting in official action is very low compared to other inspection result types. We used SMOTE oversampling technique and threshold moving to address this imbalanced classification issue.\n",
    "\n",
    "<b>Testing different machine learning model</b> We used both tree-based and linear models for training. Tree-based model included xgboost, balancedregressortreeclassifier, light gradient boosting, ada boost, extra tree classifier, etc. Linear models included logistic regression, LDA, naive bayes etc.\n",
    "\n",
    "<b>Tuning of model and selection of top model</b> BalancedRegressorTreeClassifier was chosen as the final model based on its recall and F1 score. Tuning of the model is done to further improve recall and F1 score\n",
    "\n",
    "Final prediction on test dataset Finally, the tuned model is applied to the test data set and the result is analyzed\n"
   ]
  },
  {
   "cell_type": "code",
   "execution_count": 1,
   "id": "6ebb639d",
   "metadata": {},
   "outputs": [
    {
     "name": "stderr",
     "output_type": "stream",
     "text": [
      "C:\\Users\\ghoshr\\Desktop\\lib\\site-packages\\numpy\\_distributor_init.py:32: UserWarning: loaded more than 1 DLL from .libs:\n",
      "C:\\Users\\ghoshr\\Desktop\\lib\\site-packages\\numpy\\.libs\\libopenblas.4SP5SUA7CBGXUEOC35YP2ASOICYYEQZZ.gfortran-win_amd64.dll\n",
      "C:\\Users\\ghoshr\\Desktop\\lib\\site-packages\\numpy\\.libs\\libopenblas.WCDJNK7YVMPZQ2ME2ZZHJJRJ3JIKNDB7.gfortran-win_amd64.dll\n",
      "  stacklevel=1)\n"
     ]
    }
   ],
   "source": [
    "import pandas as pd\n",
    "import numpy as np\n",
    "import matplotlib.pyplot as plt\n",
    "import seaborn as sn\n",
    "from pycaret.classification import *"
   ]
  },
  {
   "cell_type": "markdown",
   "id": "9d56be7e",
   "metadata": {},
   "source": [
    "1) Target Encoding</br>\n",
    "2) Imbalance Classification</br>\n",
    "3) Dividing data into test and train</br>\n",
    "4) Model Evaluation</br>\n",
    "5) Stacked Model</br>\n",
    "6) Probaility calculation</br>\n",
    "7) Risk Analysis</br>"
   ]
  },
  {
   "cell_type": "code",
   "execution_count": 2,
   "id": "7e4e99b7",
   "metadata": {},
   "outputs": [],
   "source": [
    "##Target Encoding"
   ]
  },
  {
   "cell_type": "code",
   "execution_count": 3,
   "id": "4a1325af",
   "metadata": {},
   "outputs": [],
   "source": [
    "master_data_df = pd.read_excel(\"Target Encoding.xlsx\",sheet_name=\"Sheet1\",engine='openpyxl')"
   ]
  },
  {
   "cell_type": "code",
   "execution_count": 4,
   "id": "30bbbf6e",
   "metadata": {},
   "outputs": [],
   "source": [
    "master_data_df['FEI Number'] = master_data_df[\"FEI Number\"].astype(str)\n",
    "master_data_df[\"Inspection ID\"] = master_data_df[\"Inspection ID\"].astype(str)"
   ]
  },
  {
   "cell_type": "markdown",
   "id": "a4089dd9",
   "metadata": {},
   "source": [
    "<b>Ranking By Balanced Logistic Regrssion</b>"
   ]
  },
  {
   "cell_type": "code",
   "execution_count": 5,
   "id": "684c3f3e",
   "metadata": {},
   "outputs": [
    {
     "data": {
      "text/html": [
       "<div>\n",
       "<style scoped>\n",
       "    .dataframe tbody tr th:only-of-type {\n",
       "        vertical-align: middle;\n",
       "    }\n",
       "\n",
       "    .dataframe tbody tr th {\n",
       "        vertical-align: top;\n",
       "    }\n",
       "\n",
       "    .dataframe thead th {\n",
       "        text-align: right;\n",
       "    }\n",
       "</style>\n",
       "<table border=\"1\" class=\"dataframe\">\n",
       "  <thead>\n",
       "    <tr style=\"text-align: right;\">\n",
       "      <th></th>\n",
       "      <th>FEI Number</th>\n",
       "      <th>Risk_Factor_FEI</th>\n",
       "    </tr>\n",
       "  </thead>\n",
       "  <tbody>\n",
       "    <tr>\n",
       "      <th>0</th>\n",
       "      <td>1000014971.0</td>\n",
       "      <td>0.0</td>\n",
       "    </tr>\n",
       "    <tr>\n",
       "      <th>1</th>\n",
       "      <td>1000015879.0</td>\n",
       "      <td>0.0</td>\n",
       "    </tr>\n",
       "  </tbody>\n",
       "</table>\n",
       "</div>"
      ],
      "text/plain": [
       "     FEI Number  Risk_Factor_FEI\n",
       "0  1000014971.0              0.0\n",
       "1  1000015879.0              0.0"
      ]
     },
     "execution_count": 5,
     "metadata": {},
     "output_type": "execute_result"
    }
   ],
   "source": [
    "##FEI\n",
    "temp_FEI = master_data_df.groupby([\"FEI Number\"],as_index=False).agg(count_of_OAI = ('Category OAI','sum'),count_of_Inspection=('Inspection ID','nunique'))\n",
    "temp_FEI['Risk_Factor_FEI'] = (temp_FEI['count_of_OAI']/temp_FEI['count_of_Inspection'])*np.log(temp_FEI['count_of_Inspection'])\n",
    "temp_FEI.sort_values(by=\"Risk_Factor_FEI\",ascending=False)\n",
    "temp_FEI = temp_FEI[[\"FEI Number\",\"Risk_Factor_FEI\"]]\n",
    "temp_FEI.head(2)"
   ]
  },
  {
   "cell_type": "code",
   "execution_count": 6,
   "id": "45dd55d0",
   "metadata": {},
   "outputs": [
    {
     "data": {
      "text/html": [
       "<div>\n",
       "<style scoped>\n",
       "    .dataframe tbody tr th:only-of-type {\n",
       "        vertical-align: middle;\n",
       "    }\n",
       "\n",
       "    .dataframe tbody tr th {\n",
       "        vertical-align: top;\n",
       "    }\n",
       "\n",
       "    .dataframe thead th {\n",
       "        text-align: right;\n",
       "    }\n",
       "</style>\n",
       "<table border=\"1\" class=\"dataframe\">\n",
       "  <thead>\n",
       "    <tr style=\"text-align: right;\">\n",
       "      <th></th>\n",
       "      <th>Legal Name</th>\n",
       "      <th>Risk_Factor_Legal_Name</th>\n",
       "    </tr>\n",
       "  </thead>\n",
       "  <tbody>\n",
       "    <tr>\n",
       "      <th>0</th>\n",
       "      <td>.Decimal LLC</td>\n",
       "      <td>0.0</td>\n",
       "    </tr>\n",
       "    <tr>\n",
       "      <th>1</th>\n",
       "      <td>1000 Islands Fisheries</td>\n",
       "      <td>0.0</td>\n",
       "    </tr>\n",
       "  </tbody>\n",
       "</table>\n",
       "</div>"
      ],
      "text/plain": [
       "               Legal Name  Risk_Factor_Legal_Name\n",
       "0            .Decimal LLC                     0.0\n",
       "1  1000 Islands Fisheries                     0.0"
      ]
     },
     "execution_count": 6,
     "metadata": {},
     "output_type": "execute_result"
    }
   ],
   "source": [
    "##Legal Name\n",
    "temp_ln = master_data_df.groupby([\"Legal Name\"],as_index=False).agg(count_of_OAI = ('Category OAI','sum'),count_of_Inspection=('Inspection ID','nunique'))\n",
    "temp_ln['Risk_Factor_Legal_Name'] = (temp_ln['count_of_OAI']/temp_ln['count_of_Inspection'])*np.log(temp_ln['count_of_Inspection'])\n",
    "temp_ln.sort_values(by=\"Risk_Factor_Legal_Name\",ascending=False)\n",
    "temp_ln = temp_ln[[\"Legal Name\",\"Risk_Factor_Legal_Name\"]]\n",
    "temp_ln.head(2)"
   ]
  },
  {
   "cell_type": "code",
   "execution_count": 7,
   "id": "9bca2de4",
   "metadata": {},
   "outputs": [
    {
     "data": {
      "text/html": [
       "<div>\n",
       "<style scoped>\n",
       "    .dataframe tbody tr th:only-of-type {\n",
       "        vertical-align: middle;\n",
       "    }\n",
       "\n",
       "    .dataframe tbody tr th {\n",
       "        vertical-align: top;\n",
       "    }\n",
       "\n",
       "    .dataframe thead th {\n",
       "        text-align: right;\n",
       "    }\n",
       "</style>\n",
       "<table border=\"1\" class=\"dataframe\">\n",
       "  <thead>\n",
       "    <tr style=\"text-align: right;\">\n",
       "      <th></th>\n",
       "      <th>City</th>\n",
       "      <th>Risk_Factor_City</th>\n",
       "    </tr>\n",
       "  </thead>\n",
       "  <tbody>\n",
       "    <tr>\n",
       "      <th>0</th>\n",
       "      <td>Abbeville</td>\n",
       "      <td>0.0</td>\n",
       "    </tr>\n",
       "    <tr>\n",
       "      <th>1</th>\n",
       "      <td>Abbott Park</td>\n",
       "      <td>0.0</td>\n",
       "    </tr>\n",
       "  </tbody>\n",
       "</table>\n",
       "</div>"
      ],
      "text/plain": [
       "          City  Risk_Factor_City\n",
       "0    Abbeville               0.0\n",
       "1  Abbott Park               0.0"
      ]
     },
     "execution_count": 7,
     "metadata": {},
     "output_type": "execute_result"
    }
   ],
   "source": [
    "##City\n",
    "temp_City = master_data_df.groupby([\"City\"],as_index=False).agg(count_of_OAI = ('Category OAI','sum'),count_of_Inspection=('Inspection ID','nunique'))\n",
    "temp_City['Risk_Factor_Legal_Name'] = (temp_City['count_of_OAI']/temp_City['count_of_Inspection'])*np.log(temp_City['count_of_Inspection'])\n",
    "temp_City.sort_values(by=\"Risk_Factor_Legal_Name\",ascending=False)\n",
    "temp_City = temp_City[[\"City\",\"Risk_Factor_Legal_Name\"]]\n",
    "temp_City.columns = [\"City\",\"Risk_Factor_City\"]\n",
    "temp_City.head(2)"
   ]
  },
  {
   "cell_type": "code",
   "execution_count": 8,
   "id": "9ca580f4",
   "metadata": {},
   "outputs": [
    {
     "data": {
      "text/html": [
       "<div>\n",
       "<style scoped>\n",
       "    .dataframe tbody tr th:only-of-type {\n",
       "        vertical-align: middle;\n",
       "    }\n",
       "\n",
       "    .dataframe tbody tr th {\n",
       "        vertical-align: top;\n",
       "    }\n",
       "\n",
       "    .dataframe thead th {\n",
       "        text-align: right;\n",
       "    }\n",
       "</style>\n",
       "<table border=\"1\" class=\"dataframe\">\n",
       "  <thead>\n",
       "    <tr style=\"text-align: right;\">\n",
       "      <th></th>\n",
       "      <th>State</th>\n",
       "      <th>Risk_Factor_State</th>\n",
       "    </tr>\n",
       "  </thead>\n",
       "  <tbody>\n",
       "    <tr>\n",
       "      <th>0</th>\n",
       "      <td>Alabama</td>\n",
       "      <td>1.338175</td>\n",
       "    </tr>\n",
       "    <tr>\n",
       "      <th>1</th>\n",
       "      <td>Alaska</td>\n",
       "      <td>0.053637</td>\n",
       "    </tr>\n",
       "  </tbody>\n",
       "</table>\n",
       "</div>"
      ],
      "text/plain": [
       "     State  Risk_Factor_State\n",
       "0  Alabama           1.338175\n",
       "1   Alaska           0.053637"
      ]
     },
     "execution_count": 8,
     "metadata": {},
     "output_type": "execute_result"
    }
   ],
   "source": [
    "##State\n",
    "temp_State = master_data_df.groupby([\"State\"],as_index=False).agg(count_of_OAI = ('Category OAI','sum'),count_of_Inspection=('Inspection ID','nunique'))\n",
    "temp_State['Risk_Factor_Legal_Name'] = (temp_State['count_of_OAI']/temp_State['count_of_Inspection'])*np.log(temp_State['count_of_Inspection'])\n",
    "temp_State.sort_values(by=\"Risk_Factor_Legal_Name\",ascending=False)\n",
    "temp_State = temp_State[[\"State\",\"Risk_Factor_Legal_Name\"]]\n",
    "temp_State.columns = [\"State\",\"Risk_Factor_State\"]\n",
    "temp_State.head(2)"
   ]
  },
  {
   "cell_type": "code",
   "execution_count": 9,
   "id": "b9f65938",
   "metadata": {},
   "outputs": [
    {
     "data": {
      "text/html": [
       "<div>\n",
       "<style scoped>\n",
       "    .dataframe tbody tr th:only-of-type {\n",
       "        vertical-align: middle;\n",
       "    }\n",
       "\n",
       "    .dataframe tbody tr th {\n",
       "        vertical-align: top;\n",
       "    }\n",
       "\n",
       "    .dataframe thead th {\n",
       "        text-align: right;\n",
       "    }\n",
       "</style>\n",
       "<table border=\"1\" class=\"dataframe\">\n",
       "  <thead>\n",
       "    <tr style=\"text-align: right;\">\n",
       "      <th></th>\n",
       "      <th>Project Area</th>\n",
       "      <th>Risk_Factor_Project Area</th>\n",
       "    </tr>\n",
       "  </thead>\n",
       "  <tbody>\n",
       "    <tr>\n",
       "      <th>0</th>\n",
       "      <td>Bioresearch Monitoring</td>\n",
       "      <td>0.785710</td>\n",
       "    </tr>\n",
       "    <tr>\n",
       "      <th>1</th>\n",
       "      <td>Blood and Blood Products</td>\n",
       "      <td>0.187742</td>\n",
       "    </tr>\n",
       "  </tbody>\n",
       "</table>\n",
       "</div>"
      ],
      "text/plain": [
       "               Project Area  Risk_Factor_Project Area\n",
       "0    Bioresearch Monitoring                  0.785710\n",
       "1  Blood and Blood Products                  0.187742"
      ]
     },
     "execution_count": 9,
     "metadata": {},
     "output_type": "execute_result"
    }
   ],
   "source": [
    "##Project Area\n",
    "temp_Project_Area = master_data_df.groupby([\"Project Area\"],as_index=False).agg(count_of_OAI = ('Category OAI','sum'),count_of_Inspection=('Inspection ID','nunique'))\n",
    "temp_Project_Area['Risk_Factor_Legal_Name'] = (temp_Project_Area['count_of_OAI']/temp_Project_Area['count_of_Inspection'])*np.log(temp_Project_Area['count_of_Inspection'])\n",
    "temp_Project_Area.sort_values(by=\"Risk_Factor_Legal_Name\",ascending=False)\n",
    "temp_Project_Area = temp_Project_Area[[\"Project Area\",\"Risk_Factor_Legal_Name\"]]\n",
    "temp_Project_Area.columns = [\"Project Area\",\"Risk_Factor_Project Area\"]\n",
    "temp_Project_Area.head(2)"
   ]
  },
  {
   "cell_type": "code",
   "execution_count": 10,
   "id": "9c822096",
   "metadata": {},
   "outputs": [
    {
     "data": {
      "text/html": [
       "<div>\n",
       "<style scoped>\n",
       "    .dataframe tbody tr th:only-of-type {\n",
       "        vertical-align: middle;\n",
       "    }\n",
       "\n",
       "    .dataframe tbody tr th {\n",
       "        vertical-align: top;\n",
       "    }\n",
       "\n",
       "    .dataframe thead th {\n",
       "        text-align: right;\n",
       "    }\n",
       "</style>\n",
       "<table border=\"1\" class=\"dataframe\">\n",
       "  <thead>\n",
       "    <tr style=\"text-align: right;\">\n",
       "      <th></th>\n",
       "      <th>Product Type</th>\n",
       "      <th>Risk_Factor_Product_Type</th>\n",
       "    </tr>\n",
       "  </thead>\n",
       "  <tbody>\n",
       "    <tr>\n",
       "      <th>0</th>\n",
       "      <td>Biologics</td>\n",
       "      <td>0.403594</td>\n",
       "    </tr>\n",
       "    <tr>\n",
       "      <th>1</th>\n",
       "      <td>Devices</td>\n",
       "      <td>1.502583</td>\n",
       "    </tr>\n",
       "  </tbody>\n",
       "</table>\n",
       "</div>"
      ],
      "text/plain": [
       "  Product Type  Risk_Factor_Product_Type\n",
       "0    Biologics                  0.403594\n",
       "1      Devices                  1.502583"
      ]
     },
     "execution_count": 10,
     "metadata": {},
     "output_type": "execute_result"
    }
   ],
   "source": [
    "##Product Type\n",
    "temp_Product_Type = master_data_df.groupby([\"Product Type\"],as_index=False).agg(count_of_OAI = ('Category OAI','sum'),count_of_Inspection=('Inspection ID','nunique'))\n",
    "temp_Product_Type['Risk_Factor_Legal_Name'] = (temp_Product_Type['count_of_OAI']/temp_Product_Type['count_of_Inspection'])*np.log(temp_Product_Type['count_of_Inspection'])\n",
    "temp_Product_Type.sort_values(by=\"Risk_Factor_Legal_Name\",ascending=False)\n",
    "temp_Product_Type = temp_Product_Type[[\"Product Type\",\"Risk_Factor_Legal_Name\"]]\n",
    "temp_Product_Type.columns = [\"Product Type\",\"Risk_Factor_Product_Type\"]\n",
    "temp_Product_Type.head(2)"
   ]
  },
  {
   "cell_type": "markdown",
   "id": "6e0f467a",
   "metadata": {},
   "source": [
    "<b>Master File Creation</b>"
   ]
  },
  {
   "cell_type": "code",
   "execution_count": 11,
   "id": "7d24e943",
   "metadata": {},
   "outputs": [],
   "source": [
    "master_data_main_df = pd.read_excel(\"Master File Evaluation.xlsx\",sheet_name=\"Master Sheet\",engine='openpyxl')"
   ]
  },
  {
   "cell_type": "code",
   "execution_count": 12,
   "id": "65addb0e",
   "metadata": {},
   "outputs": [],
   "source": [
    "master_data_main_df['FEI Number'] = master_data_main_df[\"FEI Number\"].astype(str)\n",
    "master_data_main_df[\"Inspection ID\"] = master_data_main_df[\"Inspection ID\"].astype(str)"
   ]
  },
  {
   "cell_type": "code",
   "execution_count": 13,
   "id": "9f10af42",
   "metadata": {},
   "outputs": [],
   "source": [
    "master_data_main_df = master_data_main_df.merge(temp_FEI,left_on=\"FEI Number\",right_on=\"FEI Number\",how=\"left\")\n",
    "master_data_main_df[\"Risk_Factor_FEI\"].fillna(0,inplace=True)"
   ]
  },
  {
   "cell_type": "code",
   "execution_count": 14,
   "id": "7dc3e469",
   "metadata": {},
   "outputs": [],
   "source": [
    "master_data_main_df = master_data_main_df.merge(temp_ln,left_on=\"Legal Name\",right_on=\"Legal Name\",how=\"left\")\n",
    "master_data_main_df[\"Risk_Factor_Legal_Name\"].fillna(0,inplace=True)"
   ]
  },
  {
   "cell_type": "code",
   "execution_count": 15,
   "id": "a8d1784f",
   "metadata": {},
   "outputs": [],
   "source": [
    "master_data_main_df = master_data_main_df.merge(temp_City,left_on=\"City\",right_on=\"City\",how=\"left\")\n",
    "master_data_main_df[\"Risk_Factor_City\"].fillna(0,inplace=True)"
   ]
  },
  {
   "cell_type": "code",
   "execution_count": 16,
   "id": "940ef21f",
   "metadata": {},
   "outputs": [],
   "source": [
    "master_data_main_df = master_data_main_df.merge(temp_State,left_on=\"State\",right_on=\"State\",how=\"left\")\n",
    "master_data_main_df[\"Risk_Factor_State\"].fillna(0,inplace=True)"
   ]
  },
  {
   "cell_type": "code",
   "execution_count": 17,
   "id": "2c8a792a",
   "metadata": {},
   "outputs": [],
   "source": [
    "master_data_main_df = master_data_main_df.merge(temp_Project_Area,left_on=\"Project Area\",right_on=\"Project Area\",how=\"left\")\n",
    "master_data_main_df[\"Risk_Factor_Project Area\"].fillna(0,inplace=True)"
   ]
  },
  {
   "cell_type": "code",
   "execution_count": 18,
   "id": "90c8a4cd",
   "metadata": {},
   "outputs": [],
   "source": [
    "master_data_main_df = master_data_main_df.merge(temp_Product_Type,left_on=\"Product Type\",right_on=\"Product Type\",how=\"left\")\n",
    "master_data_main_df[\"Risk_Factor_Product_Type\"].fillna(0,inplace=True)"
   ]
  },
  {
   "cell_type": "code",
   "execution_count": 22,
   "id": "8ec81575",
   "metadata": {},
   "outputs": [
    {
     "data": {
      "text/html": [
       "<div>\n",
       "<style scoped>\n",
       "    .dataframe tbody tr th:only-of-type {\n",
       "        vertical-align: middle;\n",
       "    }\n",
       "\n",
       "    .dataframe tbody tr th {\n",
       "        vertical-align: top;\n",
       "    }\n",
       "\n",
       "    .dataframe thead th {\n",
       "        text-align: right;\n",
       "    }\n",
       "</style>\n",
       "<table border=\"1\" class=\"dataframe\">\n",
       "  <thead>\n",
       "    <tr style=\"text-align: right;\">\n",
       "      <th></th>\n",
       "      <th>FEI Number</th>\n",
       "      <th>Legal Name</th>\n",
       "      <th>City</th>\n",
       "      <th>State</th>\n",
       "      <th>Inspection ID</th>\n",
       "      <th>Inspection End Date</th>\n",
       "      <th>Month</th>\n",
       "      <th>Quarter</th>\n",
       "      <th>Category OAI</th>\n",
       "      <th>Project Area</th>\n",
       "      <th>Product Type</th>\n",
       "      <th>Risk_Factor_FEI</th>\n",
       "      <th>Risk_Factor_Legal_Name</th>\n",
       "      <th>Risk_Factor_City</th>\n",
       "      <th>Risk_Factor_State</th>\n",
       "      <th>Risk_Factor_Project Area</th>\n",
       "      <th>Risk_Factor_Product_Type</th>\n",
       "    </tr>\n",
       "  </thead>\n",
       "  <tbody>\n",
       "    <tr>\n",
       "      <th>0</th>\n",
       "      <td>3007516078</td>\n",
       "      <td>24/7 Seafood Distributor, Corp.</td>\n",
       "      <td>Miami</td>\n",
       "      <td>Florida</td>\n",
       "      <td>1173724</td>\n",
       "      <td>2022-07-06</td>\n",
       "      <td>7</td>\n",
       "      <td>3</td>\n",
       "      <td>0</td>\n",
       "      <td>Foodborne Biological Hazards</td>\n",
       "      <td>Food/Cosmetics</td>\n",
       "      <td>0.0</td>\n",
       "      <td>0.346574</td>\n",
       "      <td>0.918632</td>\n",
       "      <td>1.481191</td>\n",
       "      <td>0.88574</td>\n",
       "      <td>1.164926</td>\n",
       "    </tr>\n",
       "    <tr>\n",
       "      <th>1</th>\n",
       "      <td>3013338718</td>\n",
       "      <td>Pacific Golden Coast Trading Inc</td>\n",
       "      <td>Hermosa Beach</td>\n",
       "      <td>California</td>\n",
       "      <td>1172912</td>\n",
       "      <td>2022-07-01</td>\n",
       "      <td>7</td>\n",
       "      <td>3</td>\n",
       "      <td>0</td>\n",
       "      <td>Foodborne Biological Hazards</td>\n",
       "      <td>Food/Cosmetics</td>\n",
       "      <td>0.0</td>\n",
       "      <td>0.000000</td>\n",
       "      <td>0.000000</td>\n",
       "      <td>1.186878</td>\n",
       "      <td>0.88574</td>\n",
       "      <td>1.164926</td>\n",
       "    </tr>\n",
       "  </tbody>\n",
       "</table>\n",
       "</div>"
      ],
      "text/plain": [
       "   FEI Number                        Legal Name           City       State  \\\n",
       "0  3007516078   24/7 Seafood Distributor, Corp.          Miami     Florida   \n",
       "1  3013338718  Pacific Golden Coast Trading Inc  Hermosa Beach  California   \n",
       "\n",
       "  Inspection ID Inspection End Date  Month  Quarter  Category OAI  \\\n",
       "0       1173724          2022-07-06      7        3             0   \n",
       "1       1172912          2022-07-01      7        3             0   \n",
       "\n",
       "                   Project Area    Product Type  Risk_Factor_FEI  \\\n",
       "0  Foodborne Biological Hazards  Food/Cosmetics              0.0   \n",
       "1  Foodborne Biological Hazards  Food/Cosmetics              0.0   \n",
       "\n",
       "   Risk_Factor_Legal_Name  Risk_Factor_City  Risk_Factor_State  \\\n",
       "0                0.346574          0.918632           1.481191   \n",
       "1                0.000000          0.000000           1.186878   \n",
       "\n",
       "   Risk_Factor_Project Area  Risk_Factor_Product_Type  \n",
       "0                   0.88574                  1.164926  \n",
       "1                   0.88574                  1.164926  "
      ]
     },
     "execution_count": 22,
     "metadata": {},
     "output_type": "execute_result"
    }
   ],
   "source": [
    "master_data_main_df.columns\n",
    "master_data_main_imbalced_class_df = master_data_main_df[[\"FEI Number\",'Legal Name', 'City',\n",
    "       'State','Inspection ID','Inspection End Date','Month', 'Quarter','Category OAI','Project Area', 'Product Type', 'Risk_Factor_FEI',\n",
    "       'Risk_Factor_Legal_Name', 'Risk_Factor_City', 'Risk_Factor_State',\n",
    "       'Risk_Factor_Project Area', 'Risk_Factor_Product_Type']]\n",
    "master_data_main_imbalced_class_df.head(2)"
   ]
  },
  {
   "cell_type": "markdown",
   "id": "aa625f5c",
   "metadata": {},
   "source": []
  },
  {
   "cell_type": "code",
   "execution_count": 23,
   "id": "3088445f",
   "metadata": {},
   "outputs": [],
   "source": [
    "master_data_main_imbalced_class_df['Inspection End Date'] = pd.to_datetime(master_data_main_imbalced_class_df['Inspection End Date'])\n",
    "train_df = master_data_main_imbalced_class_df[master_data_main_imbalced_class_df['Inspection End Date']<'2021-07-01']\n",
    "test_df = master_data_main_imbalced_class_df[master_data_main_imbalced_class_df['Inspection End Date']>'2021-06-30']\n",
    "\n",
    "X_train = train_df[['Risk_Factor_FEI',\n",
    "       'Risk_Factor_Legal_Name', 'Risk_Factor_City', 'Risk_Factor_State','Risk_Factor_Product_Type']]\n",
    "y_train = train_df['Category OAI']\n",
    "X_test = test_df[['Risk_Factor_FEI',\n",
    "       'Risk_Factor_Legal_Name', 'Risk_Factor_City', 'Risk_Factor_State','Risk_Factor_Product_Type']]\n",
    "y_test = test_df['Category OAI']\n",
    "col_name_feature = X_train.columns\n",
    "class_name = \"Category OAI\""
   ]
  },
  {
   "cell_type": "code",
   "execution_count": 24,
   "id": "7ec00ed6",
   "metadata": {},
   "outputs": [
    {
     "data": {
      "text/plain": [
       "Index(['FEI Number', 'Legal Name', 'City', 'State', 'Inspection ID',\n",
       "       'Inspection End Date', 'Month', 'Quarter', 'Category OAI',\n",
       "       'Project Area', 'Product Type', 'Risk_Factor_FEI',\n",
       "       'Risk_Factor_Legal_Name', 'Risk_Factor_City', 'Risk_Factor_State',\n",
       "       'Risk_Factor_Project Area', 'Risk_Factor_Product_Type'],\n",
       "      dtype='object')"
      ]
     },
     "execution_count": 24,
     "metadata": {},
     "output_type": "execute_result"
    }
   ],
   "source": [
    "test_df.columns"
   ]
  },
  {
   "cell_type": "markdown",
   "id": "b72cf9aa",
   "metadata": {},
   "source": [
    "<b>Balanced Logistic Regression</b>"
   ]
  },
  {
   "cell_type": "code",
   "execution_count": 25,
   "id": "2c499f91",
   "metadata": {},
   "outputs": [
    {
     "data": {
      "text/plain": [
       "GridSearchCV(cv=5,\n",
       "             estimator=LogisticRegression(class_weight={0: 1, 1: 99},\n",
       "                                          random_state=13),\n",
       "             param_grid={'C': array([1.e-03, 1.e-02, 1.e-01, 1.e+00, 1.e+01, 1.e+02, 1.e+03]),\n",
       "                         'penalty': ['l1', 'l2'],\n",
       "                         'solver': ['newton-cg', 'lbfgs', 'liblinear',\n",
       "                                    'softmax']},\n",
       "             scoring='recall')"
      ]
     },
     "execution_count": 25,
     "metadata": {},
     "output_type": "execute_result"
    }
   ],
   "source": [
    "w = {0:1, 1:99}\n",
    "from sklearn.linear_model import LogisticRegression\n",
    "from sklearn.model_selection import GridSearchCV\n",
    "\n",
    "LM_model = LogisticRegression(random_state=13, class_weight=w)\n",
    "# parameter grid\n",
    "parameters = {\n",
    "    'penalty' : ['l1','l2'], \n",
    "    'C'       : np.logspace(-3,3,7),\n",
    "    'solver'  : ['newton-cg', 'lbfgs', 'liblinear','softmax'],\n",
    "}\n",
    "\n",
    "LM_model = GridSearchCV(estimator=LM_model,param_grid=parameters,cv=5,scoring='recall')\n",
    "LM_model.fit(X_train,y_train)"
   ]
  },
  {
   "cell_type": "code",
   "execution_count": 26,
   "id": "800385c6",
   "metadata": {},
   "outputs": [
    {
     "name": "stdout",
     "output_type": "stream",
     "text": [
      "[[0.         4.36750923 1.44265397 0.17164559 1.2019545 ]] [-1.09613133]\n",
      "Index(['Risk_Factor_FEI', 'Risk_Factor_Legal_Name', 'Risk_Factor_City',\n",
      "       'Risk_Factor_State', 'Risk_Factor_Product_Type'],\n",
      "      dtype='object')\n"
     ]
    }
   ],
   "source": [
    "LM_model = LogisticRegression(C=1.0, class_weight={0: 1, 1: 99},\n",
    "                                          dual=False, fit_intercept=True,\n",
    "                                          intercept_scaling=1, l1_ratio=None,\n",
    "                                          max_iter=100, multi_class='auto',\n",
    "                                          n_jobs=None, penalty='l2',\n",
    "                                          random_state=13, solver='lbfgs',\n",
    "                                          tol=0.0001, verbose=0,\n",
    "                                          warm_start=False)\n",
    "LM_model.fit(X_train,y_train)\n",
    "print(LM_model.coef_, LM_model.intercept_)\n",
    "print(X_train.columns)"
   ]
  },
  {
   "cell_type": "code",
   "execution_count": 27,
   "id": "bd7c5ba1",
   "metadata": {},
   "outputs": [],
   "source": [
    "dic = pd.DataFrame(columns=['Features','Weights'])\n",
    "dic['Features'] = X_train.columns\n",
    "dic['Weights'] = LM_model.coef_[0]"
   ]
  },
  {
   "cell_type": "code",
   "execution_count": 28,
   "id": "b11d4b0c",
   "metadata": {},
   "outputs": [],
   "source": [
    "FEI = dic[dic['Features']==\"Risk_Factor_FEI\"][\"Weights\"].values\n",
    "LN = dic[dic['Features']==\"Risk_Factor_Legal_Name\"][\"Weights\"].values\n",
    "city = dic[dic['Features']==\"Risk_Factor_City\"][\"Weights\"].values\n",
    "state = dic[dic['Features']==\"Risk_Factor_State\"][\"Weights\"].values\n",
    "product = dic[dic['Features']==\"Risk_Factor_Product_Type\"][\"Weights\"].values"
   ]
  },
  {
   "cell_type": "code",
   "execution_count": 29,
   "id": "cf0c7251",
   "metadata": {},
   "outputs": [],
   "source": [
    "train_df['Risk_Factor'] = train_df['Risk_Factor_FEI']*FEI+train_df['Risk_Factor_Legal_Name']*LN+train_df['Risk_Factor_City']*city+train_df['Risk_Factor_State']*state+train_df['Risk_Factor_Product_Type']*product"
   ]
  },
  {
   "cell_type": "code",
   "execution_count": 30,
   "id": "5085e9f2",
   "metadata": {},
   "outputs": [],
   "source": [
    "train_df = train_df.sort_values(by=\"Risk_Factor\",ascending=False)\n",
    "train_risk_df = train_df[['FEI Number','Risk_Factor']]"
   ]
  },
  {
   "cell_type": "code",
   "execution_count": 43,
   "id": "f6aaec9a",
   "metadata": {},
   "outputs": [],
   "source": [
    "test_df_x = test_df[[\"FEI Number\",\"Legal Name\",'City', 'State','Category OAI', 'Product Type']]\n",
    "test_df_x = test_df_x.drop_duplicates()\n",
    "test_analysis_df = test_df_x.merge(train_risk_df,how=\"left\",left_on=\"FEI Number\",right_on=\"FEI Number\")\n",
    "test_analysis_df = test_analysis_df.drop_duplicates()"
   ]
  },
  {
   "cell_type": "code",
   "execution_count": 44,
   "id": "2be8a46e",
   "metadata": {},
   "outputs": [],
   "source": [
    "test_analysis_df = test_analysis_df[~test_analysis_df.Risk_Factor.isna()]"
   ]
  },
  {
   "cell_type": "markdown",
   "id": "9050b354",
   "metadata": {},
   "source": [
    "<b><u>Post Risk Analysis</u></b>"
   ]
  },
  {
   "cell_type": "code",
   "execution_count": 45,
   "id": "8ce9bee5",
   "metadata": {},
   "outputs": [],
   "source": [
    "test_analysis_df = test_analysis_df.sort_values(by=\"Risk_Factor\",ascending=False)\n",
    "test_analysis_df['Risk'] = test_analysis_df['Risk_Factor'].rank(ascending=False)\n",
    "test_analysis_df['Percentile Rank'] = test_analysis_df['Risk'].rank(pct = True)*100"
   ]
  },
  {
   "cell_type": "code",
   "execution_count": 46,
   "id": "df34b466",
   "metadata": {},
   "outputs": [],
   "source": [
    "def percentile_cat(x):\n",
    "    if x <10:\n",
    "        return 0.1\n",
    "    elif x < 20:\n",
    "        return 0.2\n",
    "    elif x <30:\n",
    "        return 0.3\n",
    "    elif x < 40:\n",
    "        return 0.4\n",
    "    elif x < 50:\n",
    "        return 0.5\n",
    "    elif x < 60:\n",
    "        return 0.6\n",
    "    elif x < 70:\n",
    "        return 0.7\n",
    "    elif x < 80:\n",
    "        return 0.8\n",
    "    elif x < 90:\n",
    "        return 0.9\n",
    "    else:\n",
    "        return 1\n",
    "    \n",
    "test_analysis_df['Percentile Cat'] = test_analysis_df['Percentile Rank'].apply(lambda x :percentile_cat(x))"
   ]
  },
  {
   "cell_type": "code",
   "execution_count": 47,
   "id": "43080eeb",
   "metadata": {},
   "outputs": [],
   "source": [
    "final_analysis_df = test_analysis_df.groupby(\"Percentile Cat\",as_index=False).agg(count_of_OAI = ('Category OAI','sum'),count_of_FEI = ('FEI Number','nunique'))\n",
    "final_analysis_df.head(10)\n",
    "final_analysis_df[\"%violaion found\"] = (final_analysis_df['count_of_OAI']/final_analysis_df['count_of_FEI'])*100"
   ]
  },
  {
   "cell_type": "code",
   "execution_count": 48,
   "id": "cd3e7b22",
   "metadata": {},
   "outputs": [
    {
     "data": {
      "text/html": [
       "<div>\n",
       "<style scoped>\n",
       "    .dataframe tbody tr th:only-of-type {\n",
       "        vertical-align: middle;\n",
       "    }\n",
       "\n",
       "    .dataframe tbody tr th {\n",
       "        vertical-align: top;\n",
       "    }\n",
       "\n",
       "    .dataframe thead th {\n",
       "        text-align: right;\n",
       "    }\n",
       "</style>\n",
       "<table border=\"1\" class=\"dataframe\">\n",
       "  <thead>\n",
       "    <tr style=\"text-align: right;\">\n",
       "      <th></th>\n",
       "      <th>Percentile Cat</th>\n",
       "      <th>count_of_OAI</th>\n",
       "      <th>count_of_FEI</th>\n",
       "      <th>%violaion found</th>\n",
       "    </tr>\n",
       "  </thead>\n",
       "  <tbody>\n",
       "    <tr>\n",
       "      <th>0</th>\n",
       "      <td>0.1</td>\n",
       "      <td>20</td>\n",
       "      <td>112</td>\n",
       "      <td>17.857143</td>\n",
       "    </tr>\n",
       "    <tr>\n",
       "      <th>1</th>\n",
       "      <td>0.2</td>\n",
       "      <td>22</td>\n",
       "      <td>125</td>\n",
       "      <td>17.600000</td>\n",
       "    </tr>\n",
       "    <tr>\n",
       "      <th>2</th>\n",
       "      <td>0.3</td>\n",
       "      <td>15</td>\n",
       "      <td>137</td>\n",
       "      <td>10.948905</td>\n",
       "    </tr>\n",
       "    <tr>\n",
       "      <th>3</th>\n",
       "      <td>0.4</td>\n",
       "      <td>15</td>\n",
       "      <td>137</td>\n",
       "      <td>10.948905</td>\n",
       "    </tr>\n",
       "    <tr>\n",
       "      <th>4</th>\n",
       "      <td>0.5</td>\n",
       "      <td>20</td>\n",
       "      <td>137</td>\n",
       "      <td>14.598540</td>\n",
       "    </tr>\n",
       "    <tr>\n",
       "      <th>5</th>\n",
       "      <td>0.6</td>\n",
       "      <td>11</td>\n",
       "      <td>137</td>\n",
       "      <td>8.029197</td>\n",
       "    </tr>\n",
       "    <tr>\n",
       "      <th>6</th>\n",
       "      <td>0.7</td>\n",
       "      <td>12</td>\n",
       "      <td>140</td>\n",
       "      <td>8.571429</td>\n",
       "    </tr>\n",
       "    <tr>\n",
       "      <th>7</th>\n",
       "      <td>0.8</td>\n",
       "      <td>11</td>\n",
       "      <td>136</td>\n",
       "      <td>8.088235</td>\n",
       "    </tr>\n",
       "    <tr>\n",
       "      <th>8</th>\n",
       "      <td>0.9</td>\n",
       "      <td>12</td>\n",
       "      <td>144</td>\n",
       "      <td>8.333333</td>\n",
       "    </tr>\n",
       "    <tr>\n",
       "      <th>9</th>\n",
       "      <td>1.0</td>\n",
       "      <td>5</td>\n",
       "      <td>138</td>\n",
       "      <td>3.623188</td>\n",
       "    </tr>\n",
       "  </tbody>\n",
       "</table>\n",
       "</div>"
      ],
      "text/plain": [
       "   Percentile Cat  count_of_OAI  count_of_FEI  %violaion found\n",
       "0             0.1            20           112        17.857143\n",
       "1             0.2            22           125        17.600000\n",
       "2             0.3            15           137        10.948905\n",
       "3             0.4            15           137        10.948905\n",
       "4             0.5            20           137        14.598540\n",
       "5             0.6            11           137         8.029197\n",
       "6             0.7            12           140         8.571429\n",
       "7             0.8            11           136         8.088235\n",
       "8             0.9            12           144         8.333333\n",
       "9             1.0             5           138         3.623188"
      ]
     },
     "execution_count": 48,
     "metadata": {},
     "output_type": "execute_result"
    }
   ],
   "source": [
    "final_analysis_df.head(10)"
   ]
  },
  {
   "cell_type": "markdown",
   "id": "ed27120d",
   "metadata": {},
   "source": [
    "<b>Ranking By WoE and Information Value</b>"
   ]
  },
  {
   "cell_type": "code",
   "execution_count": 49,
   "id": "0b3cc4ac",
   "metadata": {},
   "outputs": [],
   "source": [
    "master_data_main_imbalced_class_df['Inspection End Date'] = pd.to_datetime(master_data_main_imbalced_class_df['Inspection End Date'])\n",
    "train_df = master_data_main_imbalced_class_df[master_data_main_imbalced_class_df['Inspection End Date']<'2021-07-01']\n",
    "test_df = master_data_main_imbalced_class_df[master_data_main_imbalced_class_df['Inspection End Date']>'2021-06-30']\n",
    "\n",
    "X_train = train_df[['Risk_Factor_FEI',\n",
    "       'Risk_Factor_Legal_Name', 'Risk_Factor_City', 'Risk_Factor_State','Risk_Factor_Product_Type']]\n",
    "y_train = train_df['Category OAI']\n",
    "X_test = test_df[['Risk_Factor_FEI',\n",
    "       'Risk_Factor_Legal_Name', 'Risk_Factor_City', 'Risk_Factor_State','Risk_Factor_Product_Type']]\n",
    "y_test = test_df['Category OAI']\n",
    "col_name_feature = X_train.columns\n",
    "class_name = \"Category OAI\""
   ]
  },
  {
   "cell_type": "code",
   "execution_count": 50,
   "id": "ab87cd73",
   "metadata": {},
   "outputs": [],
   "source": [
    "train_woe_iv_df = train_df[['FEI Number', 'Legal Name', 'City', 'State', 'Inspection ID',\n",
    "       'Inspection End Date', 'Month', 'Quarter', 'Category OAI',\n",
    "       'Project Area', 'Product Type']]\n",
    "train_woe_iv_df = train_woe_iv_df.drop_duplicates()\n",
    "\n",
    "total_0 = train_woe_iv_df[train_woe_iv_df['Category OAI']==0]['Inspection ID'].count()\n",
    "total_1 = train_woe_iv_df[train_woe_iv_df['Category OAI']==1]['Inspection ID'].count()"
   ]
  },
  {
   "cell_type": "code",
   "execution_count": 51,
   "id": "1930e710",
   "metadata": {},
   "outputs": [],
   "source": [
    "def woe_iv(x):\n",
    "    dic = {}\n",
    "    count_of_1 = x[x['Category OAI']==1]['Inspection ID'].count()\n",
    "    list_insp = list(x[x['Category OAI']==1]['Inspection ID'])\n",
    "    count_of_0 = x[~x['Inspection ID'].isin(list_insp)]['Inspection ID'].count()\n",
    "    total = count_of_1+count_of_0\n",
    "    per_count_of_1 = count_of_1/total_1*100\n",
    "    per_count_of_0 = count_of_0/total_0*100\n",
    "    woe = np.log(per_count_of_1/per_count_of_0)\n",
    "    iv = (per_count_of_0 - per_count_of_1)*woe\n",
    "    dic['woe'] = woe\n",
    "    dic['iv'] = iv\n",
    "    #print(\"end\")\n",
    "    return pd.Series(dic,index=['woe','iv'])\n",
    "\n",
    "state_df = train_woe_iv_df.groupby('State',as_index=False).apply(woe_iv)\n",
    "state_df.replace([np.inf, -np.inf], 0, inplace=True)"
   ]
  },
  {
   "cell_type": "code",
   "execution_count": 52,
   "id": "693a399f",
   "metadata": {},
   "outputs": [],
   "source": [
    "legal_df = train_woe_iv_df.groupby('Legal Name',as_index=False).apply(woe_iv)\n",
    "legal_df.replace([np.inf, -np.inf], 0, inplace=True)\n",
    "city_df = train_woe_iv_df.groupby('City',as_index=False).apply(woe_iv)\n",
    "city_df.replace([np.inf, -np.inf], 0, inplace=True)\n",
    "fei_df = train_woe_iv_df.groupby('FEI Number',as_index=False).apply(woe_iv)\n",
    "fei_df.replace([np.inf, -np.inf], 0, inplace=True)\n",
    "product_df = train_woe_iv_df.groupby('Product Type',as_index=False).apply(woe_iv)\n",
    "product_df.replace([np.inf, -np.inf], 0, inplace=True)"
   ]
  },
  {
   "cell_type": "code",
   "execution_count": 53,
   "id": "3d780ed4",
   "metadata": {},
   "outputs": [
    {
     "name": "stdout",
     "output_type": "stream",
     "text": [
      "-9\n",
      "-103\n",
      "-57\n",
      "-103\n",
      "-9\n"
     ]
    }
   ],
   "source": [
    "state_iv = state_df['iv'].sum().astype(int)\n",
    "print(state_iv)\n",
    "legal_iv = legal_df['iv'].sum().astype(int)\n",
    "print(legal_iv)\n",
    "city_iv = city_df['iv'].sum().astype(int)\n",
    "print(city_iv)\n",
    "fei_iv = fei_df['iv'].sum().astype(int)\n",
    "print(fei_iv)\n",
    "product_iv = product_df['iv'].sum().astype(int)\n",
    "print(product_iv)"
   ]
  },
  {
   "cell_type": "code",
   "execution_count": 54,
   "id": "007dcc60",
   "metadata": {},
   "outputs": [],
   "source": [
    "final_df = train_woe_iv_df.merge(state_df,how=\"left\",left_on=\"State\",right_on=\"State\")\n",
    "final_df.rename(columns = {'woe':'woe_state','iv':'iv_state'},inplace=True)\n",
    "\n",
    "final_df = final_df.merge(legal_df,how=\"left\",left_on=\"Legal Name\",right_on=\"Legal Name\")\n",
    "final_df.rename(columns = {'woe':'woe_legal','iv':'iv_legal'},inplace=True)\n",
    "\n",
    "final_df = final_df.merge(city_df,how=\"left\",left_on=\"City\",right_on=\"City\")\n",
    "final_df.rename(columns = {'woe':'woe_city','iv':'iv_city'},inplace=True)\n",
    "\n",
    "final_df = final_df.merge(fei_df,how=\"left\",left_on=\"FEI Number\",right_on=\"FEI Number\")\n",
    "final_df.rename(columns = {'woe':'woe_fei','iv':'iv_fei'},inplace=True)\n",
    "\n",
    "final_df = final_df.merge(product_df,how=\"left\",left_on=\"Product Type\",right_on=\"Product Type\")\n",
    "final_df.rename(columns = {'woe':'woe_product','iv':'iv_product'},inplace=True)"
   ]
  },
  {
   "cell_type": "code",
   "execution_count": 55,
   "id": "87dca891",
   "metadata": {},
   "outputs": [],
   "source": [
    "def rank_calc(a,b,c,d,e):\n",
    "    print(type(a),type(state_iv))\n",
    "    risk = a*state_iv+b*legal_iv+c*city_iv+d*fei_iv+e*product_iv\n",
    "    return risk"
   ]
  },
  {
   "cell_type": "code",
   "execution_count": 56,
   "id": "e7e3d70a",
   "metadata": {},
   "outputs": [],
   "source": [
    "final_df['risk_calc'] = final_df['woe_state']*state_iv+final_df['woe_legal']*legal_iv+final_df['woe_city']*city_iv+final_df['woe_fei']*fei_iv+final_df['woe_product']*product_iv"
   ]
  },
  {
   "cell_type": "code",
   "execution_count": 57,
   "id": "9aba8c6b",
   "metadata": {},
   "outputs": [],
   "source": [
    "final_df=final_df[['FEI Number','risk_calc']]"
   ]
  },
  {
   "cell_type": "code",
   "execution_count": 58,
   "id": "969a3ced",
   "metadata": {},
   "outputs": [],
   "source": [
    "test_df_risk = test_df[[\"FEI Number\",\"Legal Name\",'City', 'State','Category OAI', 'Product Type']]\n",
    "test_df_risk = test_df_risk.merge(final_df,how=\"left\",left_on=\"FEI Number\",right_on=\"FEI Number\")\n",
    "test_df_risk = test_df_risk.drop_duplicates()"
   ]
  },
  {
   "cell_type": "code",
   "execution_count": 59,
   "id": "28d6537e",
   "metadata": {},
   "outputs": [],
   "source": [
    "test_df_risk = test_df_risk.sort_values(by=\"risk_calc\",ascending=False)"
   ]
  },
  {
   "cell_type": "code",
   "execution_count": 60,
   "id": "97fb59ee",
   "metadata": {},
   "outputs": [],
   "source": [
    "test_df_risk = test_df_risk.sort_values(by=\"risk_calc\",ascending=False)\n",
    "test_df_risk['Risk'] = test_df_risk['risk_calc'].rank(ascending=False)\n",
    "test_df_risk['Percentile Rank'] = test_df_risk['Risk'].rank(pct = True)*100\n",
    "def percentile_cat(x):\n",
    "    if x <10:\n",
    "        return 0.1\n",
    "    elif x < 20:\n",
    "        return 0.2\n",
    "    elif x <30:\n",
    "        return 0.3\n",
    "    elif x < 40:\n",
    "        return 0.4\n",
    "    elif x < 50:\n",
    "        return 0.5\n",
    "    elif x < 60:\n",
    "        return 0.6\n",
    "    elif x < 70:\n",
    "        return 0.7\n",
    "    elif x < 80:\n",
    "        return 0.8\n",
    "    elif x < 90:\n",
    "        return 0.9\n",
    "    else:\n",
    "        return 1\n",
    "    \n",
    "test_df_risk['Percentile Cat'] = test_df_risk['Percentile Rank'].apply(lambda x :percentile_cat(x))"
   ]
  },
  {
   "cell_type": "code",
   "execution_count": 61,
   "id": "8497163d",
   "metadata": {},
   "outputs": [
    {
     "data": {
      "text/html": [
       "<div>\n",
       "<style scoped>\n",
       "    .dataframe tbody tr th:only-of-type {\n",
       "        vertical-align: middle;\n",
       "    }\n",
       "\n",
       "    .dataframe tbody tr th {\n",
       "        vertical-align: top;\n",
       "    }\n",
       "\n",
       "    .dataframe thead th {\n",
       "        text-align: right;\n",
       "    }\n",
       "</style>\n",
       "<table border=\"1\" class=\"dataframe\">\n",
       "  <thead>\n",
       "    <tr style=\"text-align: right;\">\n",
       "      <th></th>\n",
       "      <th>FEI Number</th>\n",
       "      <th>Legal Name</th>\n",
       "      <th>City</th>\n",
       "      <th>State</th>\n",
       "      <th>Category OAI</th>\n",
       "      <th>Product Type</th>\n",
       "      <th>risk_calc</th>\n",
       "      <th>Risk</th>\n",
       "      <th>Percentile Rank</th>\n",
       "      <th>Percentile Cat</th>\n",
       "    </tr>\n",
       "  </thead>\n",
       "  <tbody>\n",
       "    <tr>\n",
       "      <th>225</th>\n",
       "      <td>3004070098</td>\n",
       "      <td>Airgas USA, LLC</td>\n",
       "      <td>Fort Collins</td>\n",
       "      <td>Colorado</td>\n",
       "      <td>0</td>\n",
       "      <td>Drugs</td>\n",
       "      <td>204.428598</td>\n",
       "      <td>1.0</td>\n",
       "      <td>0.070028</td>\n",
       "      <td>0.1</td>\n",
       "    </tr>\n",
       "    <tr>\n",
       "      <th>181</th>\n",
       "      <td>1217333</td>\n",
       "      <td>Airgas USA, LLC</td>\n",
       "      <td>Billerica</td>\n",
       "      <td>Massachusetts</td>\n",
       "      <td>0</td>\n",
       "      <td>Drugs</td>\n",
       "      <td>180.842169</td>\n",
       "      <td>2.0</td>\n",
       "      <td>0.140056</td>\n",
       "      <td>0.1</td>\n",
       "    </tr>\n",
       "  </tbody>\n",
       "</table>\n",
       "</div>"
      ],
      "text/plain": [
       "     FEI Number       Legal Name          City          State  Category OAI  \\\n",
       "225  3004070098  Airgas USA, LLC  Fort Collins       Colorado             0   \n",
       "181     1217333  Airgas USA, LLC     Billerica  Massachusetts             0   \n",
       "\n",
       "    Product Type   risk_calc  Risk  Percentile Rank  Percentile Cat  \n",
       "225        Drugs  204.428598   1.0         0.070028             0.1  \n",
       "181        Drugs  180.842169   2.0         0.140056             0.1  "
      ]
     },
     "execution_count": 61,
     "metadata": {},
     "output_type": "execute_result"
    }
   ],
   "source": [
    "test_df_risk.head(2)"
   ]
  },
  {
   "cell_type": "code",
   "execution_count": 62,
   "id": "2b6b8208",
   "metadata": {},
   "outputs": [
    {
     "data": {
      "text/html": [
       "<div>\n",
       "<style scoped>\n",
       "    .dataframe tbody tr th:only-of-type {\n",
       "        vertical-align: middle;\n",
       "    }\n",
       "\n",
       "    .dataframe tbody tr th {\n",
       "        vertical-align: top;\n",
       "    }\n",
       "\n",
       "    .dataframe thead th {\n",
       "        text-align: right;\n",
       "    }\n",
       "</style>\n",
       "<table border=\"1\" class=\"dataframe\">\n",
       "  <thead>\n",
       "    <tr style=\"text-align: right;\">\n",
       "      <th></th>\n",
       "      <th>Percentile Cat</th>\n",
       "      <th>count_of_OAI</th>\n",
       "      <th>count_of_FEI</th>\n",
       "      <th>%violaion found</th>\n",
       "    </tr>\n",
       "  </thead>\n",
       "  <tbody>\n",
       "    <tr>\n",
       "      <th>0</th>\n",
       "      <td>0.1</td>\n",
       "      <td>11</td>\n",
       "      <td>131</td>\n",
       "      <td>8.396947</td>\n",
       "    </tr>\n",
       "    <tr>\n",
       "      <th>1</th>\n",
       "      <td>0.2</td>\n",
       "      <td>9</td>\n",
       "      <td>129</td>\n",
       "      <td>6.976744</td>\n",
       "    </tr>\n",
       "    <tr>\n",
       "      <th>2</th>\n",
       "      <td>0.3</td>\n",
       "      <td>13</td>\n",
       "      <td>139</td>\n",
       "      <td>9.352518</td>\n",
       "    </tr>\n",
       "    <tr>\n",
       "      <th>3</th>\n",
       "      <td>0.4</td>\n",
       "      <td>4</td>\n",
       "      <td>141</td>\n",
       "      <td>2.836879</td>\n",
       "    </tr>\n",
       "    <tr>\n",
       "      <th>4</th>\n",
       "      <td>0.5</td>\n",
       "      <td>14</td>\n",
       "      <td>137</td>\n",
       "      <td>10.218978</td>\n",
       "    </tr>\n",
       "    <tr>\n",
       "      <th>5</th>\n",
       "      <td>0.6</td>\n",
       "      <td>19</td>\n",
       "      <td>137</td>\n",
       "      <td>13.868613</td>\n",
       "    </tr>\n",
       "    <tr>\n",
       "      <th>6</th>\n",
       "      <td>0.7</td>\n",
       "      <td>17</td>\n",
       "      <td>140</td>\n",
       "      <td>12.142857</td>\n",
       "    </tr>\n",
       "    <tr>\n",
       "      <th>7</th>\n",
       "      <td>0.8</td>\n",
       "      <td>17</td>\n",
       "      <td>134</td>\n",
       "      <td>12.686567</td>\n",
       "    </tr>\n",
       "    <tr>\n",
       "      <th>8</th>\n",
       "      <td>0.9</td>\n",
       "      <td>20</td>\n",
       "      <td>122</td>\n",
       "      <td>16.393443</td>\n",
       "    </tr>\n",
       "    <tr>\n",
       "      <th>9</th>\n",
       "      <td>1.0</td>\n",
       "      <td>82</td>\n",
       "      <td>1425</td>\n",
       "      <td>5.754386</td>\n",
       "    </tr>\n",
       "  </tbody>\n",
       "</table>\n",
       "</div>"
      ],
      "text/plain": [
       "   Percentile Cat  count_of_OAI  count_of_FEI  %violaion found\n",
       "0             0.1            11           131         8.396947\n",
       "1             0.2             9           129         6.976744\n",
       "2             0.3            13           139         9.352518\n",
       "3             0.4             4           141         2.836879\n",
       "4             0.5            14           137        10.218978\n",
       "5             0.6            19           137        13.868613\n",
       "6             0.7            17           140        12.142857\n",
       "7             0.8            17           134        12.686567\n",
       "8             0.9            20           122        16.393443\n",
       "9             1.0            82          1425         5.754386"
      ]
     },
     "execution_count": 62,
     "metadata": {},
     "output_type": "execute_result"
    }
   ],
   "source": [
    "final_analysis_df = test_df_risk.groupby(\"Percentile Cat\",as_index=False).agg(count_of_OAI = ('Category OAI','sum'),count_of_FEI = ('FEI Number','nunique'))\n",
    "final_analysis_df.head(10)\n",
    "final_analysis_df[\"%violaion found\"] = (final_analysis_df['count_of_OAI']/final_analysis_df['count_of_FEI'])*100\n",
    "final_analysis_df.head(10)"
   ]
  },
  {
   "cell_type": "code",
   "execution_count": null,
   "id": "d52118b6",
   "metadata": {},
   "outputs": [],
   "source": []
  },
  {
   "cell_type": "markdown",
   "id": "e8a1f614",
   "metadata": {},
   "source": [
    "<b>Imbalance Classification</b>"
   ]
  },
  {
   "cell_type": "code",
   "execution_count": 63,
   "id": "ee008712",
   "metadata": {},
   "outputs": [
    {
     "data": {
      "text/html": [
       "<div>\n",
       "<style scoped>\n",
       "    .dataframe tbody tr th:only-of-type {\n",
       "        vertical-align: middle;\n",
       "    }\n",
       "\n",
       "    .dataframe tbody tr th {\n",
       "        vertical-align: top;\n",
       "    }\n",
       "\n",
       "    .dataframe thead th {\n",
       "        text-align: right;\n",
       "    }\n",
       "</style>\n",
       "<table border=\"1\" class=\"dataframe\">\n",
       "  <thead>\n",
       "    <tr style=\"text-align: right;\">\n",
       "      <th></th>\n",
       "      <th>FEI Number</th>\n",
       "      <th>Legal Name</th>\n",
       "      <th>City</th>\n",
       "      <th>State</th>\n",
       "      <th>Inspection ID</th>\n",
       "      <th>Inspection End Date</th>\n",
       "      <th>Month</th>\n",
       "      <th>Quarter</th>\n",
       "      <th>Category OAI</th>\n",
       "      <th>Project Area</th>\n",
       "      <th>Product Type</th>\n",
       "      <th>Risk_Factor_FEI</th>\n",
       "      <th>Risk_Factor_Legal_Name</th>\n",
       "      <th>Risk_Factor_City</th>\n",
       "      <th>Risk_Factor_State</th>\n",
       "      <th>Risk_Factor_Project Area</th>\n",
       "      <th>Risk_Factor_Product_Type</th>\n",
       "    </tr>\n",
       "  </thead>\n",
       "  <tbody>\n",
       "    <tr>\n",
       "      <th>0</th>\n",
       "      <td>3007516078</td>\n",
       "      <td>24/7 Seafood Distributor, Corp.</td>\n",
       "      <td>Miami</td>\n",
       "      <td>Florida</td>\n",
       "      <td>1173724</td>\n",
       "      <td>2022-07-06</td>\n",
       "      <td>7</td>\n",
       "      <td>3</td>\n",
       "      <td>0</td>\n",
       "      <td>Foodborne Biological Hazards</td>\n",
       "      <td>Food/Cosmetics</td>\n",
       "      <td>0.0</td>\n",
       "      <td>0.346574</td>\n",
       "      <td>0.918632</td>\n",
       "      <td>1.481191</td>\n",
       "      <td>0.88574</td>\n",
       "      <td>1.164926</td>\n",
       "    </tr>\n",
       "    <tr>\n",
       "      <th>1</th>\n",
       "      <td>3013338718</td>\n",
       "      <td>Pacific Golden Coast Trading Inc</td>\n",
       "      <td>Hermosa Beach</td>\n",
       "      <td>California</td>\n",
       "      <td>1172912</td>\n",
       "      <td>2022-07-01</td>\n",
       "      <td>7</td>\n",
       "      <td>3</td>\n",
       "      <td>0</td>\n",
       "      <td>Foodborne Biological Hazards</td>\n",
       "      <td>Food/Cosmetics</td>\n",
       "      <td>0.0</td>\n",
       "      <td>0.000000</td>\n",
       "      <td>0.000000</td>\n",
       "      <td>1.186878</td>\n",
       "      <td>0.88574</td>\n",
       "      <td>1.164926</td>\n",
       "    </tr>\n",
       "  </tbody>\n",
       "</table>\n",
       "</div>"
      ],
      "text/plain": [
       "   FEI Number                        Legal Name           City       State  \\\n",
       "0  3007516078   24/7 Seafood Distributor, Corp.          Miami     Florida   \n",
       "1  3013338718  Pacific Golden Coast Trading Inc  Hermosa Beach  California   \n",
       "\n",
       "  Inspection ID Inspection End Date  Month  Quarter  Category OAI  \\\n",
       "0       1173724          2022-07-06      7        3             0   \n",
       "1       1172912          2022-07-01      7        3             0   \n",
       "\n",
       "                   Project Area    Product Type  Risk_Factor_FEI  \\\n",
       "0  Foodborne Biological Hazards  Food/Cosmetics              0.0   \n",
       "1  Foodborne Biological Hazards  Food/Cosmetics              0.0   \n",
       "\n",
       "   Risk_Factor_Legal_Name  Risk_Factor_City  Risk_Factor_State  \\\n",
       "0                0.346574          0.918632           1.481191   \n",
       "1                0.000000          0.000000           1.186878   \n",
       "\n",
       "   Risk_Factor_Project Area  Risk_Factor_Product_Type  \n",
       "0                   0.88574                  1.164926  \n",
       "1                   0.88574                  1.164926  "
      ]
     },
     "execution_count": 63,
     "metadata": {},
     "output_type": "execute_result"
    }
   ],
   "source": [
    "master_data_main_imbalced_class_df = master_data_main_df[[\"FEI Number\",'Legal Name', 'City',\n",
    "       'State','Inspection ID','Inspection End Date','Month', 'Quarter','Category OAI','Project Area', 'Product Type', 'Risk_Factor_FEI',\n",
    "       'Risk_Factor_Legal_Name', 'Risk_Factor_City', 'Risk_Factor_State',\n",
    "       'Risk_Factor_Project Area', 'Risk_Factor_Product_Type']]\n",
    "master_data_main_imbalced_class_df.head(2)"
   ]
  },
  {
   "cell_type": "code",
   "execution_count": 64,
   "id": "1be03e15",
   "metadata": {},
   "outputs": [],
   "source": [
    "master_data_main_imbalced_class_df['Inspection End Date'] = pd.to_datetime(master_data_main_imbalced_class_df['Inspection End Date'])\n",
    "train_df = master_data_main_imbalced_class_df[master_data_main_imbalced_class_df['Inspection End Date']<'2021-07-01']\n",
    "test_df = master_data_main_imbalced_class_df[master_data_main_imbalced_class_df['Inspection End Date']>'2021-06-30']"
   ]
  },
  {
   "cell_type": "code",
   "execution_count": 65,
   "id": "191fe417",
   "metadata": {},
   "outputs": [],
   "source": [
    "X_train = train_df[['Risk_Factor_FEI','Month', 'Quarter',\n",
    "       'Risk_Factor_Legal_Name', 'Risk_Factor_City', 'Risk_Factor_State',\n",
    "       'Risk_Factor_Project Area', 'Risk_Factor_Product_Type']]\n",
    "y_train = train_df['Category OAI']\n",
    "X_test = test_df[['Risk_Factor_FEI','Month', 'Quarter',\n",
    "       'Risk_Factor_Legal_Name', 'Risk_Factor_City', 'Risk_Factor_State',\n",
    "       'Risk_Factor_Project Area', 'Risk_Factor_Product_Type']]\n",
    "y_test = test_df['Category OAI']\n",
    "col_name_feature = X_train.columns\n",
    "class_name = \"Category OAI\""
   ]
  },
  {
   "cell_type": "code",
   "execution_count": 66,
   "id": "fc80380d",
   "metadata": {},
   "outputs": [
    {
     "name": "stdout",
     "output_type": "stream",
     "text": [
      "Counter({0: 56686, 1: 6429})\n",
      "Counter({0: 56686, 1: 28343})\n"
     ]
    }
   ],
   "source": [
    "##Imbalance classification Mapping\n",
    "from imblearn.over_sampling import SMOTE \n",
    "from imblearn.under_sampling import RandomUnderSampler\n",
    "from imblearn.pipeline import Pipeline\n",
    "from collections import Counter\n",
    "counter = Counter(y_train)\n",
    "print(counter)\n",
    "over = SMOTE(sampling_strategy=0.5)\n",
    "under = RandomUnderSampler(sampling_strategy=0.5)\n",
    "steps = [('o', over), ('u', under)]\n",
    "pipeline = Pipeline(steps=steps)\n",
    "X, y = pipeline.fit_resample(X_train, y_train)\n",
    "counter = Counter(y)\n",
    "print(counter)"
   ]
  },
  {
   "cell_type": "code",
   "execution_count": 67,
   "id": "faf692c9",
   "metadata": {},
   "outputs": [
    {
     "data": {
      "text/plain": [
       "Index(['Risk_Factor_FEI', 'Month', 'Quarter', 'Risk_Factor_Legal_Name',\n",
       "       'Risk_Factor_City', 'Risk_Factor_State', 'Risk_Factor_Project Area',\n",
       "       'Risk_Factor_Product_Type'],\n",
       "      dtype='object')"
      ]
     },
     "execution_count": 67,
     "metadata": {},
     "output_type": "execute_result"
    }
   ],
   "source": [
    "X.columns"
   ]
  },
  {
   "cell_type": "markdown",
   "id": "42d2b02a",
   "metadata": {},
   "source": [
    "#Feature Importance"
   ]
  },
  {
   "cell_type": "code",
   "execution_count": 68,
   "id": "3cebc511",
   "metadata": {},
   "outputs": [
    {
     "name": "stdout",
     "output_type": "stream",
     "text": [
      "Feature Importances :  [0.         0.01448968 0.         0.47484317 0.05078264 0.14968398\n",
      " 0.13293317 0.17726734]\n"
     ]
    },
    {
     "data": {
      "text/plain": [
       "<Figure size 720x504 with 0 Axes>"
      ]
     },
     "execution_count": 68,
     "metadata": {},
     "output_type": "execute_result"
    },
    {
     "data": {
      "image/png": "[encoded data removed]",
      "text/plain": [
       "<Figure size 432x288 with 1 Axes>"
      ]
     },
     "metadata": {
      "needs_background": "light"
     },
     "output_type": "display_data"
    },
    {
     "data": {
      "text/plain": [
       "<Figure size 720x504 with 0 Axes>"
      ]
     },
     "metadata": {},
     "output_type": "display_data"
    }
   ],
   "source": [
    "###Using Tree Based Model to get top Feature\n",
    "from xgboost import XGBClassifier\n",
    "from xgboost import plot_importance\n",
    "\n",
    "# fit model to training data\n",
    "xgb_model = XGBClassifier(random_state = 0 )\n",
    "xgb_model.fit(X, y)\n",
    "\n",
    "print(\"Feature Importances : \", xgb_model.feature_importances_)\n",
    "df = pd.DataFrame(columns = ['features','importance'])\n",
    "\n",
    "\n",
    "# plot feature importance\n",
    "plot_importance(xgb_model,height = 1.6)\n",
    "plt.figure(figsize=(10, 7))\n",
    "#plt.show()"
   ]
  },
  {
   "cell_type": "code",
   "execution_count": 69,
   "id": "38c73867",
   "metadata": {},
   "outputs": [
    {
     "data": {
      "text/plain": [
       "Index(['Risk_Factor_FEI', 'Month', 'Quarter', 'Risk_Factor_Legal_Name',\n",
       "       'Risk_Factor_City', 'Risk_Factor_State', 'Risk_Factor_Project Area',\n",
       "       'Risk_Factor_Product_Type'],\n",
       "      dtype='object')"
      ]
     },
     "execution_count": 69,
     "metadata": {},
     "output_type": "execute_result"
    }
   ],
   "source": [
    "### Tree Based Model\n",
    "X.columns"
   ]
  },
  {
   "cell_type": "code",
   "execution_count": 70,
   "id": "eab062b9",
   "metadata": {},
   "outputs": [
    {
     "data": {
      "text/plain": [
       "Index(['Risk_Factor_FEI', 'Month', 'Quarter', 'Risk_Factor_Legal_Name',\n",
       "       'Risk_Factor_City', 'Risk_Factor_State', 'Risk_Factor_Project Area',\n",
       "       'Risk_Factor_Product_Type', 'Category OAI'],\n",
       "      dtype='object')"
      ]
     },
     "execution_count": 70,
     "metadata": {},
     "output_type": "execute_result"
    }
   ],
   "source": [
    "train_df = pd.DataFrame(X,columns=col_name_feature)\n",
    "train_df[\"Category OAI\"] = y\n",
    "train_df.columns"
   ]
  },
  {
   "cell_type": "code",
   "execution_count": 71,
   "id": "3a43a594",
   "metadata": {},
   "outputs": [
    {
     "data": {
      "text/html": [
       "<style  type=\"text/css\" >\n",
       "</style><table id=\"T_cde51b62_91f8_11ed_9536_04ed335ad0c9\" ><thead>    <tr>        <th class=\"blank level0\" ></th>        <th class=\"col_heading level0 col0\" >Description</th>        <th class=\"col_heading level0 col1\" >Value</th>    </tr></thead><tbody>\n",
       "                <tr>\n",
       "                        <th id=\"T_cde51b62_91f8_11ed_9536_04ed335ad0c9level0_row0\" class=\"row_heading level0 row0\" >0</th>\n",
       "                        <td id=\"T_cde51b62_91f8_11ed_9536_04ed335ad0c9row0_col0\" class=\"data row0 col0\" >session_id</td>\n",
       "                        <td id=\"T_cde51b62_91f8_11ed_9536_04ed335ad0c9row0_col1\" class=\"data row0 col1\" >577</td>\n",
       "            </tr>\n",
       "            <tr>\n",
       "                        <th id=\"T_cde51b62_91f8_11ed_9536_04ed335ad0c9level0_row1\" class=\"row_heading level0 row1\" >1</th>\n",
       "                        <td id=\"T_cde51b62_91f8_11ed_9536_04ed335ad0c9row1_col0\" class=\"data row1 col0\" >Target</td>\n",
       "                        <td id=\"T_cde51b62_91f8_11ed_9536_04ed335ad0c9row1_col1\" class=\"data row1 col1\" >Category OAI</td>\n",
       "            </tr>\n",
       "            <tr>\n",
       "                        <th id=\"T_cde51b62_91f8_11ed_9536_04ed335ad0c9level0_row2\" class=\"row_heading level0 row2\" >2</th>\n",
       "                        <td id=\"T_cde51b62_91f8_11ed_9536_04ed335ad0c9row2_col0\" class=\"data row2 col0\" >Target Type</td>\n",
       "                        <td id=\"T_cde51b62_91f8_11ed_9536_04ed335ad0c9row2_col1\" class=\"data row2 col1\" >Binary</td>\n",
       "            </tr>\n",
       "            <tr>\n",
       "                        <th id=\"T_cde51b62_91f8_11ed_9536_04ed335ad0c9level0_row3\" class=\"row_heading level0 row3\" >3</th>\n",
       "                        <td id=\"T_cde51b62_91f8_11ed_9536_04ed335ad0c9row3_col0\" class=\"data row3 col0\" >Label Encoded</td>\n",
       "                        <td id=\"T_cde51b62_91f8_11ed_9536_04ed335ad0c9row3_col1\" class=\"data row3 col1\" >0: 0, 1: 1</td>\n",
       "            </tr>\n",
       "            <tr>\n",
       "                        <th id=\"T_cde51b62_91f8_11ed_9536_04ed335ad0c9level0_row4\" class=\"row_heading level0 row4\" >4</th>\n",
       "                        <td id=\"T_cde51b62_91f8_11ed_9536_04ed335ad0c9row4_col0\" class=\"data row4 col0\" >Original Data</td>\n",
       "                        <td id=\"T_cde51b62_91f8_11ed_9536_04ed335ad0c9row4_col1\" class=\"data row4 col1\" >(85029, 9)</td>\n",
       "            </tr>\n",
       "            <tr>\n",
       "                        <th id=\"T_cde51b62_91f8_11ed_9536_04ed335ad0c9level0_row5\" class=\"row_heading level0 row5\" >5</th>\n",
       "                        <td id=\"T_cde51b62_91f8_11ed_9536_04ed335ad0c9row5_col0\" class=\"data row5 col0\" >Missing Values</td>\n",
       "                        <td id=\"T_cde51b62_91f8_11ed_9536_04ed335ad0c9row5_col1\" class=\"data row5 col1\" >False</td>\n",
       "            </tr>\n",
       "            <tr>\n",
       "                        <th id=\"T_cde51b62_91f8_11ed_9536_04ed335ad0c9level0_row6\" class=\"row_heading level0 row6\" >6</th>\n",
       "                        <td id=\"T_cde51b62_91f8_11ed_9536_04ed335ad0c9row6_col0\" class=\"data row6 col0\" >Numeric Features</td>\n",
       "                        <td id=\"T_cde51b62_91f8_11ed_9536_04ed335ad0c9row6_col1\" class=\"data row6 col1\" >6</td>\n",
       "            </tr>\n",
       "            <tr>\n",
       "                        <th id=\"T_cde51b62_91f8_11ed_9536_04ed335ad0c9level0_row7\" class=\"row_heading level0 row7\" >7</th>\n",
       "                        <td id=\"T_cde51b62_91f8_11ed_9536_04ed335ad0c9row7_col0\" class=\"data row7 col0\" >Categorical Features</td>\n",
       "                        <td id=\"T_cde51b62_91f8_11ed_9536_04ed335ad0c9row7_col1\" class=\"data row7 col1\" >2</td>\n",
       "            </tr>\n",
       "            <tr>\n",
       "                        <th id=\"T_cde51b62_91f8_11ed_9536_04ed335ad0c9level0_row8\" class=\"row_heading level0 row8\" >8</th>\n",
       "                        <td id=\"T_cde51b62_91f8_11ed_9536_04ed335ad0c9row8_col0\" class=\"data row8 col0\" >Ordinal Features</td>\n",
       "                        <td id=\"T_cde51b62_91f8_11ed_9536_04ed335ad0c9row8_col1\" class=\"data row8 col1\" >False</td>\n",
       "            </tr>\n",
       "            <tr>\n",
       "                        <th id=\"T_cde51b62_91f8_11ed_9536_04ed335ad0c9level0_row9\" class=\"row_heading level0 row9\" >9</th>\n",
       "                        <td id=\"T_cde51b62_91f8_11ed_9536_04ed335ad0c9row9_col0\" class=\"data row9 col0\" >High Cardinality Features</td>\n",
       "                        <td id=\"T_cde51b62_91f8_11ed_9536_04ed335ad0c9row9_col1\" class=\"data row9 col1\" >False</td>\n",
       "            </tr>\n",
       "            <tr>\n",
       "                        <th id=\"T_cde51b62_91f8_11ed_9536_04ed335ad0c9level0_row10\" class=\"row_heading level0 row10\" >10</th>\n",
       "                        <td id=\"T_cde51b62_91f8_11ed_9536_04ed335ad0c9row10_col0\" class=\"data row10 col0\" >High Cardinality Method</td>\n",
       "                        <td id=\"T_cde51b62_91f8_11ed_9536_04ed335ad0c9row10_col1\" class=\"data row10 col1\" >None</td>\n",
       "            </tr>\n",
       "            <tr>\n",
       "                        <th id=\"T_cde51b62_91f8_11ed_9536_04ed335ad0c9level0_row11\" class=\"row_heading level0 row11\" >11</th>\n",
       "                        <td id=\"T_cde51b62_91f8_11ed_9536_04ed335ad0c9row11_col0\" class=\"data row11 col0\" >Transformed Train Set</td>\n",
       "                        <td id=\"T_cde51b62_91f8_11ed_9536_04ed335ad0c9row11_col1\" class=\"data row11 col1\" >(59520, 22)</td>\n",
       "            </tr>\n",
       "            <tr>\n",
       "                        <th id=\"T_cde51b62_91f8_11ed_9536_04ed335ad0c9level0_row12\" class=\"row_heading level0 row12\" >12</th>\n",
       "                        <td id=\"T_cde51b62_91f8_11ed_9536_04ed335ad0c9row12_col0\" class=\"data row12 col0\" >Transformed Test Set</td>\n",
       "                        <td id=\"T_cde51b62_91f8_11ed_9536_04ed335ad0c9row12_col1\" class=\"data row12 col1\" >(25509, 22)</td>\n",
       "            </tr>\n",
       "            <tr>\n",
       "                        <th id=\"T_cde51b62_91f8_11ed_9536_04ed335ad0c9level0_row13\" class=\"row_heading level0 row13\" >13</th>\n",
       "                        <td id=\"T_cde51b62_91f8_11ed_9536_04ed335ad0c9row13_col0\" class=\"data row13 col0\" >Shuffle Train-Test</td>\n",
       "                        <td id=\"T_cde51b62_91f8_11ed_9536_04ed335ad0c9row13_col1\" class=\"data row13 col1\" >True</td>\n",
       "            </tr>\n",
       "            <tr>\n",
       "                        <th id=\"T_cde51b62_91f8_11ed_9536_04ed335ad0c9level0_row14\" class=\"row_heading level0 row14\" >14</th>\n",
       "                        <td id=\"T_cde51b62_91f8_11ed_9536_04ed335ad0c9row14_col0\" class=\"data row14 col0\" >Stratify Train-Test</td>\n",
       "                        <td id=\"T_cde51b62_91f8_11ed_9536_04ed335ad0c9row14_col1\" class=\"data row14 col1\" >False</td>\n",
       "            </tr>\n",
       "            <tr>\n",
       "                        <th id=\"T_cde51b62_91f8_11ed_9536_04ed335ad0c9level0_row15\" class=\"row_heading level0 row15\" >15</th>\n",
       "                        <td id=\"T_cde51b62_91f8_11ed_9536_04ed335ad0c9row15_col0\" class=\"data row15 col0\" >Fold Generator</td>\n",
       "                        <td id=\"T_cde51b62_91f8_11ed_9536_04ed335ad0c9row15_col1\" class=\"data row15 col1\" >StratifiedKFold</td>\n",
       "            </tr>\n",
       "            <tr>\n",
       "                        <th id=\"T_cde51b62_91f8_11ed_9536_04ed335ad0c9level0_row16\" class=\"row_heading level0 row16\" >16</th>\n",
       "                        <td id=\"T_cde51b62_91f8_11ed_9536_04ed335ad0c9row16_col0\" class=\"data row16 col0\" >Fold Number</td>\n",
       "                        <td id=\"T_cde51b62_91f8_11ed_9536_04ed335ad0c9row16_col1\" class=\"data row16 col1\" >10</td>\n",
       "            </tr>\n",
       "            <tr>\n",
       "                        <th id=\"T_cde51b62_91f8_11ed_9536_04ed335ad0c9level0_row17\" class=\"row_heading level0 row17\" >17</th>\n",
       "                        <td id=\"T_cde51b62_91f8_11ed_9536_04ed335ad0c9row17_col0\" class=\"data row17 col0\" >CPU Jobs</td>\n",
       "                        <td id=\"T_cde51b62_91f8_11ed_9536_04ed335ad0c9row17_col1\" class=\"data row17 col1\" >-1</td>\n",
       "            </tr>\n",
       "            <tr>\n",
       "                        <th id=\"T_cde51b62_91f8_11ed_9536_04ed335ad0c9level0_row18\" class=\"row_heading level0 row18\" >18</th>\n",
       "                        <td id=\"T_cde51b62_91f8_11ed_9536_04ed335ad0c9row18_col0\" class=\"data row18 col0\" >Use GPU</td>\n",
       "                        <td id=\"T_cde51b62_91f8_11ed_9536_04ed335ad0c9row18_col1\" class=\"data row18 col1\" >False</td>\n",
       "            </tr>\n",
       "            <tr>\n",
       "                        <th id=\"T_cde51b62_91f8_11ed_9536_04ed335ad0c9level0_row19\" class=\"row_heading level0 row19\" >19</th>\n",
       "                        <td id=\"T_cde51b62_91f8_11ed_9536_04ed335ad0c9row19_col0\" class=\"data row19 col0\" >Log Experiment</td>\n",
       "                        <td id=\"T_cde51b62_91f8_11ed_9536_04ed335ad0c9row19_col1\" class=\"data row19 col1\" >False</td>\n",
       "            </tr>\n",
       "            <tr>\n",
       "                        <th id=\"T_cde51b62_91f8_11ed_9536_04ed335ad0c9level0_row20\" class=\"row_heading level0 row20\" >20</th>\n",
       "                        <td id=\"T_cde51b62_91f8_11ed_9536_04ed335ad0c9row20_col0\" class=\"data row20 col0\" >Experiment Name</td>\n",
       "                        <td id=\"T_cde51b62_91f8_11ed_9536_04ed335ad0c9row20_col1\" class=\"data row20 col1\" >clf-default-name</td>\n",
       "            </tr>\n",
       "            <tr>\n",
       "                        <th id=\"T_cde51b62_91f8_11ed_9536_04ed335ad0c9level0_row21\" class=\"row_heading level0 row21\" >21</th>\n",
       "                        <td id=\"T_cde51b62_91f8_11ed_9536_04ed335ad0c9row21_col0\" class=\"data row21 col0\" >USI</td>\n",
       "                        <td id=\"T_cde51b62_91f8_11ed_9536_04ed335ad0c9row21_col1\" class=\"data row21 col1\" >db0d</td>\n",
       "            </tr>\n",
       "            <tr>\n",
       "                        <th id=\"T_cde51b62_91f8_11ed_9536_04ed335ad0c9level0_row22\" class=\"row_heading level0 row22\" >22</th>\n",
       "                        <td id=\"T_cde51b62_91f8_11ed_9536_04ed335ad0c9row22_col0\" class=\"data row22 col0\" >Imputation Type</td>\n",
       "                        <td id=\"T_cde51b62_91f8_11ed_9536_04ed335ad0c9row22_col1\" class=\"data row22 col1\" >simple</td>\n",
       "            </tr>\n",
       "            <tr>\n",
       "                        <th id=\"T_cde51b62_91f8_11ed_9536_04ed335ad0c9level0_row23\" class=\"row_heading level0 row23\" >23</th>\n",
       "                        <td id=\"T_cde51b62_91f8_11ed_9536_04ed335ad0c9row23_col0\" class=\"data row23 col0\" >Iterative Imputation Iteration</td>\n",
       "                        <td id=\"T_cde51b62_91f8_11ed_9536_04ed335ad0c9row23_col1\" class=\"data row23 col1\" >None</td>\n",
       "            </tr>\n",
       "            <tr>\n",
       "                        <th id=\"T_cde51b62_91f8_11ed_9536_04ed335ad0c9level0_row24\" class=\"row_heading level0 row24\" >24</th>\n",
       "                        <td id=\"T_cde51b62_91f8_11ed_9536_04ed335ad0c9row24_col0\" class=\"data row24 col0\" >Numeric Imputer</td>\n",
       "                        <td id=\"T_cde51b62_91f8_11ed_9536_04ed335ad0c9row24_col1\" class=\"data row24 col1\" >mean</td>\n",
       "            </tr>\n",
       "            <tr>\n",
       "                        <th id=\"T_cde51b62_91f8_11ed_9536_04ed335ad0c9level0_row25\" class=\"row_heading level0 row25\" >25</th>\n",
       "                        <td id=\"T_cde51b62_91f8_11ed_9536_04ed335ad0c9row25_col0\" class=\"data row25 col0\" >Iterative Imputation Numeric Model</td>\n",
       "                        <td id=\"T_cde51b62_91f8_11ed_9536_04ed335ad0c9row25_col1\" class=\"data row25 col1\" >None</td>\n",
       "            </tr>\n",
       "            <tr>\n",
       "                        <th id=\"T_cde51b62_91f8_11ed_9536_04ed335ad0c9level0_row26\" class=\"row_heading level0 row26\" >26</th>\n",
       "                        <td id=\"T_cde51b62_91f8_11ed_9536_04ed335ad0c9row26_col0\" class=\"data row26 col0\" >Categorical Imputer</td>\n",
       "                        <td id=\"T_cde51b62_91f8_11ed_9536_04ed335ad0c9row26_col1\" class=\"data row26 col1\" >constant</td>\n",
       "            </tr>\n",
       "            <tr>\n",
       "                        <th id=\"T_cde51b62_91f8_11ed_9536_04ed335ad0c9level0_row27\" class=\"row_heading level0 row27\" >27</th>\n",
       "                        <td id=\"T_cde51b62_91f8_11ed_9536_04ed335ad0c9row27_col0\" class=\"data row27 col0\" >Iterative Imputation Categorical Model</td>\n",
       "                        <td id=\"T_cde51b62_91f8_11ed_9536_04ed335ad0c9row27_col1\" class=\"data row27 col1\" >None</td>\n",
       "            </tr>\n",
       "            <tr>\n",
       "                        <th id=\"T_cde51b62_91f8_11ed_9536_04ed335ad0c9level0_row28\" class=\"row_heading level0 row28\" >28</th>\n",
       "                        <td id=\"T_cde51b62_91f8_11ed_9536_04ed335ad0c9row28_col0\" class=\"data row28 col0\" >Unknown Categoricals Handling</td>\n",
       "                        <td id=\"T_cde51b62_91f8_11ed_9536_04ed335ad0c9row28_col1\" class=\"data row28 col1\" >least_frequent</td>\n",
       "            </tr>\n",
       "            <tr>\n",
       "                        <th id=\"T_cde51b62_91f8_11ed_9536_04ed335ad0c9level0_row29\" class=\"row_heading level0 row29\" >29</th>\n",
       "                        <td id=\"T_cde51b62_91f8_11ed_9536_04ed335ad0c9row29_col0\" class=\"data row29 col0\" >Normalize</td>\n",
       "                        <td id=\"T_cde51b62_91f8_11ed_9536_04ed335ad0c9row29_col1\" class=\"data row29 col1\" >False</td>\n",
       "            </tr>\n",
       "            <tr>\n",
       "                        <th id=\"T_cde51b62_91f8_11ed_9536_04ed335ad0c9level0_row30\" class=\"row_heading level0 row30\" >30</th>\n",
       "                        <td id=\"T_cde51b62_91f8_11ed_9536_04ed335ad0c9row30_col0\" class=\"data row30 col0\" >Normalize Method</td>\n",
       "                        <td id=\"T_cde51b62_91f8_11ed_9536_04ed335ad0c9row30_col1\" class=\"data row30 col1\" >None</td>\n",
       "            </tr>\n",
       "            <tr>\n",
       "                        <th id=\"T_cde51b62_91f8_11ed_9536_04ed335ad0c9level0_row31\" class=\"row_heading level0 row31\" >31</th>\n",
       "                        <td id=\"T_cde51b62_91f8_11ed_9536_04ed335ad0c9row31_col0\" class=\"data row31 col0\" >Transformation</td>\n",
       "                        <td id=\"T_cde51b62_91f8_11ed_9536_04ed335ad0c9row31_col1\" class=\"data row31 col1\" >False</td>\n",
       "            </tr>\n",
       "            <tr>\n",
       "                        <th id=\"T_cde51b62_91f8_11ed_9536_04ed335ad0c9level0_row32\" class=\"row_heading level0 row32\" >32</th>\n",
       "                        <td id=\"T_cde51b62_91f8_11ed_9536_04ed335ad0c9row32_col0\" class=\"data row32 col0\" >Transformation Method</td>\n",
       "                        <td id=\"T_cde51b62_91f8_11ed_9536_04ed335ad0c9row32_col1\" class=\"data row32 col1\" >None</td>\n",
       "            </tr>\n",
       "            <tr>\n",
       "                        <th id=\"T_cde51b62_91f8_11ed_9536_04ed335ad0c9level0_row33\" class=\"row_heading level0 row33\" >33</th>\n",
       "                        <td id=\"T_cde51b62_91f8_11ed_9536_04ed335ad0c9row33_col0\" class=\"data row33 col0\" >PCA</td>\n",
       "                        <td id=\"T_cde51b62_91f8_11ed_9536_04ed335ad0c9row33_col1\" class=\"data row33 col1\" >False</td>\n",
       "            </tr>\n",
       "            <tr>\n",
       "                        <th id=\"T_cde51b62_91f8_11ed_9536_04ed335ad0c9level0_row34\" class=\"row_heading level0 row34\" >34</th>\n",
       "                        <td id=\"T_cde51b62_91f8_11ed_9536_04ed335ad0c9row34_col0\" class=\"data row34 col0\" >PCA Method</td>\n",
       "                        <td id=\"T_cde51b62_91f8_11ed_9536_04ed335ad0c9row34_col1\" class=\"data row34 col1\" >None</td>\n",
       "            </tr>\n",
       "            <tr>\n",
       "                        <th id=\"T_cde51b62_91f8_11ed_9536_04ed335ad0c9level0_row35\" class=\"row_heading level0 row35\" >35</th>\n",
       "                        <td id=\"T_cde51b62_91f8_11ed_9536_04ed335ad0c9row35_col0\" class=\"data row35 col0\" >PCA Components</td>\n",
       "                        <td id=\"T_cde51b62_91f8_11ed_9536_04ed335ad0c9row35_col1\" class=\"data row35 col1\" >None</td>\n",
       "            </tr>\n",
       "            <tr>\n",
       "                        <th id=\"T_cde51b62_91f8_11ed_9536_04ed335ad0c9level0_row36\" class=\"row_heading level0 row36\" >36</th>\n",
       "                        <td id=\"T_cde51b62_91f8_11ed_9536_04ed335ad0c9row36_col0\" class=\"data row36 col0\" >Ignore Low Variance</td>\n",
       "                        <td id=\"T_cde51b62_91f8_11ed_9536_04ed335ad0c9row36_col1\" class=\"data row36 col1\" >False</td>\n",
       "            </tr>\n",
       "            <tr>\n",
       "                        <th id=\"T_cde51b62_91f8_11ed_9536_04ed335ad0c9level0_row37\" class=\"row_heading level0 row37\" >37</th>\n",
       "                        <td id=\"T_cde51b62_91f8_11ed_9536_04ed335ad0c9row37_col0\" class=\"data row37 col0\" >Combine Rare Levels</td>\n",
       "                        <td id=\"T_cde51b62_91f8_11ed_9536_04ed335ad0c9row37_col1\" class=\"data row37 col1\" >False</td>\n",
       "            </tr>\n",
       "            <tr>\n",
       "                        <th id=\"T_cde51b62_91f8_11ed_9536_04ed335ad0c9level0_row38\" class=\"row_heading level0 row38\" >38</th>\n",
       "                        <td id=\"T_cde51b62_91f8_11ed_9536_04ed335ad0c9row38_col0\" class=\"data row38 col0\" >Rare Level Threshold</td>\n",
       "                        <td id=\"T_cde51b62_91f8_11ed_9536_04ed335ad0c9row38_col1\" class=\"data row38 col1\" >None</td>\n",
       "            </tr>\n",
       "            <tr>\n",
       "                        <th id=\"T_cde51b62_91f8_11ed_9536_04ed335ad0c9level0_row39\" class=\"row_heading level0 row39\" >39</th>\n",
       "                        <td id=\"T_cde51b62_91f8_11ed_9536_04ed335ad0c9row39_col0\" class=\"data row39 col0\" >Numeric Binning</td>\n",
       "                        <td id=\"T_cde51b62_91f8_11ed_9536_04ed335ad0c9row39_col1\" class=\"data row39 col1\" >False</td>\n",
       "            </tr>\n",
       "            <tr>\n",
       "                        <th id=\"T_cde51b62_91f8_11ed_9536_04ed335ad0c9level0_row40\" class=\"row_heading level0 row40\" >40</th>\n",
       "                        <td id=\"T_cde51b62_91f8_11ed_9536_04ed335ad0c9row40_col0\" class=\"data row40 col0\" >Remove Outliers</td>\n",
       "                        <td id=\"T_cde51b62_91f8_11ed_9536_04ed335ad0c9row40_col1\" class=\"data row40 col1\" >False</td>\n",
       "            </tr>\n",
       "            <tr>\n",
       "                        <th id=\"T_cde51b62_91f8_11ed_9536_04ed335ad0c9level0_row41\" class=\"row_heading level0 row41\" >41</th>\n",
       "                        <td id=\"T_cde51b62_91f8_11ed_9536_04ed335ad0c9row41_col0\" class=\"data row41 col0\" >Outliers Threshold</td>\n",
       "                        <td id=\"T_cde51b62_91f8_11ed_9536_04ed335ad0c9row41_col1\" class=\"data row41 col1\" >None</td>\n",
       "            </tr>\n",
       "            <tr>\n",
       "                        <th id=\"T_cde51b62_91f8_11ed_9536_04ed335ad0c9level0_row42\" class=\"row_heading level0 row42\" >42</th>\n",
       "                        <td id=\"T_cde51b62_91f8_11ed_9536_04ed335ad0c9row42_col0\" class=\"data row42 col0\" >Remove Multicollinearity</td>\n",
       "                        <td id=\"T_cde51b62_91f8_11ed_9536_04ed335ad0c9row42_col1\" class=\"data row42 col1\" >False</td>\n",
       "            </tr>\n",
       "            <tr>\n",
       "                        <th id=\"T_cde51b62_91f8_11ed_9536_04ed335ad0c9level0_row43\" class=\"row_heading level0 row43\" >43</th>\n",
       "                        <td id=\"T_cde51b62_91f8_11ed_9536_04ed335ad0c9row43_col0\" class=\"data row43 col0\" >Multicollinearity Threshold</td>\n",
       "                        <td id=\"T_cde51b62_91f8_11ed_9536_04ed335ad0c9row43_col1\" class=\"data row43 col1\" >None</td>\n",
       "            </tr>\n",
       "            <tr>\n",
       "                        <th id=\"T_cde51b62_91f8_11ed_9536_04ed335ad0c9level0_row44\" class=\"row_heading level0 row44\" >44</th>\n",
       "                        <td id=\"T_cde51b62_91f8_11ed_9536_04ed335ad0c9row44_col0\" class=\"data row44 col0\" >Clustering</td>\n",
       "                        <td id=\"T_cde51b62_91f8_11ed_9536_04ed335ad0c9row44_col1\" class=\"data row44 col1\" >False</td>\n",
       "            </tr>\n",
       "            <tr>\n",
       "                        <th id=\"T_cde51b62_91f8_11ed_9536_04ed335ad0c9level0_row45\" class=\"row_heading level0 row45\" >45</th>\n",
       "                        <td id=\"T_cde51b62_91f8_11ed_9536_04ed335ad0c9row45_col0\" class=\"data row45 col0\" >Clustering Iteration</td>\n",
       "                        <td id=\"T_cde51b62_91f8_11ed_9536_04ed335ad0c9row45_col1\" class=\"data row45 col1\" >None</td>\n",
       "            </tr>\n",
       "            <tr>\n",
       "                        <th id=\"T_cde51b62_91f8_11ed_9536_04ed335ad0c9level0_row46\" class=\"row_heading level0 row46\" >46</th>\n",
       "                        <td id=\"T_cde51b62_91f8_11ed_9536_04ed335ad0c9row46_col0\" class=\"data row46 col0\" >Polynomial Features</td>\n",
       "                        <td id=\"T_cde51b62_91f8_11ed_9536_04ed335ad0c9row46_col1\" class=\"data row46 col1\" >False</td>\n",
       "            </tr>\n",
       "            <tr>\n",
       "                        <th id=\"T_cde51b62_91f8_11ed_9536_04ed335ad0c9level0_row47\" class=\"row_heading level0 row47\" >47</th>\n",
       "                        <td id=\"T_cde51b62_91f8_11ed_9536_04ed335ad0c9row47_col0\" class=\"data row47 col0\" >Polynomial Degree</td>\n",
       "                        <td id=\"T_cde51b62_91f8_11ed_9536_04ed335ad0c9row47_col1\" class=\"data row47 col1\" >None</td>\n",
       "            </tr>\n",
       "            <tr>\n",
       "                        <th id=\"T_cde51b62_91f8_11ed_9536_04ed335ad0c9level0_row48\" class=\"row_heading level0 row48\" >48</th>\n",
       "                        <td id=\"T_cde51b62_91f8_11ed_9536_04ed335ad0c9row48_col0\" class=\"data row48 col0\" >Trignometry Features</td>\n",
       "                        <td id=\"T_cde51b62_91f8_11ed_9536_04ed335ad0c9row48_col1\" class=\"data row48 col1\" >False</td>\n",
       "            </tr>\n",
       "            <tr>\n",
       "                        <th id=\"T_cde51b62_91f8_11ed_9536_04ed335ad0c9level0_row49\" class=\"row_heading level0 row49\" >49</th>\n",
       "                        <td id=\"T_cde51b62_91f8_11ed_9536_04ed335ad0c9row49_col0\" class=\"data row49 col0\" >Polynomial Threshold</td>\n",
       "                        <td id=\"T_cde51b62_91f8_11ed_9536_04ed335ad0c9row49_col1\" class=\"data row49 col1\" >None</td>\n",
       "            </tr>\n",
       "            <tr>\n",
       "                        <th id=\"T_cde51b62_91f8_11ed_9536_04ed335ad0c9level0_row50\" class=\"row_heading level0 row50\" >50</th>\n",
       "                        <td id=\"T_cde51b62_91f8_11ed_9536_04ed335ad0c9row50_col0\" class=\"data row50 col0\" >Group Features</td>\n",
       "                        <td id=\"T_cde51b62_91f8_11ed_9536_04ed335ad0c9row50_col1\" class=\"data row50 col1\" >False</td>\n",
       "            </tr>\n",
       "            <tr>\n",
       "                        <th id=\"T_cde51b62_91f8_11ed_9536_04ed335ad0c9level0_row51\" class=\"row_heading level0 row51\" >51</th>\n",
       "                        <td id=\"T_cde51b62_91f8_11ed_9536_04ed335ad0c9row51_col0\" class=\"data row51 col0\" >Feature Selection</td>\n",
       "                        <td id=\"T_cde51b62_91f8_11ed_9536_04ed335ad0c9row51_col1\" class=\"data row51 col1\" >False</td>\n",
       "            </tr>\n",
       "            <tr>\n",
       "                        <th id=\"T_cde51b62_91f8_11ed_9536_04ed335ad0c9level0_row52\" class=\"row_heading level0 row52\" >52</th>\n",
       "                        <td id=\"T_cde51b62_91f8_11ed_9536_04ed335ad0c9row52_col0\" class=\"data row52 col0\" >Feature Selection Method</td>\n",
       "                        <td id=\"T_cde51b62_91f8_11ed_9536_04ed335ad0c9row52_col1\" class=\"data row52 col1\" >classic</td>\n",
       "            </tr>\n",
       "            <tr>\n",
       "                        <th id=\"T_cde51b62_91f8_11ed_9536_04ed335ad0c9level0_row53\" class=\"row_heading level0 row53\" >53</th>\n",
       "                        <td id=\"T_cde51b62_91f8_11ed_9536_04ed335ad0c9row53_col0\" class=\"data row53 col0\" >Features Selection Threshold</td>\n",
       "                        <td id=\"T_cde51b62_91f8_11ed_9536_04ed335ad0c9row53_col1\" class=\"data row53 col1\" >None</td>\n",
       "            </tr>\n",
       "            <tr>\n",
       "                        <th id=\"T_cde51b62_91f8_11ed_9536_04ed335ad0c9level0_row54\" class=\"row_heading level0 row54\" >54</th>\n",
       "                        <td id=\"T_cde51b62_91f8_11ed_9536_04ed335ad0c9row54_col0\" class=\"data row54 col0\" >Feature Interaction</td>\n",
       "                        <td id=\"T_cde51b62_91f8_11ed_9536_04ed335ad0c9row54_col1\" class=\"data row54 col1\" >False</td>\n",
       "            </tr>\n",
       "            <tr>\n",
       "                        <th id=\"T_cde51b62_91f8_11ed_9536_04ed335ad0c9level0_row55\" class=\"row_heading level0 row55\" >55</th>\n",
       "                        <td id=\"T_cde51b62_91f8_11ed_9536_04ed335ad0c9row55_col0\" class=\"data row55 col0\" >Feature Ratio</td>\n",
       "                        <td id=\"T_cde51b62_91f8_11ed_9536_04ed335ad0c9row55_col1\" class=\"data row55 col1\" >False</td>\n",
       "            </tr>\n",
       "            <tr>\n",
       "                        <th id=\"T_cde51b62_91f8_11ed_9536_04ed335ad0c9level0_row56\" class=\"row_heading level0 row56\" >56</th>\n",
       "                        <td id=\"T_cde51b62_91f8_11ed_9536_04ed335ad0c9row56_col0\" class=\"data row56 col0\" >Interaction Threshold</td>\n",
       "                        <td id=\"T_cde51b62_91f8_11ed_9536_04ed335ad0c9row56_col1\" class=\"data row56 col1\" >None</td>\n",
       "            </tr>\n",
       "            <tr>\n",
       "                        <th id=\"T_cde51b62_91f8_11ed_9536_04ed335ad0c9level0_row57\" class=\"row_heading level0 row57\" >57</th>\n",
       "                        <td id=\"T_cde51b62_91f8_11ed_9536_04ed335ad0c9row57_col0\" class=\"data row57 col0\" >Fix Imbalance</td>\n",
       "                        <td id=\"T_cde51b62_91f8_11ed_9536_04ed335ad0c9row57_col1\" class=\"data row57 col1\" >False</td>\n",
       "            </tr>\n",
       "            <tr>\n",
       "                        <th id=\"T_cde51b62_91f8_11ed_9536_04ed335ad0c9level0_row58\" class=\"row_heading level0 row58\" >58</th>\n",
       "                        <td id=\"T_cde51b62_91f8_11ed_9536_04ed335ad0c9row58_col0\" class=\"data row58 col0\" >Fix Imbalance Method</td>\n",
       "                        <td id=\"T_cde51b62_91f8_11ed_9536_04ed335ad0c9row58_col1\" class=\"data row58 col1\" >SMOTE</td>\n",
       "            </tr>\n",
       "    </tbody></table>"
      ],
      "text/plain": [
       "<pandas.io.formats.style.Styler at 0x28a581dd898>"
      ]
     },
     "metadata": {},
     "output_type": "display_data"
    }
   ],
   "source": [
    "exp_clf102 = setup(data = train_df, target = 'Category OAI')"
   ]
  },
  {
   "cell_type": "code",
   "execution_count": 72,
   "id": "ebc626e8",
   "metadata": {},
   "outputs": [
    {
     "data": {
      "text/html": [
       "<style  type=\"text/css\" >\n",
       "    #T_5de4dd88_91f9_11ed_88d7_04ed335ad0c9 th {\n",
       "          text-align: left;\n",
       "    }#T_5de4dd88_91f9_11ed_88d7_04ed335ad0c9row0_col0,#T_5de4dd88_91f9_11ed_88d7_04ed335ad0c9row1_col0,#T_5de4dd88_91f9_11ed_88d7_04ed335ad0c9row1_col1,#T_5de4dd88_91f9_11ed_88d7_04ed335ad0c9row1_col2,#T_5de4dd88_91f9_11ed_88d7_04ed335ad0c9row1_col3,#T_5de4dd88_91f9_11ed_88d7_04ed335ad0c9row1_col4,#T_5de4dd88_91f9_11ed_88d7_04ed335ad0c9row1_col5,#T_5de4dd88_91f9_11ed_88d7_04ed335ad0c9row1_col6,#T_5de4dd88_91f9_11ed_88d7_04ed335ad0c9row1_col7,#T_5de4dd88_91f9_11ed_88d7_04ed335ad0c9row2_col0,#T_5de4dd88_91f9_11ed_88d7_04ed335ad0c9row2_col1,#T_5de4dd88_91f9_11ed_88d7_04ed335ad0c9row2_col2,#T_5de4dd88_91f9_11ed_88d7_04ed335ad0c9row2_col3,#T_5de4dd88_91f9_11ed_88d7_04ed335ad0c9row2_col4,#T_5de4dd88_91f9_11ed_88d7_04ed335ad0c9row2_col5,#T_5de4dd88_91f9_11ed_88d7_04ed335ad0c9row2_col6,#T_5de4dd88_91f9_11ed_88d7_04ed335ad0c9row2_col7,#T_5de4dd88_91f9_11ed_88d7_04ed335ad0c9row3_col0,#T_5de4dd88_91f9_11ed_88d7_04ed335ad0c9row3_col1,#T_5de4dd88_91f9_11ed_88d7_04ed335ad0c9row3_col2,#T_5de4dd88_91f9_11ed_88d7_04ed335ad0c9row3_col3,#T_5de4dd88_91f9_11ed_88d7_04ed335ad0c9row3_col4,#T_5de4dd88_91f9_11ed_88d7_04ed335ad0c9row3_col5,#T_5de4dd88_91f9_11ed_88d7_04ed335ad0c9row3_col6,#T_5de4dd88_91f9_11ed_88d7_04ed335ad0c9row3_col7,#T_5de4dd88_91f9_11ed_88d7_04ed335ad0c9row4_col0,#T_5de4dd88_91f9_11ed_88d7_04ed335ad0c9row4_col1,#T_5de4dd88_91f9_11ed_88d7_04ed335ad0c9row4_col2,#T_5de4dd88_91f9_11ed_88d7_04ed335ad0c9row4_col3,#T_5de4dd88_91f9_11ed_88d7_04ed335ad0c9row4_col4,#T_5de4dd88_91f9_11ed_88d7_04ed335ad0c9row4_col5,#T_5de4dd88_91f9_11ed_88d7_04ed335ad0c9row4_col6,#T_5de4dd88_91f9_11ed_88d7_04ed335ad0c9row4_col7,#T_5de4dd88_91f9_11ed_88d7_04ed335ad0c9row5_col0,#T_5de4dd88_91f9_11ed_88d7_04ed335ad0c9row5_col1,#T_5de4dd88_91f9_11ed_88d7_04ed335ad0c9row5_col2,#T_5de4dd88_91f9_11ed_88d7_04ed335ad0c9row5_col3,#T_5de4dd88_91f9_11ed_88d7_04ed335ad0c9row5_col4,#T_5de4dd88_91f9_11ed_88d7_04ed335ad0c9row5_col5,#T_5de4dd88_91f9_11ed_88d7_04ed335ad0c9row5_col6,#T_5de4dd88_91f9_11ed_88d7_04ed335ad0c9row5_col7,#T_5de4dd88_91f9_11ed_88d7_04ed335ad0c9row6_col0,#T_5de4dd88_91f9_11ed_88d7_04ed335ad0c9row6_col1,#T_5de4dd88_91f9_11ed_88d7_04ed335ad0c9row6_col2,#T_5de4dd88_91f9_11ed_88d7_04ed335ad0c9row6_col3,#T_5de4dd88_91f9_11ed_88d7_04ed335ad0c9row6_col4,#T_5de4dd88_91f9_11ed_88d7_04ed335ad0c9row6_col5,#T_5de4dd88_91f9_11ed_88d7_04ed335ad0c9row6_col6,#T_5de4dd88_91f9_11ed_88d7_04ed335ad0c9row6_col7,#T_5de4dd88_91f9_11ed_88d7_04ed335ad0c9row7_col0,#T_5de4dd88_91f9_11ed_88d7_04ed335ad0c9row7_col1,#T_5de4dd88_91f9_11ed_88d7_04ed335ad0c9row7_col2,#T_5de4dd88_91f9_11ed_88d7_04ed335ad0c9row7_col3,#T_5de4dd88_91f9_11ed_88d7_04ed335ad0c9row7_col4,#T_5de4dd88_91f9_11ed_88d7_04ed335ad0c9row7_col5,#T_5de4dd88_91f9_11ed_88d7_04ed335ad0c9row7_col6,#T_5de4dd88_91f9_11ed_88d7_04ed335ad0c9row7_col7,#T_5de4dd88_91f9_11ed_88d7_04ed335ad0c9row8_col0,#T_5de4dd88_91f9_11ed_88d7_04ed335ad0c9row8_col1,#T_5de4dd88_91f9_11ed_88d7_04ed335ad0c9row8_col2,#T_5de4dd88_91f9_11ed_88d7_04ed335ad0c9row8_col3,#T_5de4dd88_91f9_11ed_88d7_04ed335ad0c9row8_col4,#T_5de4dd88_91f9_11ed_88d7_04ed335ad0c9row8_col5,#T_5de4dd88_91f9_11ed_88d7_04ed335ad0c9row8_col6,#T_5de4dd88_91f9_11ed_88d7_04ed335ad0c9row8_col7,#T_5de4dd88_91f9_11ed_88d7_04ed335ad0c9row9_col0,#T_5de4dd88_91f9_11ed_88d7_04ed335ad0c9row9_col1,#T_5de4dd88_91f9_11ed_88d7_04ed335ad0c9row9_col2,#T_5de4dd88_91f9_11ed_88d7_04ed335ad0c9row9_col3,#T_5de4dd88_91f9_11ed_88d7_04ed335ad0c9row9_col4,#T_5de4dd88_91f9_11ed_88d7_04ed335ad0c9row9_col5,#T_5de4dd88_91f9_11ed_88d7_04ed335ad0c9row9_col6,#T_5de4dd88_91f9_11ed_88d7_04ed335ad0c9row9_col7,#T_5de4dd88_91f9_11ed_88d7_04ed335ad0c9row10_col0,#T_5de4dd88_91f9_11ed_88d7_04ed335ad0c9row10_col1,#T_5de4dd88_91f9_11ed_88d7_04ed335ad0c9row10_col2,#T_5de4dd88_91f9_11ed_88d7_04ed335ad0c9row10_col3,#T_5de4dd88_91f9_11ed_88d7_04ed335ad0c9row10_col4,#T_5de4dd88_91f9_11ed_88d7_04ed335ad0c9row10_col5,#T_5de4dd88_91f9_11ed_88d7_04ed335ad0c9row10_col6,#T_5de4dd88_91f9_11ed_88d7_04ed335ad0c9row10_col7,#T_5de4dd88_91f9_11ed_88d7_04ed335ad0c9row11_col0,#T_5de4dd88_91f9_11ed_88d7_04ed335ad0c9row11_col1,#T_5de4dd88_91f9_11ed_88d7_04ed335ad0c9row11_col2,#T_5de4dd88_91f9_11ed_88d7_04ed335ad0c9row11_col3,#T_5de4dd88_91f9_11ed_88d7_04ed335ad0c9row11_col4,#T_5de4dd88_91f9_11ed_88d7_04ed335ad0c9row11_col5,#T_5de4dd88_91f9_11ed_88d7_04ed335ad0c9row11_col6,#T_5de4dd88_91f9_11ed_88d7_04ed335ad0c9row11_col7,#T_5de4dd88_91f9_11ed_88d7_04ed335ad0c9row12_col0,#T_5de4dd88_91f9_11ed_88d7_04ed335ad0c9row12_col1,#T_5de4dd88_91f9_11ed_88d7_04ed335ad0c9row12_col2,#T_5de4dd88_91f9_11ed_88d7_04ed335ad0c9row12_col3,#T_5de4dd88_91f9_11ed_88d7_04ed335ad0c9row12_col4,#T_5de4dd88_91f9_11ed_88d7_04ed335ad0c9row12_col5,#T_5de4dd88_91f9_11ed_88d7_04ed335ad0c9row12_col6,#T_5de4dd88_91f9_11ed_88d7_04ed335ad0c9row12_col7,#T_5de4dd88_91f9_11ed_88d7_04ed335ad0c9row13_col0,#T_5de4dd88_91f9_11ed_88d7_04ed335ad0c9row13_col1,#T_5de4dd88_91f9_11ed_88d7_04ed335ad0c9row13_col2,#T_5de4dd88_91f9_11ed_88d7_04ed335ad0c9row13_col3,#T_5de4dd88_91f9_11ed_88d7_04ed335ad0c9row13_col4,#T_5de4dd88_91f9_11ed_88d7_04ed335ad0c9row13_col5,#T_5de4dd88_91f9_11ed_88d7_04ed335ad0c9row13_col6,#T_5de4dd88_91f9_11ed_88d7_04ed335ad0c9row13_col7{\n",
       "            text-align:  left;\n",
       "            text-align:  left;\n",
       "        }#T_5de4dd88_91f9_11ed_88d7_04ed335ad0c9row0_col1,#T_5de4dd88_91f9_11ed_88d7_04ed335ad0c9row0_col2,#T_5de4dd88_91f9_11ed_88d7_04ed335ad0c9row0_col3,#T_5de4dd88_91f9_11ed_88d7_04ed335ad0c9row0_col4,#T_5de4dd88_91f9_11ed_88d7_04ed335ad0c9row0_col5,#T_5de4dd88_91f9_11ed_88d7_04ed335ad0c9row0_col6,#T_5de4dd88_91f9_11ed_88d7_04ed335ad0c9row0_col7{\n",
       "            text-align:  left;\n",
       "            text-align:  left;\n",
       "            background-color:  yellow;\n",
       "        }#T_5de4dd88_91f9_11ed_88d7_04ed335ad0c9row0_col8,#T_5de4dd88_91f9_11ed_88d7_04ed335ad0c9row1_col8,#T_5de4dd88_91f9_11ed_88d7_04ed335ad0c9row2_col8,#T_5de4dd88_91f9_11ed_88d7_04ed335ad0c9row3_col8,#T_5de4dd88_91f9_11ed_88d7_04ed335ad0c9row4_col8,#T_5de4dd88_91f9_11ed_88d7_04ed335ad0c9row5_col8,#T_5de4dd88_91f9_11ed_88d7_04ed335ad0c9row6_col8,#T_5de4dd88_91f9_11ed_88d7_04ed335ad0c9row7_col8,#T_5de4dd88_91f9_11ed_88d7_04ed335ad0c9row8_col8,#T_5de4dd88_91f9_11ed_88d7_04ed335ad0c9row9_col8,#T_5de4dd88_91f9_11ed_88d7_04ed335ad0c9row11_col8,#T_5de4dd88_91f9_11ed_88d7_04ed335ad0c9row13_col8{\n",
       "            text-align:  left;\n",
       "            text-align:  left;\n",
       "            background-color:  lightgrey;\n",
       "        }#T_5de4dd88_91f9_11ed_88d7_04ed335ad0c9row10_col8,#T_5de4dd88_91f9_11ed_88d7_04ed335ad0c9row12_col8{\n",
       "            text-align:  left;\n",
       "            text-align:  left;\n",
       "            background-color:  yellow;\n",
       "            background-color:  lightgrey;\n",
       "        }</style><table id=\"T_5de4dd88_91f9_11ed_88d7_04ed335ad0c9\" ><thead>    <tr>        <th class=\"blank level0\" ></th>        <th class=\"col_heading level0 col0\" >Model</th>        <th class=\"col_heading level0 col1\" >Accuracy</th>        <th class=\"col_heading level0 col2\" >AUC</th>        <th class=\"col_heading level0 col3\" >Recall</th>        <th class=\"col_heading level0 col4\" >Prec.</th>        <th class=\"col_heading level0 col5\" >F1</th>        <th class=\"col_heading level0 col6\" >Kappa</th>        <th class=\"col_heading level0 col7\" >MCC</th>        <th class=\"col_heading level0 col8\" >TT (Sec)</th>    </tr></thead><tbody>\n",
       "                <tr>\n",
       "                        <th id=\"T_5de4dd88_91f9_11ed_88d7_04ed335ad0c9level0_row0\" class=\"row_heading level0 row0\" >xgboost</th>\n",
       "                        <td id=\"T_5de4dd88_91f9_11ed_88d7_04ed335ad0c9row0_col0\" class=\"data row0 col0\" >Extreme Gradient Boosting</td>\n",
       "                        <td id=\"T_5de4dd88_91f9_11ed_88d7_04ed335ad0c9row0_col1\" class=\"data row0 col1\" >0.9186</td>\n",
       "                        <td id=\"T_5de4dd88_91f9_11ed_88d7_04ed335ad0c9row0_col2\" class=\"data row0 col2\" >0.9715</td>\n",
       "                        <td id=\"T_5de4dd88_91f9_11ed_88d7_04ed335ad0c9row0_col3\" class=\"data row0 col3\" >0.8455</td>\n",
       "                        <td id=\"T_5de4dd88_91f9_11ed_88d7_04ed335ad0c9row0_col4\" class=\"data row0 col4\" >0.9042</td>\n",
       "                        <td id=\"T_5de4dd88_91f9_11ed_88d7_04ed335ad0c9row0_col5\" class=\"data row0 col5\" >0.8738</td>\n",
       "                        <td id=\"T_5de4dd88_91f9_11ed_88d7_04ed335ad0c9row0_col6\" class=\"data row0 col6\" >0.8138</td>\n",
       "                        <td id=\"T_5de4dd88_91f9_11ed_88d7_04ed335ad0c9row0_col7\" class=\"data row0 col7\" >0.8149</td>\n",
       "                        <td id=\"T_5de4dd88_91f9_11ed_88d7_04ed335ad0c9row0_col8\" class=\"data row0 col8\" >3.6220</td>\n",
       "            </tr>\n",
       "            <tr>\n",
       "                        <th id=\"T_5de4dd88_91f9_11ed_88d7_04ed335ad0c9level0_row1\" class=\"row_heading level0 row1\" >et</th>\n",
       "                        <td id=\"T_5de4dd88_91f9_11ed_88d7_04ed335ad0c9row1_col0\" class=\"data row1 col0\" >Extra Trees Classifier</td>\n",
       "                        <td id=\"T_5de4dd88_91f9_11ed_88d7_04ed335ad0c9row1_col1\" class=\"data row1 col1\" >0.8944</td>\n",
       "                        <td id=\"T_5de4dd88_91f9_11ed_88d7_04ed335ad0c9row1_col2\" class=\"data row1 col2\" >0.9379</td>\n",
       "                        <td id=\"T_5de4dd88_91f9_11ed_88d7_04ed335ad0c9row1_col3\" class=\"data row1 col3\" >0.8428</td>\n",
       "                        <td id=\"T_5de4dd88_91f9_11ed_88d7_04ed335ad0c9row1_col4\" class=\"data row1 col4\" >0.8411</td>\n",
       "                        <td id=\"T_5de4dd88_91f9_11ed_88d7_04ed335ad0c9row1_col5\" class=\"data row1 col5\" >0.8419</td>\n",
       "                        <td id=\"T_5de4dd88_91f9_11ed_88d7_04ed335ad0c9row1_col6\" class=\"data row1 col6\" >0.7627</td>\n",
       "                        <td id=\"T_5de4dd88_91f9_11ed_88d7_04ed335ad0c9row1_col7\" class=\"data row1 col7\" >0.7627</td>\n",
       "                        <td id=\"T_5de4dd88_91f9_11ed_88d7_04ed335ad0c9row1_col8\" class=\"data row1 col8\" >2.8930</td>\n",
       "            </tr>\n",
       "            <tr>\n",
       "                        <th id=\"T_5de4dd88_91f9_11ed_88d7_04ed335ad0c9level0_row2\" class=\"row_heading level0 row2\" >rf</th>\n",
       "                        <td id=\"T_5de4dd88_91f9_11ed_88d7_04ed335ad0c9row2_col0\" class=\"data row2 col0\" >Random Forest Classifier</td>\n",
       "                        <td id=\"T_5de4dd88_91f9_11ed_88d7_04ed335ad0c9row2_col1\" class=\"data row2 col1\" >0.8960</td>\n",
       "                        <td id=\"T_5de4dd88_91f9_11ed_88d7_04ed335ad0c9row2_col2\" class=\"data row2 col2\" >0.9558</td>\n",
       "                        <td id=\"T_5de4dd88_91f9_11ed_88d7_04ed335ad0c9row2_col3\" class=\"data row2 col3\" >0.8405</td>\n",
       "                        <td id=\"T_5de4dd88_91f9_11ed_88d7_04ed335ad0c9row2_col4\" class=\"data row2 col4\" >0.8466</td>\n",
       "                        <td id=\"T_5de4dd88_91f9_11ed_88d7_04ed335ad0c9row2_col5\" class=\"data row2 col5\" >0.8435</td>\n",
       "                        <td id=\"T_5de4dd88_91f9_11ed_88d7_04ed335ad0c9row2_col6\" class=\"data row2 col6\" >0.7657</td>\n",
       "                        <td id=\"T_5de4dd88_91f9_11ed_88d7_04ed335ad0c9row2_col7\" class=\"data row2 col7\" >0.7657</td>\n",
       "                        <td id=\"T_5de4dd88_91f9_11ed_88d7_04ed335ad0c9row2_col8\" class=\"data row2 col8\" >2.6820</td>\n",
       "            </tr>\n",
       "            <tr>\n",
       "                        <th id=\"T_5de4dd88_91f9_11ed_88d7_04ed335ad0c9level0_row3\" class=\"row_heading level0 row3\" >lightgbm</th>\n",
       "                        <td id=\"T_5de4dd88_91f9_11ed_88d7_04ed335ad0c9row3_col0\" class=\"data row3 col0\" >Light Gradient Boosting Machine</td>\n",
       "                        <td id=\"T_5de4dd88_91f9_11ed_88d7_04ed335ad0c9row3_col1\" class=\"data row3 col1\" >0.9094</td>\n",
       "                        <td id=\"T_5de4dd88_91f9_11ed_88d7_04ed335ad0c9row3_col2\" class=\"data row3 col2\" >0.9666</td>\n",
       "                        <td id=\"T_5de4dd88_91f9_11ed_88d7_04ed335ad0c9row3_col3\" class=\"data row3 col3\" >0.8384</td>\n",
       "                        <td id=\"T_5de4dd88_91f9_11ed_88d7_04ed335ad0c9row3_col4\" class=\"data row3 col4\" >0.8840</td>\n",
       "                        <td id=\"T_5de4dd88_91f9_11ed_88d7_04ed335ad0c9row3_col5\" class=\"data row3 col5\" >0.8606</td>\n",
       "                        <td id=\"T_5de4dd88_91f9_11ed_88d7_04ed335ad0c9row3_col6\" class=\"data row3 col6\" >0.7936</td>\n",
       "                        <td id=\"T_5de4dd88_91f9_11ed_88d7_04ed335ad0c9row3_col7\" class=\"data row3 col7\" >0.7942</td>\n",
       "                        <td id=\"T_5de4dd88_91f9_11ed_88d7_04ed335ad0c9row3_col8\" class=\"data row3 col8\" >0.6460</td>\n",
       "            </tr>\n",
       "            <tr>\n",
       "                        <th id=\"T_5de4dd88_91f9_11ed_88d7_04ed335ad0c9level0_row4\" class=\"row_heading level0 row4\" >knn</th>\n",
       "                        <td id=\"T_5de4dd88_91f9_11ed_88d7_04ed335ad0c9row4_col0\" class=\"data row4 col0\" >K Neighbors Classifier</td>\n",
       "                        <td id=\"T_5de4dd88_91f9_11ed_88d7_04ed335ad0c9row4_col1\" class=\"data row4 col1\" >0.8572</td>\n",
       "                        <td id=\"T_5de4dd88_91f9_11ed_88d7_04ed335ad0c9row4_col2\" class=\"data row4 col2\" >0.9197</td>\n",
       "                        <td id=\"T_5de4dd88_91f9_11ed_88d7_04ed335ad0c9row4_col3\" class=\"data row4 col3\" >0.8314</td>\n",
       "                        <td id=\"T_5de4dd88_91f9_11ed_88d7_04ed335ad0c9row4_col4\" class=\"data row4 col4\" >0.7621</td>\n",
       "                        <td id=\"T_5de4dd88_91f9_11ed_88d7_04ed335ad0c9row4_col5\" class=\"data row4 col5\" >0.7952</td>\n",
       "                        <td id=\"T_5de4dd88_91f9_11ed_88d7_04ed335ad0c9row4_col6\" class=\"data row4 col6\" >0.6859</td>\n",
       "                        <td id=\"T_5de4dd88_91f9_11ed_88d7_04ed335ad0c9row4_col7\" class=\"data row4 col7\" >0.6875</td>\n",
       "                        <td id=\"T_5de4dd88_91f9_11ed_88d7_04ed335ad0c9row4_col8\" class=\"data row4 col8\" >5.9480</td>\n",
       "            </tr>\n",
       "            <tr>\n",
       "                        <th id=\"T_5de4dd88_91f9_11ed_88d7_04ed335ad0c9level0_row5\" class=\"row_heading level0 row5\" >gbc</th>\n",
       "                        <td id=\"T_5de4dd88_91f9_11ed_88d7_04ed335ad0c9row5_col0\" class=\"data row5 col0\" >Gradient Boosting Classifier</td>\n",
       "                        <td id=\"T_5de4dd88_91f9_11ed_88d7_04ed335ad0c9row5_col1\" class=\"data row5 col1\" >0.8713</td>\n",
       "                        <td id=\"T_5de4dd88_91f9_11ed_88d7_04ed335ad0c9row5_col2\" class=\"data row5 col2\" >0.9409</td>\n",
       "                        <td id=\"T_5de4dd88_91f9_11ed_88d7_04ed335ad0c9row5_col3\" class=\"data row5 col3\" >0.8138</td>\n",
       "                        <td id=\"T_5de4dd88_91f9_11ed_88d7_04ed335ad0c9row5_col4\" class=\"data row5 col4\" >0.8030</td>\n",
       "                        <td id=\"T_5de4dd88_91f9_11ed_88d7_04ed335ad0c9row5_col5\" class=\"data row5 col5\" >0.8083</td>\n",
       "                        <td id=\"T_5de4dd88_91f9_11ed_88d7_04ed335ad0c9row5_col6\" class=\"data row5 col6\" >0.7115</td>\n",
       "                        <td id=\"T_5de4dd88_91f9_11ed_88d7_04ed335ad0c9row5_col7\" class=\"data row5 col7\" >0.7115</td>\n",
       "                        <td id=\"T_5de4dd88_91f9_11ed_88d7_04ed335ad0c9row5_col8\" class=\"data row5 col8\" >3.6300</td>\n",
       "            </tr>\n",
       "            <tr>\n",
       "                        <th id=\"T_5de4dd88_91f9_11ed_88d7_04ed335ad0c9level0_row6\" class=\"row_heading level0 row6\" >dt</th>\n",
       "                        <td id=\"T_5de4dd88_91f9_11ed_88d7_04ed335ad0c9row6_col0\" class=\"data row6 col0\" >Decision Tree Classifier</td>\n",
       "                        <td id=\"T_5de4dd88_91f9_11ed_88d7_04ed335ad0c9row6_col1\" class=\"data row6 col1\" >0.8791</td>\n",
       "                        <td id=\"T_5de4dd88_91f9_11ed_88d7_04ed335ad0c9row6_col2\" class=\"data row6 col2\" >0.8655</td>\n",
       "                        <td id=\"T_5de4dd88_91f9_11ed_88d7_04ed335ad0c9row6_col3\" class=\"data row6 col3\" >0.8042</td>\n",
       "                        <td id=\"T_5de4dd88_91f9_11ed_88d7_04ed335ad0c9row6_col4\" class=\"data row6 col4\" >0.8284</td>\n",
       "                        <td id=\"T_5de4dd88_91f9_11ed_88d7_04ed335ad0c9row6_col5\" class=\"data row6 col5\" >0.8161</td>\n",
       "                        <td id=\"T_5de4dd88_91f9_11ed_88d7_04ed335ad0c9row6_col6\" class=\"data row6 col6\" >0.7261</td>\n",
       "                        <td id=\"T_5de4dd88_91f9_11ed_88d7_04ed335ad0c9row6_col7\" class=\"data row6 col7\" >0.7263</td>\n",
       "                        <td id=\"T_5de4dd88_91f9_11ed_88d7_04ed335ad0c9row6_col8\" class=\"data row6 col8\" >0.1970</td>\n",
       "            </tr>\n",
       "            <tr>\n",
       "                        <th id=\"T_5de4dd88_91f9_11ed_88d7_04ed335ad0c9level0_row7\" class=\"row_heading level0 row7\" >ada</th>\n",
       "                        <td id=\"T_5de4dd88_91f9_11ed_88d7_04ed335ad0c9row7_col0\" class=\"data row7 col0\" >Ada Boost Classifier</td>\n",
       "                        <td id=\"T_5de4dd88_91f9_11ed_88d7_04ed335ad0c9row7_col1\" class=\"data row7 col1\" >0.8412</td>\n",
       "                        <td id=\"T_5de4dd88_91f9_11ed_88d7_04ed335ad0c9row7_col2\" class=\"data row7 col2\" >0.9101</td>\n",
       "                        <td id=\"T_5de4dd88_91f9_11ed_88d7_04ed335ad0c9row7_col3\" class=\"data row7 col3\" >0.7322</td>\n",
       "                        <td id=\"T_5de4dd88_91f9_11ed_88d7_04ed335ad0c9row7_col4\" class=\"data row7 col4\" >0.7788</td>\n",
       "                        <td id=\"T_5de4dd88_91f9_11ed_88d7_04ed335ad0c9row7_col5\" class=\"data row7 col5\" >0.7546</td>\n",
       "                        <td id=\"T_5de4dd88_91f9_11ed_88d7_04ed335ad0c9row7_col6\" class=\"data row7 col6\" >0.6374</td>\n",
       "                        <td id=\"T_5de4dd88_91f9_11ed_88d7_04ed335ad0c9row7_col7\" class=\"data row7 col7\" >0.6382</td>\n",
       "                        <td id=\"T_5de4dd88_91f9_11ed_88d7_04ed335ad0c9row7_col8\" class=\"data row7 col8\" >1.1160</td>\n",
       "            </tr>\n",
       "            <tr>\n",
       "                        <th id=\"T_5de4dd88_91f9_11ed_88d7_04ed335ad0c9level0_row8\" class=\"row_heading level0 row8\" >svm</th>\n",
       "                        <td id=\"T_5de4dd88_91f9_11ed_88d7_04ed335ad0c9row8_col0\" class=\"data row8 col0\" >SVM - Linear Kernel</td>\n",
       "                        <td id=\"T_5de4dd88_91f9_11ed_88d7_04ed335ad0c9row8_col1\" class=\"data row8 col1\" >0.8081</td>\n",
       "                        <td id=\"T_5de4dd88_91f9_11ed_88d7_04ed335ad0c9row8_col2\" class=\"data row8 col2\" >0.0000</td>\n",
       "                        <td id=\"T_5de4dd88_91f9_11ed_88d7_04ed335ad0c9row8_col3\" class=\"data row8 col3\" >0.5959</td>\n",
       "                        <td id=\"T_5de4dd88_91f9_11ed_88d7_04ed335ad0c9row8_col4\" class=\"data row8 col4\" >0.7782</td>\n",
       "                        <td id=\"T_5de4dd88_91f9_11ed_88d7_04ed335ad0c9row8_col5\" class=\"data row8 col5\" >0.6731</td>\n",
       "                        <td id=\"T_5de4dd88_91f9_11ed_88d7_04ed335ad0c9row8_col6\" class=\"data row8 col6\" >0.5411</td>\n",
       "                        <td id=\"T_5de4dd88_91f9_11ed_88d7_04ed335ad0c9row8_col7\" class=\"data row8 col7\" >0.5519</td>\n",
       "                        <td id=\"T_5de4dd88_91f9_11ed_88d7_04ed335ad0c9row8_col8\" class=\"data row8 col8\" >0.2070</td>\n",
       "            </tr>\n",
       "            <tr>\n",
       "                        <th id=\"T_5de4dd88_91f9_11ed_88d7_04ed335ad0c9level0_row9\" class=\"row_heading level0 row9\" >lr</th>\n",
       "                        <td id=\"T_5de4dd88_91f9_11ed_88d7_04ed335ad0c9row9_col0\" class=\"data row9 col0\" >Logistic Regression</td>\n",
       "                        <td id=\"T_5de4dd88_91f9_11ed_88d7_04ed335ad0c9row9_col1\" class=\"data row9 col1\" >0.8010</td>\n",
       "                        <td id=\"T_5de4dd88_91f9_11ed_88d7_04ed335ad0c9row9_col2\" class=\"data row9 col2\" >0.8734</td>\n",
       "                        <td id=\"T_5de4dd88_91f9_11ed_88d7_04ed335ad0c9row9_col3\" class=\"data row9 col3\" >0.5579</td>\n",
       "                        <td id=\"T_5de4dd88_91f9_11ed_88d7_04ed335ad0c9row9_col4\" class=\"data row9 col4\" >0.7832</td>\n",
       "                        <td id=\"T_5de4dd88_91f9_11ed_88d7_04ed335ad0c9row9_col5\" class=\"data row9 col5\" >0.6516</td>\n",
       "                        <td id=\"T_5de4dd88_91f9_11ed_88d7_04ed335ad0c9row9_col6\" class=\"data row9 col6\" >0.5178</td>\n",
       "                        <td id=\"T_5de4dd88_91f9_11ed_88d7_04ed335ad0c9row9_col7\" class=\"data row9 col7\" >0.5324</td>\n",
       "                        <td id=\"T_5de4dd88_91f9_11ed_88d7_04ed335ad0c9row9_col8\" class=\"data row9 col8\" >1.8760</td>\n",
       "            </tr>\n",
       "            <tr>\n",
       "                        <th id=\"T_5de4dd88_91f9_11ed_88d7_04ed335ad0c9level0_row10\" class=\"row_heading level0 row10\" >nb</th>\n",
       "                        <td id=\"T_5de4dd88_91f9_11ed_88d7_04ed335ad0c9row10_col0\" class=\"data row10 col0\" >Naive Bayes</td>\n",
       "                        <td id=\"T_5de4dd88_91f9_11ed_88d7_04ed335ad0c9row10_col1\" class=\"data row10 col1\" >0.7926</td>\n",
       "                        <td id=\"T_5de4dd88_91f9_11ed_88d7_04ed335ad0c9row10_col2\" class=\"data row10 col2\" >0.8374</td>\n",
       "                        <td id=\"T_5de4dd88_91f9_11ed_88d7_04ed335ad0c9row10_col3\" class=\"data row10 col3\" >0.5373</td>\n",
       "                        <td id=\"T_5de4dd88_91f9_11ed_88d7_04ed335ad0c9row10_col4\" class=\"data row10 col4\" >0.7715</td>\n",
       "                        <td id=\"T_5de4dd88_91f9_11ed_88d7_04ed335ad0c9row10_col5\" class=\"data row10 col5\" >0.6334</td>\n",
       "                        <td id=\"T_5de4dd88_91f9_11ed_88d7_04ed335ad0c9row10_col6\" class=\"data row10 col6\" >0.4951</td>\n",
       "                        <td id=\"T_5de4dd88_91f9_11ed_88d7_04ed335ad0c9row10_col7\" class=\"data row10 col7\" >0.5109</td>\n",
       "                        <td id=\"T_5de4dd88_91f9_11ed_88d7_04ed335ad0c9row10_col8\" class=\"data row10 col8\" >0.0760</td>\n",
       "            </tr>\n",
       "            <tr>\n",
       "                        <th id=\"T_5de4dd88_91f9_11ed_88d7_04ed335ad0c9level0_row11\" class=\"row_heading level0 row11\" >lda</th>\n",
       "                        <td id=\"T_5de4dd88_91f9_11ed_88d7_04ed335ad0c9row11_col0\" class=\"data row11 col0\" >Linear Discriminant Analysis</td>\n",
       "                        <td id=\"T_5de4dd88_91f9_11ed_88d7_04ed335ad0c9row11_col1\" class=\"data row11 col1\" >0.7929</td>\n",
       "                        <td id=\"T_5de4dd88_91f9_11ed_88d7_04ed335ad0c9row11_col2\" class=\"data row11 col2\" >0.8728</td>\n",
       "                        <td id=\"T_5de4dd88_91f9_11ed_88d7_04ed335ad0c9row11_col3\" class=\"data row11 col3\" >0.5009</td>\n",
       "                        <td id=\"T_5de4dd88_91f9_11ed_88d7_04ed335ad0c9row11_col4\" class=\"data row11 col4\" >0.8044</td>\n",
       "                        <td id=\"T_5de4dd88_91f9_11ed_88d7_04ed335ad0c9row11_col5\" class=\"data row11 col5\" >0.6174</td>\n",
       "                        <td id=\"T_5de4dd88_91f9_11ed_88d7_04ed335ad0c9row11_col6\" class=\"data row11 col6\" >0.4857</td>\n",
       "                        <td id=\"T_5de4dd88_91f9_11ed_88d7_04ed335ad0c9row11_col7\" class=\"data row11 col7\" >0.5114</td>\n",
       "                        <td id=\"T_5de4dd88_91f9_11ed_88d7_04ed335ad0c9row11_col8\" class=\"data row11 col8\" >0.1840</td>\n",
       "            </tr>\n",
       "            <tr>\n",
       "                        <th id=\"T_5de4dd88_91f9_11ed_88d7_04ed335ad0c9level0_row12\" class=\"row_heading level0 row12\" >ridge</th>\n",
       "                        <td id=\"T_5de4dd88_91f9_11ed_88d7_04ed335ad0c9row12_col0\" class=\"data row12 col0\" >Ridge Classifier</td>\n",
       "                        <td id=\"T_5de4dd88_91f9_11ed_88d7_04ed335ad0c9row12_col1\" class=\"data row12 col1\" >0.7908</td>\n",
       "                        <td id=\"T_5de4dd88_91f9_11ed_88d7_04ed335ad0c9row12_col2\" class=\"data row12 col2\" >0.0000</td>\n",
       "                        <td id=\"T_5de4dd88_91f9_11ed_88d7_04ed335ad0c9row12_col3\" class=\"data row12 col3\" >0.4875</td>\n",
       "                        <td id=\"T_5de4dd88_91f9_11ed_88d7_04ed335ad0c9row12_col4\" class=\"data row12 col4\" >0.8095</td>\n",
       "                        <td id=\"T_5de4dd88_91f9_11ed_88d7_04ed335ad0c9row12_col5\" class=\"data row12 col5\" >0.6085</td>\n",
       "                        <td id=\"T_5de4dd88_91f9_11ed_88d7_04ed335ad0c9row12_col6\" class=\"data row12 col6\" >0.4775</td>\n",
       "                        <td id=\"T_5de4dd88_91f9_11ed_88d7_04ed335ad0c9row12_col7\" class=\"data row12 col7\" >0.5061</td>\n",
       "                        <td id=\"T_5de4dd88_91f9_11ed_88d7_04ed335ad0c9row12_col8\" class=\"data row12 col8\" >0.0760</td>\n",
       "            </tr>\n",
       "            <tr>\n",
       "                        <th id=\"T_5de4dd88_91f9_11ed_88d7_04ed335ad0c9level0_row13\" class=\"row_heading level0 row13\" >qda</th>\n",
       "                        <td id=\"T_5de4dd88_91f9_11ed_88d7_04ed335ad0c9row13_col0\" class=\"data row13 col0\" >Quadratic Discriminant Analysis</td>\n",
       "                        <td id=\"T_5de4dd88_91f9_11ed_88d7_04ed335ad0c9row13_col1\" class=\"data row13 col1\" >0.6665</td>\n",
       "                        <td id=\"T_5de4dd88_91f9_11ed_88d7_04ed335ad0c9row13_col2\" class=\"data row13 col2\" >0.0000</td>\n",
       "                        <td id=\"T_5de4dd88_91f9_11ed_88d7_04ed335ad0c9row13_col3\" class=\"data row13 col3\" >0.0000</td>\n",
       "                        <td id=\"T_5de4dd88_91f9_11ed_88d7_04ed335ad0c9row13_col4\" class=\"data row13 col4\" >0.0000</td>\n",
       "                        <td id=\"T_5de4dd88_91f9_11ed_88d7_04ed335ad0c9row13_col5\" class=\"data row13 col5\" >0.0000</td>\n",
       "                        <td id=\"T_5de4dd88_91f9_11ed_88d7_04ed335ad0c9row13_col6\" class=\"data row13 col6\" >0.0000</td>\n",
       "                        <td id=\"T_5de4dd88_91f9_11ed_88d7_04ed335ad0c9row13_col7\" class=\"data row13 col7\" >0.0000</td>\n",
       "                        <td id=\"T_5de4dd88_91f9_11ed_88d7_04ed335ad0c9row13_col8\" class=\"data row13 col8\" >0.1420</td>\n",
       "            </tr>\n",
       "    </tbody></table>"
      ],
      "text/plain": [
       "<pandas.io.formats.style.Styler at 0x28a581bb160>"
      ]
     },
     "metadata": {},
     "output_type": "display_data"
    },
    {
     "data": {
      "text/plain": [
       "XGBClassifier(base_score=0.5, booster='gbtree', callbacks=None,\n",
       "              colsample_bylevel=1, colsample_bynode=1, colsample_bytree=1,\n",
       "              early_stopping_rounds=None, enable_categorical=False,\n",
       "              eval_metric=None, gamma=0, gpu_id=-1, grow_policy='depthwise',\n",
       "              importance_type=None, interaction_constraints='',\n",
       "              learning_rate=0.300000012, max_bin=256, max_cat_to_onehot=4,\n",
       "              max_delta_step=0, max_depth=6, max_leaves=0, min_child_weight=1,\n",
       "              missing=nan, monotone_constraints='()', n_estimators=100,\n",
       "              n_jobs=-1, num_parallel_tree=1, objective='binary:logistic',\n",
       "              predictor='auto', random_state=577, reg_alpha=0, ...)"
      ]
     },
     "execution_count": 72,
     "metadata": {},
     "output_type": "execute_result"
    }
   ],
   "source": [
    "compare_models(sort='Recall')"
   ]
  },
  {
   "cell_type": "code",
   "execution_count": 73,
   "id": "1908d3f4",
   "metadata": {
    "scrolled": false
   },
   "outputs": [
    {
     "data": {
      "image/png": "[encoded data removed]",
      "text/plain": [
       "<Figure size 800x500 with 1 Axes>"
      ]
     },
     "metadata": {},
     "output_type": "display_data"
    }
   ],
   "source": [
    "##Create Model\n",
    "xgboost = create_model('xgboost', round = 2)\n",
    "###Tune by Accuracy\n",
    "xgboost_dt = tune_model(xgboost, optimize = 'Recall')\n",
    "##Plot Parameters\n",
    "plot_model(xgboost_dt, plot = 'parameter')\n",
    "##Plot Features\n",
    "plot_model(xgboost, plot='feature')"
   ]
  },
  {
   "cell_type": "code",
   "execution_count": 74,
   "id": "734a9080",
   "metadata": {},
   "outputs": [
    {
     "data": {
      "image/png": "[encoded data removed]",
      "text/plain": [
       "<Figure size 576x396 with 1 Axes>"
      ]
     },
     "metadata": {},
     "output_type": "display_data"
    }
   ],
   "source": [
    "##Plot Model\n",
    "plot_model(xgboost)"
   ]
  },
  {
   "cell_type": "code",
   "execution_count": 75,
   "id": "d563d6e2",
   "metadata": {},
   "outputs": [
    {
     "data": {
      "image/png": "[encoded data removed]",
      "text/plain": [
       "<Figure size 576x396 with 1 Axes>"
      ]
     },
     "metadata": {},
     "output_type": "display_data"
    }
   ],
   "source": [
    "## Accuracy Calculation\n",
    "plot_model(xgboost,'confusion_matrix')"
   ]
  },
  {
   "cell_type": "code",
   "execution_count": 76,
   "id": "662e9679",
   "metadata": {},
   "outputs": [],
   "source": [
    "final_rf = finalize_model(xgboost_dt)"
   ]
  },
  {
   "cell_type": "code",
   "execution_count": 77,
   "id": "938b6f99",
   "metadata": {},
   "outputs": [],
   "source": [
    "unseen_predictions = predict_model(final_rf, data=test_df[['Risk_Factor_FEI',\n",
    "       'Risk_Factor_Legal_Name', 'Risk_Factor_City', 'Risk_Factor_State','Quarter', 'Month',\n",
    "       'Risk_Factor_Project Area', 'Risk_Factor_Product_Type']])\n",
    "test_df[\"Xgboost\"] = unseen_predictions['Label']\n",
    "test_df[\"Xgboost_score\"] = unseen_predictions['Score']"
   ]
  },
  {
   "cell_type": "code",
   "execution_count": 78,
   "id": "f095d142",
   "metadata": {},
   "outputs": [
    {
     "name": "stdout",
     "output_type": "stream",
     "text": [
      "[[ 620 2596]\n",
      " [  18  196]]\n",
      "              precision    recall  f1-score   support\n",
      "\n",
      "           0       0.97      0.19      0.32      3216\n",
      "           1       0.07      0.92      0.13       214\n",
      "\n",
      "    accuracy                           0.24      3430\n",
      "   macro avg       0.52      0.55      0.23      3430\n",
      "weighted avg       0.92      0.24      0.31      3430\n",
      "\n"
     ]
    },
    {
     "data": {
      "text/plain": [
       "<AxesSubplot:>"
      ]
     },
     "execution_count": 78,
     "metadata": {},
     "output_type": "execute_result"
    },
    {
     "data": {
      "image/png": "[encoded data removed]",
      "text/plain": [
       "<Figure size 720x576 with 2 Axes>"
      ]
     },
     "metadata": {},
     "output_type": "display_data"
    }
   ],
   "source": [
    "from sklearn import metrics\n",
    "cmap = sn.cubehelix_palette(light=1, as_cmap=True)\n",
    "df_tmp = test_df[['Category OAI','Xgboost']]\n",
    "print(metrics.confusion_matrix(df_tmp['Category OAI'],df_tmp['Xgboost']))\n",
    "print(metrics.classification_report(df_tmp['Category OAI'],df_tmp['Xgboost']))\n",
    "df_temp = pd.DataFrame(metrics.confusion_matrix(df_tmp['Category OAI'],df_tmp['Xgboost']))\n",
    "plt.figure(figsize=(10,8))\n",
    "sn.heatmap(df_temp,annot=True,cmap=cmap, cbar_kws={\"shrink\": .82},\n",
    "                  linewidths=0.1, linecolor='gray')"
   ]
  },
  {
   "cell_type": "code",
   "execution_count": 79,
   "id": "b93ac41e",
   "metadata": {},
   "outputs": [
    {
     "data": {
      "text/html": [
       "<style  type=\"text/css\" >\n",
       "#T_d033d36e_91fa_11ed_b1a9_04ed335ad0c9row10_col0,#T_d033d36e_91fa_11ed_b1a9_04ed335ad0c9row10_col1,#T_d033d36e_91fa_11ed_b1a9_04ed335ad0c9row10_col2,#T_d033d36e_91fa_11ed_b1a9_04ed335ad0c9row10_col3,#T_d033d36e_91fa_11ed_b1a9_04ed335ad0c9row10_col4,#T_d033d36e_91fa_11ed_b1a9_04ed335ad0c9row10_col5,#T_d033d36e_91fa_11ed_b1a9_04ed335ad0c9row10_col6{\n",
       "            background:  yellow;\n",
       "        }</style><table id=\"T_d033d36e_91fa_11ed_b1a9_04ed335ad0c9\" ><thead>    <tr>        <th class=\"blank level0\" ></th>        <th class=\"col_heading level0 col0\" >Accuracy</th>        <th class=\"col_heading level0 col1\" >AUC</th>        <th class=\"col_heading level0 col2\" >Recall</th>        <th class=\"col_heading level0 col3\" >Prec.</th>        <th class=\"col_heading level0 col4\" >F1</th>        <th class=\"col_heading level0 col5\" >Kappa</th>        <th class=\"col_heading level0 col6\" >MCC</th>    </tr></thead><tbody>\n",
       "                <tr>\n",
       "                        <th id=\"T_d033d36e_91fa_11ed_b1a9_04ed335ad0c9level0_row0\" class=\"row_heading level0 row0\" >0</th>\n",
       "                        <td id=\"T_d033d36e_91fa_11ed_b1a9_04ed335ad0c9row0_col0\" class=\"data row0 col0\" >0.3337</td>\n",
       "                        <td id=\"T_d033d36e_91fa_11ed_b1a9_04ed335ad0c9row0_col1\" class=\"data row0 col1\" >0.5000</td>\n",
       "                        <td id=\"T_d033d36e_91fa_11ed_b1a9_04ed335ad0c9row0_col2\" class=\"data row0 col2\" >1.0000</td>\n",
       "                        <td id=\"T_d033d36e_91fa_11ed_b1a9_04ed335ad0c9row0_col3\" class=\"data row0 col3\" >0.3337</td>\n",
       "                        <td id=\"T_d033d36e_91fa_11ed_b1a9_04ed335ad0c9row0_col4\" class=\"data row0 col4\" >0.5004</td>\n",
       "                        <td id=\"T_d033d36e_91fa_11ed_b1a9_04ed335ad0c9row0_col5\" class=\"data row0 col5\" >0.0000</td>\n",
       "                        <td id=\"T_d033d36e_91fa_11ed_b1a9_04ed335ad0c9row0_col6\" class=\"data row0 col6\" >0.0000</td>\n",
       "            </tr>\n",
       "            <tr>\n",
       "                        <th id=\"T_d033d36e_91fa_11ed_b1a9_04ed335ad0c9level0_row1\" class=\"row_heading level0 row1\" >1</th>\n",
       "                        <td id=\"T_d033d36e_91fa_11ed_b1a9_04ed335ad0c9row1_col0\" class=\"data row1 col0\" >0.3335</td>\n",
       "                        <td id=\"T_d033d36e_91fa_11ed_b1a9_04ed335ad0c9row1_col1\" class=\"data row1 col1\" >0.5000</td>\n",
       "                        <td id=\"T_d033d36e_91fa_11ed_b1a9_04ed335ad0c9row1_col2\" class=\"data row1 col2\" >1.0000</td>\n",
       "                        <td id=\"T_d033d36e_91fa_11ed_b1a9_04ed335ad0c9row1_col3\" class=\"data row1 col3\" >0.3335</td>\n",
       "                        <td id=\"T_d033d36e_91fa_11ed_b1a9_04ed335ad0c9row1_col4\" class=\"data row1 col4\" >0.5002</td>\n",
       "                        <td id=\"T_d033d36e_91fa_11ed_b1a9_04ed335ad0c9row1_col5\" class=\"data row1 col5\" >0.0000</td>\n",
       "                        <td id=\"T_d033d36e_91fa_11ed_b1a9_04ed335ad0c9row1_col6\" class=\"data row1 col6\" >0.0000</td>\n",
       "            </tr>\n",
       "            <tr>\n",
       "                        <th id=\"T_d033d36e_91fa_11ed_b1a9_04ed335ad0c9level0_row2\" class=\"row_heading level0 row2\" >2</th>\n",
       "                        <td id=\"T_d033d36e_91fa_11ed_b1a9_04ed335ad0c9row2_col0\" class=\"data row2 col0\" >0.3335</td>\n",
       "                        <td id=\"T_d033d36e_91fa_11ed_b1a9_04ed335ad0c9row2_col1\" class=\"data row2 col1\" >0.5000</td>\n",
       "                        <td id=\"T_d033d36e_91fa_11ed_b1a9_04ed335ad0c9row2_col2\" class=\"data row2 col2\" >1.0000</td>\n",
       "                        <td id=\"T_d033d36e_91fa_11ed_b1a9_04ed335ad0c9row2_col3\" class=\"data row2 col3\" >0.3335</td>\n",
       "                        <td id=\"T_d033d36e_91fa_11ed_b1a9_04ed335ad0c9row2_col4\" class=\"data row2 col4\" >0.5002</td>\n",
       "                        <td id=\"T_d033d36e_91fa_11ed_b1a9_04ed335ad0c9row2_col5\" class=\"data row2 col5\" >0.0000</td>\n",
       "                        <td id=\"T_d033d36e_91fa_11ed_b1a9_04ed335ad0c9row2_col6\" class=\"data row2 col6\" >0.0000</td>\n",
       "            </tr>\n",
       "            <tr>\n",
       "                        <th id=\"T_d033d36e_91fa_11ed_b1a9_04ed335ad0c9level0_row3\" class=\"row_heading level0 row3\" >3</th>\n",
       "                        <td id=\"T_d033d36e_91fa_11ed_b1a9_04ed335ad0c9row3_col0\" class=\"data row3 col0\" >0.3335</td>\n",
       "                        <td id=\"T_d033d36e_91fa_11ed_b1a9_04ed335ad0c9row3_col1\" class=\"data row3 col1\" >0.5000</td>\n",
       "                        <td id=\"T_d033d36e_91fa_11ed_b1a9_04ed335ad0c9row3_col2\" class=\"data row3 col2\" >1.0000</td>\n",
       "                        <td id=\"T_d033d36e_91fa_11ed_b1a9_04ed335ad0c9row3_col3\" class=\"data row3 col3\" >0.3335</td>\n",
       "                        <td id=\"T_d033d36e_91fa_11ed_b1a9_04ed335ad0c9row3_col4\" class=\"data row3 col4\" >0.5002</td>\n",
       "                        <td id=\"T_d033d36e_91fa_11ed_b1a9_04ed335ad0c9row3_col5\" class=\"data row3 col5\" >0.0000</td>\n",
       "                        <td id=\"T_d033d36e_91fa_11ed_b1a9_04ed335ad0c9row3_col6\" class=\"data row3 col6\" >0.0000</td>\n",
       "            </tr>\n",
       "            <tr>\n",
       "                        <th id=\"T_d033d36e_91fa_11ed_b1a9_04ed335ad0c9level0_row4\" class=\"row_heading level0 row4\" >4</th>\n",
       "                        <td id=\"T_d033d36e_91fa_11ed_b1a9_04ed335ad0c9row4_col0\" class=\"data row4 col0\" >0.3335</td>\n",
       "                        <td id=\"T_d033d36e_91fa_11ed_b1a9_04ed335ad0c9row4_col1\" class=\"data row4 col1\" >0.5000</td>\n",
       "                        <td id=\"T_d033d36e_91fa_11ed_b1a9_04ed335ad0c9row4_col2\" class=\"data row4 col2\" >1.0000</td>\n",
       "                        <td id=\"T_d033d36e_91fa_11ed_b1a9_04ed335ad0c9row4_col3\" class=\"data row4 col3\" >0.3335</td>\n",
       "                        <td id=\"T_d033d36e_91fa_11ed_b1a9_04ed335ad0c9row4_col4\" class=\"data row4 col4\" >0.5002</td>\n",
       "                        <td id=\"T_d033d36e_91fa_11ed_b1a9_04ed335ad0c9row4_col5\" class=\"data row4 col5\" >0.0000</td>\n",
       "                        <td id=\"T_d033d36e_91fa_11ed_b1a9_04ed335ad0c9row4_col6\" class=\"data row4 col6\" >0.0000</td>\n",
       "            </tr>\n",
       "            <tr>\n",
       "                        <th id=\"T_d033d36e_91fa_11ed_b1a9_04ed335ad0c9level0_row5\" class=\"row_heading level0 row5\" >5</th>\n",
       "                        <td id=\"T_d033d36e_91fa_11ed_b1a9_04ed335ad0c9row5_col0\" class=\"data row5 col0\" >0.3335</td>\n",
       "                        <td id=\"T_d033d36e_91fa_11ed_b1a9_04ed335ad0c9row5_col1\" class=\"data row5 col1\" >0.5000</td>\n",
       "                        <td id=\"T_d033d36e_91fa_11ed_b1a9_04ed335ad0c9row5_col2\" class=\"data row5 col2\" >1.0000</td>\n",
       "                        <td id=\"T_d033d36e_91fa_11ed_b1a9_04ed335ad0c9row5_col3\" class=\"data row5 col3\" >0.3335</td>\n",
       "                        <td id=\"T_d033d36e_91fa_11ed_b1a9_04ed335ad0c9row5_col4\" class=\"data row5 col4\" >0.5002</td>\n",
       "                        <td id=\"T_d033d36e_91fa_11ed_b1a9_04ed335ad0c9row5_col5\" class=\"data row5 col5\" >0.0000</td>\n",
       "                        <td id=\"T_d033d36e_91fa_11ed_b1a9_04ed335ad0c9row5_col6\" class=\"data row5 col6\" >0.0000</td>\n",
       "            </tr>\n",
       "            <tr>\n",
       "                        <th id=\"T_d033d36e_91fa_11ed_b1a9_04ed335ad0c9level0_row6\" class=\"row_heading level0 row6\" >6</th>\n",
       "                        <td id=\"T_d033d36e_91fa_11ed_b1a9_04ed335ad0c9row6_col0\" class=\"data row6 col0\" >0.3335</td>\n",
       "                        <td id=\"T_d033d36e_91fa_11ed_b1a9_04ed335ad0c9row6_col1\" class=\"data row6 col1\" >0.5000</td>\n",
       "                        <td id=\"T_d033d36e_91fa_11ed_b1a9_04ed335ad0c9row6_col2\" class=\"data row6 col2\" >1.0000</td>\n",
       "                        <td id=\"T_d033d36e_91fa_11ed_b1a9_04ed335ad0c9row6_col3\" class=\"data row6 col3\" >0.3335</td>\n",
       "                        <td id=\"T_d033d36e_91fa_11ed_b1a9_04ed335ad0c9row6_col4\" class=\"data row6 col4\" >0.5002</td>\n",
       "                        <td id=\"T_d033d36e_91fa_11ed_b1a9_04ed335ad0c9row6_col5\" class=\"data row6 col5\" >0.0000</td>\n",
       "                        <td id=\"T_d033d36e_91fa_11ed_b1a9_04ed335ad0c9row6_col6\" class=\"data row6 col6\" >0.0000</td>\n",
       "            </tr>\n",
       "            <tr>\n",
       "                        <th id=\"T_d033d36e_91fa_11ed_b1a9_04ed335ad0c9level0_row7\" class=\"row_heading level0 row7\" >7</th>\n",
       "                        <td id=\"T_d033d36e_91fa_11ed_b1a9_04ed335ad0c9row7_col0\" class=\"data row7 col0\" >0.3335</td>\n",
       "                        <td id=\"T_d033d36e_91fa_11ed_b1a9_04ed335ad0c9row7_col1\" class=\"data row7 col1\" >0.5000</td>\n",
       "                        <td id=\"T_d033d36e_91fa_11ed_b1a9_04ed335ad0c9row7_col2\" class=\"data row7 col2\" >1.0000</td>\n",
       "                        <td id=\"T_d033d36e_91fa_11ed_b1a9_04ed335ad0c9row7_col3\" class=\"data row7 col3\" >0.3335</td>\n",
       "                        <td id=\"T_d033d36e_91fa_11ed_b1a9_04ed335ad0c9row7_col4\" class=\"data row7 col4\" >0.5002</td>\n",
       "                        <td id=\"T_d033d36e_91fa_11ed_b1a9_04ed335ad0c9row7_col5\" class=\"data row7 col5\" >0.0000</td>\n",
       "                        <td id=\"T_d033d36e_91fa_11ed_b1a9_04ed335ad0c9row7_col6\" class=\"data row7 col6\" >0.0000</td>\n",
       "            </tr>\n",
       "            <tr>\n",
       "                        <th id=\"T_d033d36e_91fa_11ed_b1a9_04ed335ad0c9level0_row8\" class=\"row_heading level0 row8\" >8</th>\n",
       "                        <td id=\"T_d033d36e_91fa_11ed_b1a9_04ed335ad0c9row8_col0\" class=\"data row8 col0\" >0.3335</td>\n",
       "                        <td id=\"T_d033d36e_91fa_11ed_b1a9_04ed335ad0c9row8_col1\" class=\"data row8 col1\" >0.5000</td>\n",
       "                        <td id=\"T_d033d36e_91fa_11ed_b1a9_04ed335ad0c9row8_col2\" class=\"data row8 col2\" >1.0000</td>\n",
       "                        <td id=\"T_d033d36e_91fa_11ed_b1a9_04ed335ad0c9row8_col3\" class=\"data row8 col3\" >0.3335</td>\n",
       "                        <td id=\"T_d033d36e_91fa_11ed_b1a9_04ed335ad0c9row8_col4\" class=\"data row8 col4\" >0.5002</td>\n",
       "                        <td id=\"T_d033d36e_91fa_11ed_b1a9_04ed335ad0c9row8_col5\" class=\"data row8 col5\" >0.0000</td>\n",
       "                        <td id=\"T_d033d36e_91fa_11ed_b1a9_04ed335ad0c9row8_col6\" class=\"data row8 col6\" >0.0000</td>\n",
       "            </tr>\n",
       "            <tr>\n",
       "                        <th id=\"T_d033d36e_91fa_11ed_b1a9_04ed335ad0c9level0_row9\" class=\"row_heading level0 row9\" >9</th>\n",
       "                        <td id=\"T_d033d36e_91fa_11ed_b1a9_04ed335ad0c9row9_col0\" class=\"data row9 col0\" >0.3335</td>\n",
       "                        <td id=\"T_d033d36e_91fa_11ed_b1a9_04ed335ad0c9row9_col1\" class=\"data row9 col1\" >0.5000</td>\n",
       "                        <td id=\"T_d033d36e_91fa_11ed_b1a9_04ed335ad0c9row9_col2\" class=\"data row9 col2\" >1.0000</td>\n",
       "                        <td id=\"T_d033d36e_91fa_11ed_b1a9_04ed335ad0c9row9_col3\" class=\"data row9 col3\" >0.3335</td>\n",
       "                        <td id=\"T_d033d36e_91fa_11ed_b1a9_04ed335ad0c9row9_col4\" class=\"data row9 col4\" >0.5002</td>\n",
       "                        <td id=\"T_d033d36e_91fa_11ed_b1a9_04ed335ad0c9row9_col5\" class=\"data row9 col5\" >0.0000</td>\n",
       "                        <td id=\"T_d033d36e_91fa_11ed_b1a9_04ed335ad0c9row9_col6\" class=\"data row9 col6\" >0.0000</td>\n",
       "            </tr>\n",
       "            <tr>\n",
       "                        <th id=\"T_d033d36e_91fa_11ed_b1a9_04ed335ad0c9level0_row10\" class=\"row_heading level0 row10\" >Mean</th>\n",
       "                        <td id=\"T_d033d36e_91fa_11ed_b1a9_04ed335ad0c9row10_col0\" class=\"data row10 col0\" >0.3335</td>\n",
       "                        <td id=\"T_d033d36e_91fa_11ed_b1a9_04ed335ad0c9row10_col1\" class=\"data row10 col1\" >0.5000</td>\n",
       "                        <td id=\"T_d033d36e_91fa_11ed_b1a9_04ed335ad0c9row10_col2\" class=\"data row10 col2\" >1.0000</td>\n",
       "                        <td id=\"T_d033d36e_91fa_11ed_b1a9_04ed335ad0c9row10_col3\" class=\"data row10 col3\" >0.3335</td>\n",
       "                        <td id=\"T_d033d36e_91fa_11ed_b1a9_04ed335ad0c9row10_col4\" class=\"data row10 col4\" >0.5002</td>\n",
       "                        <td id=\"T_d033d36e_91fa_11ed_b1a9_04ed335ad0c9row10_col5\" class=\"data row10 col5\" >0.0000</td>\n",
       "                        <td id=\"T_d033d36e_91fa_11ed_b1a9_04ed335ad0c9row10_col6\" class=\"data row10 col6\" >0.0000</td>\n",
       "            </tr>\n",
       "            <tr>\n",
       "                        <th id=\"T_d033d36e_91fa_11ed_b1a9_04ed335ad0c9level0_row11\" class=\"row_heading level0 row11\" >SD</th>\n",
       "                        <td id=\"T_d033d36e_91fa_11ed_b1a9_04ed335ad0c9row11_col0\" class=\"data row11 col0\" >0.0001</td>\n",
       "                        <td id=\"T_d033d36e_91fa_11ed_b1a9_04ed335ad0c9row11_col1\" class=\"data row11 col1\" >0.0000</td>\n",
       "                        <td id=\"T_d033d36e_91fa_11ed_b1a9_04ed335ad0c9row11_col2\" class=\"data row11 col2\" >0.0000</td>\n",
       "                        <td id=\"T_d033d36e_91fa_11ed_b1a9_04ed335ad0c9row11_col3\" class=\"data row11 col3\" >0.0001</td>\n",
       "                        <td id=\"T_d033d36e_91fa_11ed_b1a9_04ed335ad0c9row11_col4\" class=\"data row11 col4\" >0.0001</td>\n",
       "                        <td id=\"T_d033d36e_91fa_11ed_b1a9_04ed335ad0c9row11_col5\" class=\"data row11 col5\" >0.0000</td>\n",
       "                        <td id=\"T_d033d36e_91fa_11ed_b1a9_04ed335ad0c9row11_col6\" class=\"data row11 col6\" >0.0000</td>\n",
       "            </tr>\n",
       "    </tbody></table>"
      ],
      "text/plain": [
       "<pandas.io.formats.style.Styler at 0x28a581039e8>"
      ]
     },
     "metadata": {},
     "output_type": "display_data"
    }
   ],
   "source": [
    "##Create Model lightgbm\n",
    "lightgbm = create_model('rf', round = 2)\n",
    "###Tune by Accuracy\n",
    "lightgbm_dt = tune_model(lightgbm, optimize = 'Recall')"
   ]
  },
  {
   "cell_type": "code",
   "execution_count": 80,
   "id": "107478a1",
   "metadata": {},
   "outputs": [
    {
     "data": {
      "text/html": [
       "<div>\n",
       "<style scoped>\n",
       "    .dataframe tbody tr th:only-of-type {\n",
       "        vertical-align: middle;\n",
       "    }\n",
       "\n",
       "    .dataframe tbody tr th {\n",
       "        vertical-align: top;\n",
       "    }\n",
       "\n",
       "    .dataframe thead th {\n",
       "        text-align: right;\n",
       "    }\n",
       "</style>\n",
       "<table border=\"1\" class=\"dataframe\">\n",
       "  <thead>\n",
       "    <tr style=\"text-align: right;\">\n",
       "      <th></th>\n",
       "      <th>Parameters</th>\n",
       "    </tr>\n",
       "  </thead>\n",
       "  <tbody>\n",
       "    <tr>\n",
       "      <th>bootstrap</th>\n",
       "      <td>False</td>\n",
       "    </tr>\n",
       "    <tr>\n",
       "      <th>ccp_alpha</th>\n",
       "      <td>0.0</td>\n",
       "    </tr>\n",
       "    <tr>\n",
       "      <th>class_weight</th>\n",
       "      <td>balanced_subsample</td>\n",
       "    </tr>\n",
       "    <tr>\n",
       "      <th>criterion</th>\n",
       "      <td>gini</td>\n",
       "    </tr>\n",
       "    <tr>\n",
       "      <th>max_depth</th>\n",
       "      <td>9</td>\n",
       "    </tr>\n",
       "    <tr>\n",
       "      <th>max_features</th>\n",
       "      <td>log2</td>\n",
       "    </tr>\n",
       "    <tr>\n",
       "      <th>max_leaf_nodes</th>\n",
       "      <td>None</td>\n",
       "    </tr>\n",
       "    <tr>\n",
       "      <th>max_samples</th>\n",
       "      <td>None</td>\n",
       "    </tr>\n",
       "    <tr>\n",
       "      <th>min_impurity_decrease</th>\n",
       "      <td>0.3</td>\n",
       "    </tr>\n",
       "    <tr>\n",
       "      <th>min_impurity_split</th>\n",
       "      <td>None</td>\n",
       "    </tr>\n",
       "    <tr>\n",
       "      <th>min_samples_leaf</th>\n",
       "      <td>5</td>\n",
       "    </tr>\n",
       "    <tr>\n",
       "      <th>min_samples_split</th>\n",
       "      <td>2</td>\n",
       "    </tr>\n",
       "    <tr>\n",
       "      <th>min_weight_fraction_leaf</th>\n",
       "      <td>0.0</td>\n",
       "    </tr>\n",
       "    <tr>\n",
       "      <th>n_estimators</th>\n",
       "      <td>70</td>\n",
       "    </tr>\n",
       "    <tr>\n",
       "      <th>n_jobs</th>\n",
       "      <td>-1</td>\n",
       "    </tr>\n",
       "    <tr>\n",
       "      <th>oob_score</th>\n",
       "      <td>False</td>\n",
       "    </tr>\n",
       "    <tr>\n",
       "      <th>random_state</th>\n",
       "      <td>577</td>\n",
       "    </tr>\n",
       "    <tr>\n",
       "      <th>verbose</th>\n",
       "      <td>0</td>\n",
       "    </tr>\n",
       "    <tr>\n",
       "      <th>warm_start</th>\n",
       "      <td>False</td>\n",
       "    </tr>\n",
       "  </tbody>\n",
       "</table>\n",
       "</div>"
      ],
      "text/plain": [
       "                                  Parameters\n",
       "bootstrap                              False\n",
       "ccp_alpha                                0.0\n",
       "class_weight              balanced_subsample\n",
       "criterion                               gini\n",
       "max_depth                                  9\n",
       "max_features                            log2\n",
       "max_leaf_nodes                          None\n",
       "max_samples                             None\n",
       "min_impurity_decrease                    0.3\n",
       "min_impurity_split                      None\n",
       "min_samples_leaf                           5\n",
       "min_samples_split                          2\n",
       "min_weight_fraction_leaf                 0.0\n",
       "n_estimators                              70\n",
       "n_jobs                                    -1\n",
       "oob_score                              False\n",
       "random_state                             577\n",
       "verbose                                    0\n",
       "warm_start                             False"
      ]
     },
     "metadata": {},
     "output_type": "display_data"
    }
   ],
   "source": [
    "##Plot Parameters\n",
    "plot_model(lightgbm_dt, plot = 'parameter')"
   ]
  },
  {
   "cell_type": "code",
   "execution_count": 81,
   "id": "11b82cbe",
   "metadata": {},
   "outputs": [
    {
     "data": {
      "image/png": "[encoded data removed]",
      "text/plain": [
       "<Figure size 800x500 with 1 Axes>"
      ]
     },
     "metadata": {},
     "output_type": "display_data"
    }
   ],
   "source": [
    "##Plot Features\n",
    "plot_model(lightgbm_dt, plot='feature')"
   ]
  },
  {
   "cell_type": "code",
   "execution_count": 82,
   "id": "2b383546",
   "metadata": {},
   "outputs": [
    {
     "data": {
      "image/png": "[encoded data removed]",
      "text/plain": [
       "<Figure size 576x396 with 1 Axes>"
      ]
     },
     "metadata": {},
     "output_type": "display_data"
    }
   ],
   "source": [
    "## Accuracy Calculation\n",
    "plot_model(lightgbm_dt,'confusion_matrix')"
   ]
  },
  {
   "cell_type": "code",
   "execution_count": 83,
   "id": "c66e2dfb",
   "metadata": {},
   "outputs": [],
   "source": [
    "final_rf = finalize_model(lightgbm_dt)\n",
    "unseen_predictions = predict_model(final_rf, data=test_df[['Risk_Factor_FEI',\n",
    "       'Risk_Factor_Legal_Name', 'Risk_Factor_City', 'Risk_Factor_State','Quarter', 'Month',\n",
    "       'Risk_Factor_Project Area', 'Risk_Factor_Product_Type']])\n",
    "test_df[\"lightgbm\"] = unseen_predictions['Label']\n",
    "test_df[\"lightgbm_score\"] = unseen_predictions['Score']"
   ]
  },
  {
   "cell_type": "code",
   "execution_count": 84,
   "id": "9bbe969e",
   "metadata": {},
   "outputs": [
    {
     "name": "stdout",
     "output_type": "stream",
     "text": [
      "[[3216    0]\n",
      " [ 214    0]]\n",
      "              precision    recall  f1-score   support\n",
      "\n",
      "           0       0.94      1.00      0.97      3216\n",
      "           1       0.00      0.00      0.00       214\n",
      "\n",
      "    accuracy                           0.94      3430\n",
      "   macro avg       0.47      0.50      0.48      3430\n",
      "weighted avg       0.88      0.94      0.91      3430\n",
      "\n"
     ]
    },
    {
     "data": {
      "text/plain": [
       "<AxesSubplot:>"
      ]
     },
     "execution_count": 84,
     "metadata": {},
     "output_type": "execute_result"
    },
    {
     "data": {
      "image/png": "[encoded data removed]",
      "text/plain": [
       "<Figure size 720x576 with 2 Axes>"
      ]
     },
     "metadata": {},
     "output_type": "display_data"
    }
   ],
   "source": [
    "cmap = sn.cubehelix_palette(light=1, as_cmap=True)\n",
    "df_tmp = test_df[['Category OAI','lightgbm']]\n",
    "print(metrics.confusion_matrix(df_tmp['Category OAI'],df_tmp['lightgbm']))\n",
    "print(metrics.classification_report(df_tmp['Category OAI'],df_tmp['lightgbm']))\n",
    "df_temp = pd.DataFrame(metrics.confusion_matrix(df_tmp['Category OAI'],df_tmp['lightgbm']))\n",
    "plt.figure(figsize=(10,8))\n",
    "sn.heatmap(df_temp,annot=True,cmap=cmap, cbar_kws={\"shrink\": .82},\n",
    "                  linewidths=0.1, linecolor='gray')"
   ]
  },
  {
   "cell_type": "code",
   "execution_count": 85,
   "id": "ddce91ea",
   "metadata": {},
   "outputs": [
    {
     "data": {
      "text/html": [
       "<style  type=\"text/css\" >\n",
       "#T_e2f80d6c_91fa_11ed_9702_04ed335ad0c9row10_col0,#T_e2f80d6c_91fa_11ed_9702_04ed335ad0c9row10_col1,#T_e2f80d6c_91fa_11ed_9702_04ed335ad0c9row10_col2,#T_e2f80d6c_91fa_11ed_9702_04ed335ad0c9row10_col3,#T_e2f80d6c_91fa_11ed_9702_04ed335ad0c9row10_col4,#T_e2f80d6c_91fa_11ed_9702_04ed335ad0c9row10_col5,#T_e2f80d6c_91fa_11ed_9702_04ed335ad0c9row10_col6{\n",
       "            background:  yellow;\n",
       "        }</style><table id=\"T_e2f80d6c_91fa_11ed_9702_04ed335ad0c9\" ><thead>    <tr>        <th class=\"blank level0\" ></th>        <th class=\"col_heading level0 col0\" >Accuracy</th>        <th class=\"col_heading level0 col1\" >AUC</th>        <th class=\"col_heading level0 col2\" >Recall</th>        <th class=\"col_heading level0 col3\" >Prec.</th>        <th class=\"col_heading level0 col4\" >F1</th>        <th class=\"col_heading level0 col5\" >Kappa</th>        <th class=\"col_heading level0 col6\" >MCC</th>    </tr></thead><tbody>\n",
       "                <tr>\n",
       "                        <th id=\"T_e2f80d6c_91fa_11ed_9702_04ed335ad0c9level0_row0\" class=\"row_heading level0 row0\" >0</th>\n",
       "                        <td id=\"T_e2f80d6c_91fa_11ed_9702_04ed335ad0c9row0_col0\" class=\"data row0 col0\" >0.8125</td>\n",
       "                        <td id=\"T_e2f80d6c_91fa_11ed_9702_04ed335ad0c9row0_col1\" class=\"data row0 col1\" >0.8764</td>\n",
       "                        <td id=\"T_e2f80d6c_91fa_11ed_9702_04ed335ad0c9row0_col2\" class=\"data row0 col2\" >0.7356</td>\n",
       "                        <td id=\"T_e2f80d6c_91fa_11ed_9702_04ed335ad0c9row0_col3\" class=\"data row0 col3\" >0.7120</td>\n",
       "                        <td id=\"T_e2f80d6c_91fa_11ed_9702_04ed335ad0c9row0_col4\" class=\"data row0 col4\" >0.7236</td>\n",
       "                        <td id=\"T_e2f80d6c_91fa_11ed_9702_04ed335ad0c9row0_col5\" class=\"data row0 col5\" >0.5818</td>\n",
       "                        <td id=\"T_e2f80d6c_91fa_11ed_9702_04ed335ad0c9row0_col6\" class=\"data row0 col6\" >0.5820</td>\n",
       "            </tr>\n",
       "            <tr>\n",
       "                        <th id=\"T_e2f80d6c_91fa_11ed_9702_04ed335ad0c9level0_row1\" class=\"row_heading level0 row1\" >1</th>\n",
       "                        <td id=\"T_e2f80d6c_91fa_11ed_9702_04ed335ad0c9row1_col0\" class=\"data row1 col0\" >0.8105</td>\n",
       "                        <td id=\"T_e2f80d6c_91fa_11ed_9702_04ed335ad0c9row1_col1\" class=\"data row1 col1\" >0.8731</td>\n",
       "                        <td id=\"T_e2f80d6c_91fa_11ed_9702_04ed335ad0c9row1_col2\" class=\"data row1 col2\" >0.7219</td>\n",
       "                        <td id=\"T_e2f80d6c_91fa_11ed_9702_04ed335ad0c9row1_col3\" class=\"data row1 col3\" >0.7133</td>\n",
       "                        <td id=\"T_e2f80d6c_91fa_11ed_9702_04ed335ad0c9row1_col4\" class=\"data row1 col4\" >0.7176</td>\n",
       "                        <td id=\"T_e2f80d6c_91fa_11ed_9702_04ed335ad0c9row1_col5\" class=\"data row1 col5\" >0.5750</td>\n",
       "                        <td id=\"T_e2f80d6c_91fa_11ed_9702_04ed335ad0c9row1_col6\" class=\"data row1 col6\" >0.5750</td>\n",
       "            </tr>\n",
       "            <tr>\n",
       "                        <th id=\"T_e2f80d6c_91fa_11ed_9702_04ed335ad0c9level0_row2\" class=\"row_heading level0 row2\" >2</th>\n",
       "                        <td id=\"T_e2f80d6c_91fa_11ed_9702_04ed335ad0c9row2_col0\" class=\"data row2 col0\" >0.8194</td>\n",
       "                        <td id=\"T_e2f80d6c_91fa_11ed_9702_04ed335ad0c9row2_col1\" class=\"data row2 col1\" >0.8748</td>\n",
       "                        <td id=\"T_e2f80d6c_91fa_11ed_9702_04ed335ad0c9row2_col2\" class=\"data row2 col2\" >0.7380</td>\n",
       "                        <td id=\"T_e2f80d6c_91fa_11ed_9702_04ed335ad0c9row2_col3\" class=\"data row2 col3\" >0.7252</td>\n",
       "                        <td id=\"T_e2f80d6c_91fa_11ed_9702_04ed335ad0c9row2_col4\" class=\"data row2 col4\" >0.7316</td>\n",
       "                        <td id=\"T_e2f80d6c_91fa_11ed_9702_04ed335ad0c9row2_col5\" class=\"data row2 col5\" >0.5955</td>\n",
       "                        <td id=\"T_e2f80d6c_91fa_11ed_9702_04ed335ad0c9row2_col6\" class=\"data row2 col6\" >0.5956</td>\n",
       "            </tr>\n",
       "            <tr>\n",
       "                        <th id=\"T_e2f80d6c_91fa_11ed_9702_04ed335ad0c9level0_row3\" class=\"row_heading level0 row3\" >3</th>\n",
       "                        <td id=\"T_e2f80d6c_91fa_11ed_9702_04ed335ad0c9row3_col0\" class=\"data row3 col0\" >0.8164</td>\n",
       "                        <td id=\"T_e2f80d6c_91fa_11ed_9702_04ed335ad0c9row3_col1\" class=\"data row3 col1\" >0.8758</td>\n",
       "                        <td id=\"T_e2f80d6c_91fa_11ed_9702_04ed335ad0c9row3_col2\" class=\"data row3 col2\" >0.7360</td>\n",
       "                        <td id=\"T_e2f80d6c_91fa_11ed_9702_04ed335ad0c9row3_col3\" class=\"data row3 col3\" >0.7197</td>\n",
       "                        <td id=\"T_e2f80d6c_91fa_11ed_9702_04ed335ad0c9row3_col4\" class=\"data row3 col4\" >0.7278</td>\n",
       "                        <td id=\"T_e2f80d6c_91fa_11ed_9702_04ed335ad0c9row3_col5\" class=\"data row3 col5\" >0.5892</td>\n",
       "                        <td id=\"T_e2f80d6c_91fa_11ed_9702_04ed335ad0c9row3_col6\" class=\"data row3 col6\" >0.5893</td>\n",
       "            </tr>\n",
       "            <tr>\n",
       "                        <th id=\"T_e2f80d6c_91fa_11ed_9702_04ed335ad0c9level0_row4\" class=\"row_heading level0 row4\" >4</th>\n",
       "                        <td id=\"T_e2f80d6c_91fa_11ed_9702_04ed335ad0c9row4_col0\" class=\"data row4 col0\" >0.8083</td>\n",
       "                        <td id=\"T_e2f80d6c_91fa_11ed_9702_04ed335ad0c9row4_col1\" class=\"data row4 col1\" >0.8737</td>\n",
       "                        <td id=\"T_e2f80d6c_91fa_11ed_9702_04ed335ad0c9row4_col2\" class=\"data row4 col2\" >0.7244</td>\n",
       "                        <td id=\"T_e2f80d6c_91fa_11ed_9702_04ed335ad0c9row4_col3\" class=\"data row4 col3\" >0.7077</td>\n",
       "                        <td id=\"T_e2f80d6c_91fa_11ed_9702_04ed335ad0c9row4_col4\" class=\"data row4 col4\" >0.7160</td>\n",
       "                        <td id=\"T_e2f80d6c_91fa_11ed_9702_04ed335ad0c9row4_col5\" class=\"data row4 col5\" >0.5713</td>\n",
       "                        <td id=\"T_e2f80d6c_91fa_11ed_9702_04ed335ad0c9row4_col6\" class=\"data row4 col6\" >0.5714</td>\n",
       "            </tr>\n",
       "            <tr>\n",
       "                        <th id=\"T_e2f80d6c_91fa_11ed_9702_04ed335ad0c9level0_row5\" class=\"row_heading level0 row5\" >5</th>\n",
       "                        <td id=\"T_e2f80d6c_91fa_11ed_9702_04ed335ad0c9row5_col0\" class=\"data row5 col0\" >0.8118</td>\n",
       "                        <td id=\"T_e2f80d6c_91fa_11ed_9702_04ed335ad0c9row5_col1\" class=\"data row5 col1\" >0.8750</td>\n",
       "                        <td id=\"T_e2f80d6c_91fa_11ed_9702_04ed335ad0c9row5_col2\" class=\"data row5 col2\" >0.7325</td>\n",
       "                        <td id=\"T_e2f80d6c_91fa_11ed_9702_04ed335ad0c9row5_col3\" class=\"data row5 col3\" >0.7117</td>\n",
       "                        <td id=\"T_e2f80d6c_91fa_11ed_9702_04ed335ad0c9row5_col4\" class=\"data row5 col4\" >0.7219</td>\n",
       "                        <td id=\"T_e2f80d6c_91fa_11ed_9702_04ed335ad0c9row5_col5\" class=\"data row5 col5\" >0.5798</td>\n",
       "                        <td id=\"T_e2f80d6c_91fa_11ed_9702_04ed335ad0c9row5_col6\" class=\"data row5 col6\" >0.5799</td>\n",
       "            </tr>\n",
       "            <tr>\n",
       "                        <th id=\"T_e2f80d6c_91fa_11ed_9702_04ed335ad0c9level0_row6\" class=\"row_heading level0 row6\" >6</th>\n",
       "                        <td id=\"T_e2f80d6c_91fa_11ed_9702_04ed335ad0c9row6_col0\" class=\"data row6 col0\" >0.8086</td>\n",
       "                        <td id=\"T_e2f80d6c_91fa_11ed_9702_04ed335ad0c9row6_col1\" class=\"data row6 col1\" >0.8736</td>\n",
       "                        <td id=\"T_e2f80d6c_91fa_11ed_9702_04ed335ad0c9row6_col2\" class=\"data row6 col2\" >0.7330</td>\n",
       "                        <td id=\"T_e2f80d6c_91fa_11ed_9702_04ed335ad0c9row6_col3\" class=\"data row6 col3\" >0.7049</td>\n",
       "                        <td id=\"T_e2f80d6c_91fa_11ed_9702_04ed335ad0c9row6_col4\" class=\"data row6 col4\" >0.7187</td>\n",
       "                        <td id=\"T_e2f80d6c_91fa_11ed_9702_04ed335ad0c9row6_col5\" class=\"data row6 col5\" >0.5738</td>\n",
       "                        <td id=\"T_e2f80d6c_91fa_11ed_9702_04ed335ad0c9row6_col6\" class=\"data row6 col6\" >0.5740</td>\n",
       "            </tr>\n",
       "            <tr>\n",
       "                        <th id=\"T_e2f80d6c_91fa_11ed_9702_04ed335ad0c9level0_row7\" class=\"row_heading level0 row7\" >7</th>\n",
       "                        <td id=\"T_e2f80d6c_91fa_11ed_9702_04ed335ad0c9row7_col0\" class=\"data row7 col0\" >0.8051</td>\n",
       "                        <td id=\"T_e2f80d6c_91fa_11ed_9702_04ed335ad0c9row7_col1\" class=\"data row7 col1\" >0.8641</td>\n",
       "                        <td id=\"T_e2f80d6c_91fa_11ed_9702_04ed335ad0c9row7_col2\" class=\"data row7 col2\" >0.7249</td>\n",
       "                        <td id=\"T_e2f80d6c_91fa_11ed_9702_04ed335ad0c9row7_col3\" class=\"data row7 col3\" >0.7009</td>\n",
       "                        <td id=\"T_e2f80d6c_91fa_11ed_9702_04ed335ad0c9row7_col4\" class=\"data row7 col4\" >0.7127</td>\n",
       "                        <td id=\"T_e2f80d6c_91fa_11ed_9702_04ed335ad0c9row7_col5\" class=\"data row7 col5\" >0.5653</td>\n",
       "                        <td id=\"T_e2f80d6c_91fa_11ed_9702_04ed335ad0c9row7_col6\" class=\"data row7 col6\" >0.5655</td>\n",
       "            </tr>\n",
       "            <tr>\n",
       "                        <th id=\"T_e2f80d6c_91fa_11ed_9702_04ed335ad0c9level0_row8\" class=\"row_heading level0 row8\" >8</th>\n",
       "                        <td id=\"T_e2f80d6c_91fa_11ed_9702_04ed335ad0c9row8_col0\" class=\"data row8 col0\" >0.8112</td>\n",
       "                        <td id=\"T_e2f80d6c_91fa_11ed_9702_04ed335ad0c9row8_col1\" class=\"data row8 col1\" >0.8693</td>\n",
       "                        <td id=\"T_e2f80d6c_91fa_11ed_9702_04ed335ad0c9row8_col2\" class=\"data row8 col2\" >0.7310</td>\n",
       "                        <td id=\"T_e2f80d6c_91fa_11ed_9702_04ed335ad0c9row8_col3\" class=\"data row8 col3\" >0.7109</td>\n",
       "                        <td id=\"T_e2f80d6c_91fa_11ed_9702_04ed335ad0c9row8_col4\" class=\"data row8 col4\" >0.7208</td>\n",
       "                        <td id=\"T_e2f80d6c_91fa_11ed_9702_04ed335ad0c9row8_col5\" class=\"data row8 col5\" >0.5782</td>\n",
       "                        <td id=\"T_e2f80d6c_91fa_11ed_9702_04ed335ad0c9row8_col6\" class=\"data row8 col6\" >0.5783</td>\n",
       "            </tr>\n",
       "            <tr>\n",
       "                        <th id=\"T_e2f80d6c_91fa_11ed_9702_04ed335ad0c9level0_row9\" class=\"row_heading level0 row9\" >9</th>\n",
       "                        <td id=\"T_e2f80d6c_91fa_11ed_9702_04ed335ad0c9row9_col0\" class=\"data row9 col0\" >0.8172</td>\n",
       "                        <td id=\"T_e2f80d6c_91fa_11ed_9702_04ed335ad0c9row9_col1\" class=\"data row9 col1\" >0.8816</td>\n",
       "                        <td id=\"T_e2f80d6c_91fa_11ed_9702_04ed335ad0c9row9_col2\" class=\"data row9 col2\" >0.7214</td>\n",
       "                        <td id=\"T_e2f80d6c_91fa_11ed_9702_04ed335ad0c9row9_col3\" class=\"data row9 col3\" >0.7280</td>\n",
       "                        <td id=\"T_e2f80d6c_91fa_11ed_9702_04ed335ad0c9row9_col4\" class=\"data row9 col4\" >0.7247</td>\n",
       "                        <td id=\"T_e2f80d6c_91fa_11ed_9702_04ed335ad0c9row9_col5\" class=\"data row9 col5\" >0.5879</td>\n",
       "                        <td id=\"T_e2f80d6c_91fa_11ed_9702_04ed335ad0c9row9_col6\" class=\"data row9 col6\" >0.5879</td>\n",
       "            </tr>\n",
       "            <tr>\n",
       "                        <th id=\"T_e2f80d6c_91fa_11ed_9702_04ed335ad0c9level0_row10\" class=\"row_heading level0 row10\" >Mean</th>\n",
       "                        <td id=\"T_e2f80d6c_91fa_11ed_9702_04ed335ad0c9row10_col0\" class=\"data row10 col0\" >0.8121</td>\n",
       "                        <td id=\"T_e2f80d6c_91fa_11ed_9702_04ed335ad0c9row10_col1\" class=\"data row10 col1\" >0.8737</td>\n",
       "                        <td id=\"T_e2f80d6c_91fa_11ed_9702_04ed335ad0c9row10_col2\" class=\"data row10 col2\" >0.7299</td>\n",
       "                        <td id=\"T_e2f80d6c_91fa_11ed_9702_04ed335ad0c9row10_col3\" class=\"data row10 col3\" >0.7134</td>\n",
       "                        <td id=\"T_e2f80d6c_91fa_11ed_9702_04ed335ad0c9row10_col4\" class=\"data row10 col4\" >0.7215</td>\n",
       "                        <td id=\"T_e2f80d6c_91fa_11ed_9702_04ed335ad0c9row10_col5\" class=\"data row10 col5\" >0.5798</td>\n",
       "                        <td id=\"T_e2f80d6c_91fa_11ed_9702_04ed335ad0c9row10_col6\" class=\"data row10 col6\" >0.5799</td>\n",
       "            </tr>\n",
       "            <tr>\n",
       "                        <th id=\"T_e2f80d6c_91fa_11ed_9702_04ed335ad0c9level0_row11\" class=\"row_heading level0 row11\" >SD</th>\n",
       "                        <td id=\"T_e2f80d6c_91fa_11ed_9702_04ed335ad0c9row11_col0\" class=\"data row11 col0\" >0.0042</td>\n",
       "                        <td id=\"T_e2f80d6c_91fa_11ed_9702_04ed335ad0c9row11_col1\" class=\"data row11 col1\" >0.0044</td>\n",
       "                        <td id=\"T_e2f80d6c_91fa_11ed_9702_04ed335ad0c9row11_col2\" class=\"data row11 col2\" >0.0059</td>\n",
       "                        <td id=\"T_e2f80d6c_91fa_11ed_9702_04ed335ad0c9row11_col3\" class=\"data row11 col3\" >0.0082</td>\n",
       "                        <td id=\"T_e2f80d6c_91fa_11ed_9702_04ed335ad0c9row11_col4\" class=\"data row11 col4\" >0.0054</td>\n",
       "                        <td id=\"T_e2f80d6c_91fa_11ed_9702_04ed335ad0c9row11_col5\" class=\"data row11 col5\" >0.0087</td>\n",
       "                        <td id=\"T_e2f80d6c_91fa_11ed_9702_04ed335ad0c9row11_col6\" class=\"data row11 col6\" >0.0086</td>\n",
       "            </tr>\n",
       "    </tbody></table>"
      ],
      "text/plain": [
       "<pandas.io.formats.style.Styler at 0x28a580e5c18>"
      ]
     },
     "metadata": {},
     "output_type": "display_data"
    }
   ],
   "source": [
    "#Create Model lr\n",
    "##Create Model lightgbm\n",
    "lr = create_model('lr', round = 2)\n",
    "###Tune by Accuracy\n",
    "lr_dt = tune_model(lr, optimize = 'Recall')"
   ]
  },
  {
   "cell_type": "code",
   "execution_count": 86,
   "id": "ad31cf06",
   "metadata": {},
   "outputs": [
    {
     "data": {
      "text/html": [
       "<div>\n",
       "<style scoped>\n",
       "    .dataframe tbody tr th:only-of-type {\n",
       "        vertical-align: middle;\n",
       "    }\n",
       "\n",
       "    .dataframe tbody tr th {\n",
       "        vertical-align: top;\n",
       "    }\n",
       "\n",
       "    .dataframe thead th {\n",
       "        text-align: right;\n",
       "    }\n",
       "</style>\n",
       "<table border=\"1\" class=\"dataframe\">\n",
       "  <thead>\n",
       "    <tr style=\"text-align: right;\">\n",
       "      <th></th>\n",
       "      <th>Parameters</th>\n",
       "    </tr>\n",
       "  </thead>\n",
       "  <tbody>\n",
       "    <tr>\n",
       "      <th>C</th>\n",
       "      <td>3.816</td>\n",
       "    </tr>\n",
       "    <tr>\n",
       "      <th>class_weight</th>\n",
       "      <td>balanced</td>\n",
       "    </tr>\n",
       "    <tr>\n",
       "      <th>dual</th>\n",
       "      <td>False</td>\n",
       "    </tr>\n",
       "    <tr>\n",
       "      <th>fit_intercept</th>\n",
       "      <td>True</td>\n",
       "    </tr>\n",
       "    <tr>\n",
       "      <th>intercept_scaling</th>\n",
       "      <td>1</td>\n",
       "    </tr>\n",
       "    <tr>\n",
       "      <th>l1_ratio</th>\n",
       "      <td>None</td>\n",
       "    </tr>\n",
       "    <tr>\n",
       "      <th>max_iter</th>\n",
       "      <td>1000</td>\n",
       "    </tr>\n",
       "    <tr>\n",
       "      <th>multi_class</th>\n",
       "      <td>auto</td>\n",
       "    </tr>\n",
       "    <tr>\n",
       "      <th>n_jobs</th>\n",
       "      <td>None</td>\n",
       "    </tr>\n",
       "    <tr>\n",
       "      <th>penalty</th>\n",
       "      <td>l2</td>\n",
       "    </tr>\n",
       "    <tr>\n",
       "      <th>random_state</th>\n",
       "      <td>577</td>\n",
       "    </tr>\n",
       "    <tr>\n",
       "      <th>solver</th>\n",
       "      <td>lbfgs</td>\n",
       "    </tr>\n",
       "    <tr>\n",
       "      <th>tol</th>\n",
       "      <td>0.0001</td>\n",
       "    </tr>\n",
       "    <tr>\n",
       "      <th>verbose</th>\n",
       "      <td>0</td>\n",
       "    </tr>\n",
       "    <tr>\n",
       "      <th>warm_start</th>\n",
       "      <td>False</td>\n",
       "    </tr>\n",
       "  </tbody>\n",
       "</table>\n",
       "</div>"
      ],
      "text/plain": [
       "                  Parameters\n",
       "C                      3.816\n",
       "class_weight        balanced\n",
       "dual                   False\n",
       "fit_intercept           True\n",
       "intercept_scaling          1\n",
       "l1_ratio                None\n",
       "max_iter                1000\n",
       "multi_class             auto\n",
       "n_jobs                  None\n",
       "penalty                   l2\n",
       "random_state             577\n",
       "solver                 lbfgs\n",
       "tol                   0.0001\n",
       "verbose                    0\n",
       "warm_start             False"
      ]
     },
     "metadata": {},
     "output_type": "display_data"
    }
   ],
   "source": [
    "##Plot Parameters\n",
    "plot_model(lr_dt, plot = 'parameter')"
   ]
  },
  {
   "cell_type": "code",
   "execution_count": 87,
   "id": "9d2553f7",
   "metadata": {},
   "outputs": [
    {
     "data": {
      "image/png": "[encoded data removed]",
      "text/plain": [
       "<Figure size 800x500 with 1 Axes>"
      ]
     },
     "metadata": {},
     "output_type": "display_data"
    }
   ],
   "source": [
    "##Plot Features\n",
    "plot_model(lr_dt, plot='feature')"
   ]
  },
  {
   "cell_type": "code",
   "execution_count": 88,
   "id": "081f51eb",
   "metadata": {},
   "outputs": [
    {
     "data": {
      "image/png": "[encoded data removed]",
      "text/plain": [
       "<Figure size 576x396 with 1 Axes>"
      ]
     },
     "metadata": {},
     "output_type": "display_data"
    }
   ],
   "source": [
    "## Accuracy Calculation\n",
    "plot_model(lr_dt,'confusion_matrix')"
   ]
  },
  {
   "cell_type": "code",
   "execution_count": 89,
   "id": "49f79c0c",
   "metadata": {},
   "outputs": [],
   "source": [
    "final_rf = finalize_model(lr_dt)\n",
    "unseen_predictions = predict_model(final_rf, data=test_df[['Risk_Factor_FEI',\n",
    "       'Risk_Factor_Legal_Name', 'Risk_Factor_City', 'Risk_Factor_State','Quarter', 'Month',\n",
    "       'Risk_Factor_Project Area', 'Risk_Factor_Product_Type']])\n",
    "test_df[\"lr\"] = unseen_predictions['Label']\n",
    "test_df[\"lr_score\"] = unseen_predictions['Score']\n",
    "test_df['Final Flag'] = test_df['lr'] + test_df['lightgbm'] +test_df['Xgboost']\n",
    "test_df['Final Flag'] = np.where(test_df['Final Flag']>0,1,0)"
   ]
  },
  {
   "cell_type": "code",
   "execution_count": 90,
   "id": "afb789ed",
   "metadata": {},
   "outputs": [
    {
     "name": "stdout",
     "output_type": "stream",
     "text": [
      "[[2777  439]\n",
      " [ 160   54]]\n",
      "              precision    recall  f1-score   support\n",
      "\n",
      "           0       0.95      0.86      0.90      3216\n",
      "           1       0.11      0.25      0.15       214\n",
      "\n",
      "    accuracy                           0.83      3430\n",
      "   macro avg       0.53      0.56      0.53      3430\n",
      "weighted avg       0.89      0.83      0.86      3430\n",
      "\n"
     ]
    },
    {
     "data": {
      "text/plain": [
       "<AxesSubplot:>"
      ]
     },
     "execution_count": 90,
     "metadata": {},
     "output_type": "execute_result"
    },
    {
     "data": {
      "image/png": "[encoded data removed]",
      "text/plain": [
       "<Figure size 720x576 with 2 Axes>"
      ]
     },
     "metadata": {},
     "output_type": "display_data"
    }
   ],
   "source": [
    "cmap = sn.cubehelix_palette(light=1, as_cmap=True)\n",
    "df_tmp = test_df[['Category OAI','lr']]\n",
    "print(metrics.confusion_matrix(df_tmp['Category OAI'],df_tmp['lr']))\n",
    "print(metrics.classification_report(df_tmp['Category OAI'],df_tmp['lr']))\n",
    "df_temp = pd.DataFrame(metrics.confusion_matrix(df_tmp['Category OAI'],df_tmp['lr']))\n",
    "plt.figure(figsize=(10,8))\n",
    "sn.heatmap(df_temp,annot=True,cmap=cmap, cbar_kws={\"shrink\": .82},\n",
    "                  linewidths=0.1, linecolor='gray')"
   ]
  },
  {
   "cell_type": "code",
   "execution_count": 91,
   "id": "2d6f6a65",
   "metadata": {},
   "outputs": [
    {
     "name": "stdout",
     "output_type": "stream",
     "text": [
      "[[ 620 2596]\n",
      " [  18  196]]\n",
      "              precision    recall  f1-score   support\n",
      "\n",
      "           0       0.97      0.19      0.32      3216\n",
      "           1       0.07      0.92      0.13       214\n",
      "\n",
      "    accuracy                           0.24      3430\n",
      "   macro avg       0.52      0.55      0.23      3430\n",
      "weighted avg       0.92      0.24      0.31      3430\n",
      "\n"
     ]
    },
    {
     "data": {
      "text/plain": [
       "<AxesSubplot:>"
      ]
     },
     "execution_count": 91,
     "metadata": {},
     "output_type": "execute_result"
    },
    {
     "data": {
      "image/png": "[encoded data removed]",
      "text/plain": [
       "<Figure size 720x576 with 2 Axes>"
      ]
     },
     "metadata": {},
     "output_type": "display_data"
    }
   ],
   "source": [
    "cmap = sn.cubehelix_palette(light=1, as_cmap=True)\n",
    "df_tmp = test_df[['Category OAI','Final Flag']]\n",
    "print(metrics.confusion_matrix(df_tmp['Category OAI'],df_tmp['Final Flag']))\n",
    "print(metrics.classification_report(df_tmp['Category OAI'],df_tmp['Final Flag']))\n",
    "df_temp = pd.DataFrame(metrics.confusion_matrix(df_tmp['Category OAI'],df_tmp['Final Flag']))\n",
    "plt.figure(figsize=(10,8))\n",
    "sn.heatmap(df_temp,annot=True,cmap=cmap, cbar_kws={\"shrink\": .82},\n",
    "                  linewidths=0.1, linecolor='gray')"
   ]
  },
  {
   "cell_type": "code",
   "execution_count": 92,
   "id": "d435ec6c",
   "metadata": {},
   "outputs": [],
   "source": [
    "## Model Creation"
   ]
  },
  {
   "cell_type": "code",
   "execution_count": 93,
   "id": "dffbe716",
   "metadata": {},
   "outputs": [],
   "source": [
    "##Xgb"
   ]
  },
  {
   "cell_type": "code",
   "execution_count": 94,
   "id": "6b334ac1",
   "metadata": {},
   "outputs": [],
   "source": [
    "master_data_main_imbalced_class_df['Inspection End Date'] = pd.to_datetime(master_data_main_imbalced_class_df['Inspection End Date'])\n",
    "train_df = master_data_main_imbalced_class_df[master_data_main_imbalced_class_df['Inspection End Date']<'2021-07-01']\n",
    "test_df = master_data_main_imbalced_class_df[master_data_main_imbalced_class_df['Inspection End Date']>'2021-06-30']"
   ]
  },
  {
   "cell_type": "code",
   "execution_count": 95,
   "id": "c5223345",
   "metadata": {},
   "outputs": [],
   "source": [
    "X_train = train_df[['Risk_Factor_FEI','Month', 'Quarter',\n",
    "       'Risk_Factor_Legal_Name', 'Risk_Factor_City', 'Risk_Factor_State',\n",
    "       'Risk_Factor_Project Area', 'Risk_Factor_Product_Type']]\n",
    "y_train = train_df['Category OAI']\n",
    "X_test = test_df[['Risk_Factor_FEI','Month', 'Quarter',\n",
    "       'Risk_Factor_Legal_Name', 'Risk_Factor_City', 'Risk_Factor_State',\n",
    "       'Risk_Factor_Project Area', 'Risk_Factor_Product_Type']]\n",
    "y_test = test_df['Category OAI']\n",
    "col_name_feature = X_train.columns\n",
    "class_name = \"Category OAI\""
   ]
  },
  {
   "cell_type": "code",
   "execution_count": 96,
   "id": "52697366",
   "metadata": {},
   "outputs": [
    {
     "name": "stdout",
     "output_type": "stream",
     "text": [
      "Counter({0: 56686, 1: 6429})\n",
      "Counter({0: 56686, 1: 28343})\n"
     ]
    }
   ],
   "source": [
    "##Imbalance classification Mapping\n",
    "from imblearn.over_sampling import SMOTE \n",
    "from imblearn.under_sampling import RandomUnderSampler\n",
    "from imblearn.pipeline import Pipeline\n",
    "from collections import Counter\n",
    "counter = Counter(y_train)\n",
    "print(counter)\n",
    "over = SMOTE(sampling_strategy=0.5)\n",
    "under = RandomUnderSampler(sampling_strategy=0.5)\n",
    "steps = [('o', over), ('u', under)]\n",
    "pipeline = Pipeline(steps=steps)\n",
    "X, y = pipeline.fit_resample(X_train, y_train)\n",
    "counter = Counter(y)\n",
    "print(counter)"
   ]
  },
  {
   "cell_type": "code",
   "execution_count": 97,
   "id": "82baf13e",
   "metadata": {},
   "outputs": [],
   "source": [
    "#counter = Counter(y_test)\n",
    "#print(counter)\n",
    "#X_test, y_test = pipeline.fit_resample(X_test, y_test)\n",
    "#counter = Counter(y_test)\n",
    "#print(counter)"
   ]
  },
  {
   "cell_type": "markdown",
   "id": "725594cc",
   "metadata": {},
   "source": [
    "<b>Threshold Analysis</b>"
   ]
  },
  {
   "cell_type": "code",
   "execution_count": 98,
   "id": "fbe98a5b",
   "metadata": {},
   "outputs": [
    {
     "name": "stdout",
     "output_type": "stream",
     "text": [
      "Best Threshold=0.050495, G-Mean=0.609\n"
     ]
    },
    {
     "data": {
      "image/png": "[encoded data removed]",
      "text/plain": [
       "<Figure size 576x396 with 1 Axes>"
      ]
     },
     "metadata": {},
     "output_type": "display_data"
    }
   ],
   "source": [
    "# roc curve for logistic regression model with optimal threshold\n",
    "from numpy import sqrt\n",
    "from numpy import argmax\n",
    "from sklearn.datasets import make_classification\n",
    "from sklearn.linear_model import LogisticRegression\n",
    "from sklearn.model_selection import train_test_split\n",
    "from sklearn.metrics import roc_curve\n",
    "from matplotlib import pyplot\n",
    "\n",
    "\n",
    "# fit a model\n",
    "model = LogisticRegression(solver='lbfgs')\n",
    "model.fit(X_train, y_train)\n",
    "# predict probabilities\n",
    "yhat = model.predict_proba(X_test)\n",
    "# keep probabilities for the positive outcome only\n",
    "yhat = yhat[:, 1]\n",
    "# calculate roc curves\n",
    "fpr, tpr, thresholds = roc_curve(y_test, yhat)\n",
    "# calculate the g-mean for each threshold\n",
    "gmeans = sqrt(tpr * (1-fpr))\n",
    "# locate the index of the largest g-mean\n",
    "ix = argmax(gmeans)\n",
    "print('Best Threshold=%f, G-Mean=%.3f' % (thresholds[ix], gmeans[ix]))\n",
    "# plot the roc curve for the model\n",
    "pyplot.plot([0,1], [0,1], linestyle='--', label='No Skill')\n",
    "pyplot.plot(fpr, tpr, marker='.', label='Logistic')\n",
    "pyplot.scatter(fpr[ix], tpr[ix], marker='o', color='black', label='Best')\n",
    "# axis labels\n",
    "pyplot.xlabel('False Positive Rate')\n",
    "pyplot.ylabel('True Positive Rate')\n",
    "pyplot.legend()\n",
    "# show the plot\n",
    "pyplot.show()"
   ]
  },
  {
   "cell_type": "code",
   "execution_count": 99,
   "id": "1ddbf988",
   "metadata": {},
   "outputs": [
    {
     "name": "stdout",
     "output_type": "stream",
     "text": [
      "[[ 0.          0.03187497 -0.09572455  4.54442763  1.81570192  0.19607892\n",
      "   2.16726891 -0.22017025]] [-0.97458548]\n",
      "Index(['Risk_Factor_FEI', 'Month', 'Quarter', 'Risk_Factor_Legal_Name',\n",
      "       'Risk_Factor_City', 'Risk_Factor_State', 'Risk_Factor_Project Area',\n",
      "       'Risk_Factor_Product_Type'],\n",
      "      dtype='object')\n"
     ]
    }
   ],
   "source": [
    "LM_model = LogisticRegression(C=1.0, class_weight={0: 0.5, 1: 99.5},\n",
    "                                          dual=False, fit_intercept=True,\n",
    "                                          intercept_scaling=1, l1_ratio=None,\n",
    "                                          max_iter=100, multi_class='auto',\n",
    "                                          n_jobs=None, penalty='l2',\n",
    "                                          random_state=13, solver='lbfgs',\n",
    "                                          tol=0.0001, verbose=0,\n",
    "                                          warm_start=False)\n",
    "LM_model.fit(X_train,y_train)\n",
    "print(LM_model.coef_, LM_model.intercept_)\n",
    "print(X_train.columns)"
   ]
  },
  {
   "cell_type": "code",
   "execution_count": null,
   "id": "65d98926",
   "metadata": {},
   "outputs": [],
   "source": []
  },
  {
   "cell_type": "code",
   "execution_count": null,
   "id": "671f8a81",
   "metadata": {},
   "outputs": [],
   "source": []
  },
  {
   "cell_type": "markdown",
   "id": "f3370f58",
   "metadata": {},
   "source": [
    "<b>XGBoostClassifier</b>"
   ]
  },
  {
   "cell_type": "code",
   "execution_count": 100,
   "id": "edbb56aa",
   "metadata": {},
   "outputs": [],
   "source": [
    "xgb = XGBClassifier(learning_rate=0.3, n_estimators=10, objective='binary:logistic',\n",
    "                    silent=True, nthread=4,base_score = 0.960,booster = 'gbtree',colsample_bylevel =1,colsample_bynode =1,colsample_bytree =0.9,enable_categorical =False,Gamma=0,gpu_id =-1,\n",
    "                   max_bin =256,max_cat_to_onehot =4,max_delta_step=0,max_depth=1,max_leaves=0,min_child_weight=2,n_jobs =-1,num_parallel_tree=1,predictor=\"auto\",random_state =613,reg_alpha=0.4,\n",
    "                    reg_lambda=0.0001,sampling_method =\"uniform\",scale_pos_weight =18.0,subsample =0.5,tree_method =\"auto\",validate_parameters =1,verbosity=0)"
   ]
  },
  {
   "cell_type": "code",
   "execution_count": 101,
   "id": "b39dea8f",
   "metadata": {},
   "outputs": [
    {
     "data": {
      "text/plain": [
       "XGBClassifier(Gamma=0, base_score=0.96, booster='gbtree', callbacks=None,\n",
       "              colsample_bylevel=1, colsample_bynode=1, colsample_bytree=0.9,\n",
       "              early_stopping_rounds=None, enable_categorical=False,\n",
       "              eval_metric=None, gamma=0, gpu_id=-1, grow_policy='depthwise',\n",
       "              importance_type=None, interaction_constraints='',\n",
       "              learning_rate=0.3, max_bin=256, max_cat_to_onehot=4,\n",
       "              max_delta_step=0, max_depth=1, max_leaves=0, min_child_weight=2,\n",
       "              missing=nan, monotone_constraints='()', n_estimators=10,\n",
       "              n_jobs=-1, nthread=4, num_parallel_tree=1,\n",
       "              objective='binary:logistic', predictor='auto', ...)"
      ]
     },
     "execution_count": 101,
     "metadata": {},
     "output_type": "execute_result"
    }
   ],
   "source": [
    "#X.drop(columns='Category OAI',inplace=True)\n",
    "xgb.fit(X,y)"
   ]
  },
  {
   "cell_type": "code",
   "execution_count": 102,
   "id": "f329e443",
   "metadata": {},
   "outputs": [],
   "source": [
    "y = xgb.predict(X_test)"
   ]
  },
  {
   "cell_type": "code",
   "execution_count": 103,
   "id": "bd7985dd",
   "metadata": {},
   "outputs": [],
   "source": [
    "#test_df[\"xgb_prob\"] = xgb.predict_proba(X_test)\n",
    "test_df[\"xgb_predict\"] = y"
   ]
  },
  {
   "cell_type": "code",
   "execution_count": 104,
   "id": "917da479",
   "metadata": {},
   "outputs": [],
   "source": [
    "test_df[\"xgb_prob\"] = pd.DataFrame(xgb.predict_proba(X_test),columns = [\"0\",\"1\"])[\"1\"]"
   ]
  },
  {
   "cell_type": "code",
   "execution_count": 105,
   "id": "dd5339f8",
   "metadata": {},
   "outputs": [
    {
     "data": {
      "text/html": [
       "<div>\n",
       "<style scoped>\n",
       "    .dataframe tbody tr th:only-of-type {\n",
       "        vertical-align: middle;\n",
       "    }\n",
       "\n",
       "    .dataframe tbody tr th {\n",
       "        vertical-align: top;\n",
       "    }\n",
       "\n",
       "    .dataframe thead th {\n",
       "        text-align: right;\n",
       "    }\n",
       "</style>\n",
       "<table border=\"1\" class=\"dataframe\">\n",
       "  <thead>\n",
       "    <tr style=\"text-align: right;\">\n",
       "      <th></th>\n",
       "      <th>FEI Number</th>\n",
       "      <th>Legal Name</th>\n",
       "      <th>City</th>\n",
       "      <th>State</th>\n",
       "      <th>Inspection ID</th>\n",
       "      <th>Inspection End Date</th>\n",
       "      <th>Month</th>\n",
       "      <th>Quarter</th>\n",
       "      <th>Category OAI</th>\n",
       "      <th>Project Area</th>\n",
       "      <th>Product Type</th>\n",
       "      <th>Risk_Factor_FEI</th>\n",
       "      <th>Risk_Factor_Legal_Name</th>\n",
       "      <th>Risk_Factor_City</th>\n",
       "      <th>Risk_Factor_State</th>\n",
       "      <th>Risk_Factor_Project Area</th>\n",
       "      <th>Risk_Factor_Product_Type</th>\n",
       "      <th>xgb_predict</th>\n",
       "      <th>xgb_prob</th>\n",
       "    </tr>\n",
       "  </thead>\n",
       "  <tbody>\n",
       "    <tr>\n",
       "      <th>0</th>\n",
       "      <td>3007516078</td>\n",
       "      <td>24/7 Seafood Distributor, Corp.</td>\n",
       "      <td>Miami</td>\n",
       "      <td>Florida</td>\n",
       "      <td>1173724</td>\n",
       "      <td>2022-07-06</td>\n",
       "      <td>7</td>\n",
       "      <td>3</td>\n",
       "      <td>0</td>\n",
       "      <td>Foodborne Biological Hazards</td>\n",
       "      <td>Food/Cosmetics</td>\n",
       "      <td>0.0</td>\n",
       "      <td>0.346574</td>\n",
       "      <td>0.918632</td>\n",
       "      <td>1.481191</td>\n",
       "      <td>0.88574</td>\n",
       "      <td>1.164926</td>\n",
       "      <td>1</td>\n",
       "      <td>0.960038</td>\n",
       "    </tr>\n",
       "  </tbody>\n",
       "</table>\n",
       "</div>"
      ],
      "text/plain": [
       "   FEI Number                       Legal Name   City    State Inspection ID  \\\n",
       "0  3007516078  24/7 Seafood Distributor, Corp.  Miami  Florida       1173724   \n",
       "\n",
       "  Inspection End Date  Month  Quarter  Category OAI  \\\n",
       "0          2022-07-06      7        3             0   \n",
       "\n",
       "                   Project Area    Product Type  Risk_Factor_FEI  \\\n",
       "0  Foodborne Biological Hazards  Food/Cosmetics              0.0   \n",
       "\n",
       "   Risk_Factor_Legal_Name  Risk_Factor_City  Risk_Factor_State  \\\n",
       "0                0.346574          0.918632           1.481191   \n",
       "\n",
       "   Risk_Factor_Project Area  Risk_Factor_Product_Type  xgb_predict  xgb_prob  \n",
       "0                   0.88574                  1.164926            1  0.960038  "
      ]
     },
     "execution_count": 105,
     "metadata": {},
     "output_type": "execute_result"
    }
   ],
   "source": [
    "test_df.head(1)"
   ]
  },
  {
   "cell_type": "code",
   "execution_count": 106,
   "id": "ac86fb1c",
   "metadata": {},
   "outputs": [
    {
     "name": "stdout",
     "output_type": "stream",
     "text": [
      "[[ 712 2504]\n",
      " [  19  195]]\n",
      "              precision    recall  f1-score   support\n",
      "\n",
      "           0       0.97      0.22      0.36      3216\n",
      "           1       0.07      0.91      0.13       214\n",
      "\n",
      "    accuracy                           0.26      3430\n",
      "   macro avg       0.52      0.57      0.25      3430\n",
      "weighted avg       0.92      0.26      0.35      3430\n",
      "\n"
     ]
    },
    {
     "data": {
      "text/plain": [
       "<AxesSubplot:>"
      ]
     },
     "execution_count": 106,
     "metadata": {},
     "output_type": "execute_result"
    },
    {
     "data": {
      "image/png": "[encoded data removed]",
      "text/plain": [
       "<Figure size 720x576 with 2 Axes>"
      ]
     },
     "metadata": {},
     "output_type": "display_data"
    }
   ],
   "source": [
    "cmap = sn.cubehelix_palette(light=1, as_cmap=True)\n",
    "df_tmp = test_df[['Category OAI','xgb_predict']]\n",
    "print(metrics.confusion_matrix(df_tmp['Category OAI'],df_tmp['xgb_predict']))\n",
    "print(metrics.classification_report(df_tmp['Category OAI'],df_tmp['xgb_predict']))\n",
    "df_temp = pd.DataFrame(metrics.confusion_matrix(df_tmp['Category OAI'],df_tmp['xgb_predict']))\n",
    "plt.figure(figsize=(10,8))\n",
    "sn.heatmap(df_temp,annot=True,cmap=cmap, cbar_kws={\"shrink\": .82},\n",
    "                  linewidths=0.1, linecolor='gray')"
   ]
  },
  {
   "cell_type": "code",
   "execution_count": 107,
   "id": "ef6fe448",
   "metadata": {},
   "outputs": [],
   "source": [
    "# write the file back\n",
    "test_df.to_excel(\"Final_model_out.xlsx\",sheet_name=\"Dataset\",index=False)"
   ]
  },
  {
   "cell_type": "code",
   "execution_count": 108,
   "id": "b926b891",
   "metadata": {},
   "outputs": [],
   "source": [
    "temp_City.to_excel(\"City_risk_criteria.xlsx\",sheet_name=\"Dataset\",index=False)\n",
    "temp_FEI.to_excel(\"FEI_risk_criteria.xlsx\",sheet_name=\"Dataset\",index=False)\n",
    "temp_ln.to_excel(\"LIcense_Name_risk_criteria.xlsx\",sheet_name=\"Dataset\",index=False)\n",
    "temp_Product_Type.to_excel(\"product_type_risk_criteria.xlsx\",sheet_name=\"Dataset\",index=False)\n",
    "temp_Project_Area.to_excel(\"project_Area_risk_criteria.xlsx\",sheet_name=\"Dataset\",index=False)\n",
    "temp_State.to_excel(\"state_risk_criteria.xlsx\",sheet_name=\"Dataset\",index=False)"
   ]
  },
  {
   "cell_type": "code",
   "execution_count": 109,
   "id": "956e999f",
   "metadata": {},
   "outputs": [],
   "source": [
    "master_data_df = master_data_df.merge(temp_City,how=\"left\",left_on=\"City\",right_on=\"City\")\n",
    "master_data_df = master_data_df.merge(temp_FEI,how=\"left\",left_on=\"FEI Number\",right_on=\"FEI Number\")\n",
    "master_data_df = master_data_df.merge(temp_ln,how=\"left\",right_on=\"Legal Name\",left_on=\"Legal Name\")\n",
    "master_data_df = master_data_df.merge(temp_Product_Type,how=\"left\",right_on=\"Product Type\",left_on=\"Product Type\")\n",
    "master_data_df = master_data_df.merge(temp_Project_Area,how=\"left\",right_on=\"Project Area\",left_on=\"Project Area\")\n",
    "master_data_df = master_data_df.merge(temp_State,how=\"left\",right_on=\"State\",left_on=\"State\")"
   ]
  },
  {
   "cell_type": "code",
   "execution_count": 110,
   "id": "306d313e",
   "metadata": {},
   "outputs": [],
   "source": [
    "master_data_df['FEI Number']=master_data_df['FEI Number'].astype(str)\n",
    "master_data_df.to_excel(\"Ranking_Criteria.xlsx\",sheet_name=\"Master Data\",index=False)"
   ]
  },
  {
   "cell_type": "markdown",
   "id": "9af410e1",
   "metadata": {},
   "source": [
    "#### Balanced tree classifier"
   ]
  },
  {
   "cell_type": "code",
   "execution_count": 111,
   "id": "a7ac3b2b",
   "metadata": {},
   "outputs": [],
   "source": [
    "from sklearn.model_selection import RepeatedStratifiedKFold\n",
    "from sklearn.metrics import plot_confusion_matrix\n",
    "from imblearn.ensemble import BalancedRandomForestClassifier\n",
    "#Build SRF model\n",
    "BRFC = BalancedRandomForestClassifier(n_estimators=150, random_state=2,max_depth=4,bootstrap=False)\n",
    "#Create Stratified K-fold cross validation\n",
    "#Train BRFC\n",
    "BRFC.fit(X_train, y_train)\n",
    "#BRFC prediction result\n",
    "y_pred = BRFC.predict(X_test)"
   ]
  },
  {
   "cell_type": "code",
   "execution_count": 112,
   "id": "4fd179a4",
   "metadata": {},
   "outputs": [],
   "source": [
    "test_df[\"bc_prob\"] = pd.DataFrame(BRFC.predict_proba(X_test),columns = [\"0\",\"1\"])[\"1\"]\n",
    "test_df[\"bc_predict\"] = np.where(test_df['bc_prob']>0.30,1,0)"
   ]
  },
  {
   "cell_type": "code",
   "execution_count": 113,
   "id": "604d3447",
   "metadata": {},
   "outputs": [
    {
     "name": "stdout",
     "output_type": "stream",
     "text": [
      "[[1220 1996]\n",
      " [  53  161]]\n",
      "              precision    recall  f1-score   support\n",
      "\n",
      "           0       0.96      0.38      0.54      3216\n",
      "           1       0.07      0.75      0.14       214\n",
      "\n",
      "    accuracy                           0.40      3430\n",
      "   macro avg       0.52      0.57      0.34      3430\n",
      "weighted avg       0.90      0.40      0.52      3430\n",
      "\n"
     ]
    },
    {
     "data": {
      "text/plain": [
       "<AxesSubplot:>"
      ]
     },
     "execution_count": 113,
     "metadata": {},
     "output_type": "execute_result"
    },
    {
     "data": {
      "image/png": "[encoded data removed]",
      "text/plain": [
       "<Figure size 720x576 with 2 Axes>"
      ]
     },
     "metadata": {},
     "output_type": "display_data"
    }
   ],
   "source": [
    "cmap = sn.cubehelix_palette(light=1, as_cmap=True)\n",
    "df_tmp = test_df[['Category OAI','bc_predict']]\n",
    "print(metrics.confusion_matrix(df_tmp['Category OAI'],df_tmp['bc_predict']))\n",
    "print(metrics.classification_report(df_tmp['Category OAI'],df_tmp['bc_predict']))\n",
    "df_temp = pd.DataFrame(metrics.confusion_matrix(df_tmp['Category OAI'],df_tmp['bc_predict']))\n",
    "plt.figure(figsize=(10,8))\n",
    "sn.heatmap(df_temp,annot=True,cmap=cmap, cbar_kws={\"shrink\": .82},\n",
    "                  linewidths=0.1, linecolor='gray')"
   ]
  },
  {
   "cell_type": "code",
   "execution_count": 114,
   "id": "60812f40",
   "metadata": {},
   "outputs": [
    {
     "data": {
      "text/html": [
       "<div>\n",
       "<style scoped>\n",
       "    .dataframe tbody tr th:only-of-type {\n",
       "        vertical-align: middle;\n",
       "    }\n",
       "\n",
       "    .dataframe tbody tr th {\n",
       "        vertical-align: top;\n",
       "    }\n",
       "\n",
       "    .dataframe thead th {\n",
       "        text-align: right;\n",
       "    }\n",
       "</style>\n",
       "<table border=\"1\" class=\"dataframe\">\n",
       "  <thead>\n",
       "    <tr style=\"text-align: right;\">\n",
       "      <th></th>\n",
       "      <th>FEI Number</th>\n",
       "      <th>Legal Name</th>\n",
       "      <th>City</th>\n",
       "      <th>State</th>\n",
       "      <th>Inspection ID</th>\n",
       "      <th>Inspection End Date</th>\n",
       "      <th>Month</th>\n",
       "      <th>Quarter</th>\n",
       "      <th>Category OAI</th>\n",
       "      <th>Project Area</th>\n",
       "      <th>...</th>\n",
       "      <th>Risk_Factor_FEI</th>\n",
       "      <th>Risk_Factor_Legal_Name</th>\n",
       "      <th>Risk_Factor_City</th>\n",
       "      <th>Risk_Factor_State</th>\n",
       "      <th>Risk_Factor_Project Area</th>\n",
       "      <th>Risk_Factor_Product_Type</th>\n",
       "      <th>xgb_predict</th>\n",
       "      <th>xgb_prob</th>\n",
       "      <th>bc_prob</th>\n",
       "      <th>bc_predict</th>\n",
       "    </tr>\n",
       "  </thead>\n",
       "  <tbody>\n",
       "    <tr>\n",
       "      <th>0</th>\n",
       "      <td>3007516078</td>\n",
       "      <td>24/7 Seafood Distributor, Corp.</td>\n",
       "      <td>Miami</td>\n",
       "      <td>Florida</td>\n",
       "      <td>1173724</td>\n",
       "      <td>2022-07-06</td>\n",
       "      <td>7</td>\n",
       "      <td>3</td>\n",
       "      <td>0</td>\n",
       "      <td>Foodborne Biological Hazards</td>\n",
       "      <td>...</td>\n",
       "      <td>0.0</td>\n",
       "      <td>0.346574</td>\n",
       "      <td>0.918632</td>\n",
       "      <td>1.481191</td>\n",
       "      <td>0.88574</td>\n",
       "      <td>1.164926</td>\n",
       "      <td>1</td>\n",
       "      <td>0.960038</td>\n",
       "      <td>0.741144</td>\n",
       "      <td>1</td>\n",
       "    </tr>\n",
       "  </tbody>\n",
       "</table>\n",
       "<p>1 rows × 21 columns</p>\n",
       "</div>"
      ],
      "text/plain": [
       "   FEI Number                       Legal Name   City    State Inspection ID  \\\n",
       "0  3007516078  24/7 Seafood Distributor, Corp.  Miami  Florida       1173724   \n",
       "\n",
       "  Inspection End Date  Month  Quarter  Category OAI  \\\n",
       "0          2022-07-06      7        3             0   \n",
       "\n",
       "                   Project Area  ... Risk_Factor_FEI  Risk_Factor_Legal_Name  \\\n",
       "0  Foodborne Biological Hazards  ...             0.0                0.346574   \n",
       "\n",
       "   Risk_Factor_City  Risk_Factor_State  Risk_Factor_Project Area  \\\n",
       "0          0.918632           1.481191                   0.88574   \n",
       "\n",
       "   Risk_Factor_Product_Type  xgb_predict  xgb_prob   bc_prob  bc_predict  \n",
       "0                  1.164926            1  0.960038  0.741144           1  \n",
       "\n",
       "[1 rows x 21 columns]"
      ]
     },
     "execution_count": 114,
     "metadata": {},
     "output_type": "execute_result"
    }
   ],
   "source": [
    "test_df.head(1)"
   ]
  },
  {
   "cell_type": "code",
   "execution_count": 115,
   "id": "330006af",
   "metadata": {},
   "outputs": [
    {
     "name": "stdout",
     "output_type": "stream",
     "text": [
      "[[1220 1996]\n",
      " [  53  161]]\n",
      "              precision    recall  f1-score   support\n",
      "\n",
      "           0       0.96      0.38      0.54      3216\n",
      "           1       0.07      0.75      0.14       214\n",
      "\n",
      "    accuracy                           0.40      3430\n",
      "   macro avg       0.52      0.57      0.34      3430\n",
      "weighted avg       0.90      0.40      0.52      3430\n",
      "\n"
     ]
    },
    {
     "data": {
      "text/plain": [
       "<AxesSubplot:>"
      ]
     },
     "execution_count": 115,
     "metadata": {},
     "output_type": "execute_result"
    },
    {
     "data": {
      "image/png": "[encoded data removed]",
      "text/plain": [
       "<Figure size 720x576 with 2 Axes>"
      ]
     },
     "metadata": {},
     "output_type": "display_data"
    }
   ],
   "source": [
    "test_df[\"stack_pred\"] = np.where((test_df['xgb_predict']==1)&(test_df['bc_predict']==1),1,0)\n",
    "cmap = sn.cubehelix_palette(light=1, as_cmap=True)\n",
    "df_tmp = test_df[['Category OAI','stack_pred']]\n",
    "print(metrics.confusion_matrix(df_tmp['Category OAI'],df_tmp['stack_pred']))\n",
    "print(metrics.classification_report(df_tmp['Category OAI'],df_tmp['stack_pred']))\n",
    "df_temp = pd.DataFrame(metrics.confusion_matrix(df_tmp['Category OAI'],df_tmp['stack_pred']))\n",
    "plt.figure(figsize=(10,8))\n",
    "sn.heatmap(df_temp,annot=True,cmap=cmap, cbar_kws={\"shrink\": .82},\n",
    "                  linewidths=0.1, linecolor='gray')"
   ]
  },
  {
   "cell_type": "code",
   "execution_count": 116,
   "id": "ddd25689",
   "metadata": {},
   "outputs": [],
   "source": [
    "# write the file back\n",
    "test_df.to_excel(\"Final_model_out.xlsx\",sheet_name=\"Dataset\",index=False)"
   ]
  },
  {
   "cell_type": "code",
   "execution_count": null,
   "id": "e3978251",
   "metadata": {},
   "outputs": [],
   "source": []
  },
  {
   "cell_type": "code",
   "execution_count": null,
   "id": "8a818a80",
   "metadata": {},
   "outputs": [],
   "source": []
  }
 ],
 "metadata": {
  "kernelspec": {
   "display_name": "Python 3 (ipykernel)",
   "language": "python",
   "name": "python3"
  },
  "language_info": {
   "codemirror_mode": {
    "name": "ipython",
    "version": 3
   },
   "file_extension": ".py",
   "mimetype": "text/x-python",
   "name": "python",
   "nbconvert_exporter": "python",
   "pygments_lexer": "ipython3",
   "version": "3.7.0"
  }
 },
 "nbformat": 4,
 "nbformat_minor": 5
}
